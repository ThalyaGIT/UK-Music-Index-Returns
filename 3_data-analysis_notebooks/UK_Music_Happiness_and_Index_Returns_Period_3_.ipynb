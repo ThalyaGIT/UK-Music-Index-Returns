{
  "cells": [
    {
      "cell_type": "markdown",
      "metadata": {
        "id": "view-in-github",
        "colab_type": "text"
      },
      "source": [
        "<a href=\"https://colab.research.google.com/github/ThalyaGIT/UK-Music-Index-Returns/blob/main/UK_Music_Happiness_and_Index_Returns_Period_3_.ipynb\" target=\"_parent\"><img src=\"https://colab.research.google.com/assets/colab-badge.svg\" alt=\"Open In Colab\"/></a>"
      ]
    },
    {
      "cell_type": "code",
      "execution_count": 90,
      "metadata": {
        "id": "K2au3b8sOvGA"
      },
      "outputs": [],
      "source": [
        "# Import packages\n",
        "import pandas as pd\n",
        "import statsmodels.api as sm\n",
        "import seaborn as sns\n",
        "import matplotlib.pyplot as plt\n",
        "import numpy as np\n"
      ]
    },
    {
      "cell_type": "code",
      "execution_count": 91,
      "metadata": {
        "id": "Xn0nF6QAPn2A"
      },
      "outputs": [],
      "source": [
        "# Open CSV into dataframe\n",
        "#url = 'https://raw.githubusercontent.com/ThalyaGIT/UK-Music-Index-Returns/shift-1/0-data-gold/data.csv' #shift 1\n",
        "url =  'https://raw.githubusercontent.com/ThalyaGIT/UK-Music-Index-Returns/shift-3/0-data-gold/data.csv' #shift 3\n",
        "#url = 'https://raw.githubusercontent.com/ThalyaGIT/UK-Music-Index-Returns/shift-5-instead/0-data-gold/data.csv' #shift 5\n",
        "#url = 'https://raw.githubusercontent.com/ThalyaGIT/Happy-Beats-Stocks/main/0-data-gold/data.csv' #shift 7\n",
        "#url = 'https://raw.githubusercontent.com/ThalyaGIT/UK-Music-Index-Returns/shift-10-again/0-data-gold/data.csv' #shift 10\n",
        "#url = 'https://raw.githubusercontent.com/ThalyaGIT/UK-Music-Index-Returns/shift-15/0-data-gold/data.csv' #shift 15\n",
        "#url = 'https://raw.githubusercontent.com/ThalyaGIT/UK-Music-Index-Returns/shift-20/0-data-gold/data.csv' #shift 20\n",
        "\n",
        "\n",
        "#url = 'https://raw.githubusercontent.com/ThalyaGIT/Happy-Beats-Stocks/volume/0-data-gold/data.csv' #volume\n",
        "\n",
        "df = pd.read_csv(url)\n",
        "\n",
        "# Select columns that will be used\n",
        "df = df[[ 'Date'\n",
        "         , '% FTSE100 Change'                        # Dependent Variable: Weekly % Change in FTSE 100\n",
        "         , '% FTSE250 Change'                        # Dependent Variable: Weekly % Change in FTSE 250\n",
        "         , '% FTSEAllShare Change'                   # Dependent Variable: Weekly % Change in FTSE AllShare\n",
        "         , '% FTSESmallCap Change'                   # Dependent Variable: Weekly % Change in FTSE SmallCap\n",
        "         , '% MSCIUK Change'                         # Dependent Variable:  % Change in MSCIUK\n",
        "         , 'Next Period % MSCIUK Change'             # Dependent Variable: Next Period % Change in MSCIUK\n",
        "         , 'Next Week % FTSE100 Change'              # Dependent Variable 2: Weekly % Change in FTSE 100\n",
        "         , 'Change in SWAV'                          # Independent Variable: Weekly Change in Stream Weighted Average Valence of UK Top Charts on Spotify\n",
        "         , 'ADS_Change'                              # Control 1: Weekly Change in Aruoba-Diebold-Scotti Business Conditions Index\n",
        "         , 'EPU_Change'                              # Control 2: Weekly Change in Economic Policy Uncertainty Index\n",
        "         , 'Previous Week % FTSE100 Change'          # Control 3: Weekly % Change in FTSE 100 from a week before\n",
        "         , 'Previous Week % FTSE250 Change'         # Control 3A: Weekly % Change in FTSE 250 from a week before\n",
        "         , 'Previous Week % FTSEAllShare Change'    # Control 3B: Weekly % Change in FTSE AllShare from a week before\n",
        "         , 'Previous Week % FTSESmallCap Change'    # Control 3C: Weekly % Change in FTSE SmallCap from a week before\n",
        "         , 'Previous Week % MSCIUK Change'          # Control 3D: Weekly % Change in MSCI UK from a week before\n",
        "         , '% MSCI Change'                           # Control 4: Weekly % Change in MSCI World Index\n",
        "         , 'Vix Close'                               # Control 5: Volaitlity Index of the day\n",
        "         , '7D_Rolling_Avg_Change_in_DCC'            # Control 6: Average Change in Deseasonalised Cloud Cover over the Last Week\n",
        "         , 'Stringency_Change'                       # Control 7: Weekly Change in Covid Stringency Rules\n",
        "        # , '% Vol Change'\n",
        "        ]]\n",
        "\n",
        "# Attempt to convert the 'Date' column to datetime, coercing errors to NaT (Not a Time)\n",
        "df['Date'] = pd.to_datetime(df['Date'], errors='coerce')\n",
        "\n",
        "\n",
        "# # Extract the month from the 'Date' column\n",
        "# df['Month'] = df['Date'].dt.month\n",
        "# df['Year'] = df['Date'].dt.year\n",
        "\n",
        "# # Filter for rows where the month is between May (5) and November (11)\n",
        "# df = df[(df['Year'] == 2019)]\n",
        "# df = df[(df['Month'] == 2017)]\n",
        "\n",
        "# df = df[(df['Month'] >= 12) | (df['Month'] <= 4)]\n",
        "\n",
        "\n",
        "\n"
      ]
    },
    {
      "cell_type": "code",
      "execution_count": 92,
      "metadata": {
        "id": "ooLKK8_eVgQP"
      },
      "outputs": [],
      "source": [
        "# Explore Data\n",
        "\n",
        "# # Calculate the correlation matrix\n",
        "# correlation_matrix = df.drop(columns=['Date']).corr()\n",
        "\n",
        "\n",
        "# # Create a heatmap\n",
        "# plt.figure(figsize=(10, 8))\n",
        "# sns.heatmap(correlation_matrix, annot=True, cmap='coolwarm', vmin=-1, vmax=1)\n",
        "# plt.title('Correlation Heatmap of Variables')\n",
        "# plt.show()"
      ]
    },
    {
      "cell_type": "markdown",
      "metadata": {
        "id": "4D4v2bMvV2Ih"
      },
      "source": [
        "# **MSCI UK with No Controlling Variables**"
      ]
    },
    {
      "cell_type": "code",
      "execution_count": 93,
      "metadata": {
        "id": "3qHCM4vZWLh5",
        "colab": {
          "base_uri": "https://localhost:8080/"
        },
        "outputId": "2e7c620f-17fa-435e-c7ae-559ff0a19b3d"
      },
      "outputs": [
        {
          "output_type": "stream",
          "name": "stdout",
          "text": [
            "                            OLS Regression Results                            \n",
            "==============================================================================\n",
            "Dep. Variable:        % MSCIUK Change   R-squared:                       0.001\n",
            "Model:                            OLS   Adj. R-squared:                  0.000\n",
            "Method:                 Least Squares   F-statistic:                     1.105\n",
            "Date:                Tue, 13 Aug 2024   Prob (F-statistic):              0.293\n",
            "Time:                        21:45:18   Log-Likelihood:                -3725.0\n",
            "No. Observations:                1718   AIC:                             7454.\n",
            "Df Residuals:                    1716   BIC:                             7465.\n",
            "Df Model:                           1                                         \n",
            "Covariance Type:            nonrobust                                         \n",
            "==================================================================================\n",
            "                     coef    std err          t      P>|t|      [0.025      0.975]\n",
            "----------------------------------------------------------------------------------\n",
            "const              0.0251      0.051      0.492      0.623      -0.075       0.125\n",
            "Change in SWAV    -3.4544      3.286     -1.051      0.293      -9.899       2.990\n",
            "==============================================================================\n",
            "Omnibus:                      389.099   Durbin-Watson:                   0.691\n",
            "Prob(Omnibus):                  0.000   Jarque-Bera (JB):            17124.649\n",
            "Skew:                          -0.036   Prob(JB):                         0.00\n",
            "Kurtosis:                      18.467   Cond. No.                         64.3\n",
            "==============================================================================\n",
            "\n",
            "Notes:\n",
            "[1] Standard Errors assume that the covariance matrix of the errors is correctly specified.\n"
          ]
        }
      ],
      "source": [
        "# Define dependent and independent variables\n",
        "\n",
        "#  Define the dependent variable\n",
        "y = df[ '% MSCIUK Change' ]\n",
        "\n",
        "# Define the independent variable as 'Weekly Change in Stream Weighted Average Valence of UK Top Charts on Spotify' Only\n",
        "X = df[[ 'Change in SWAV' ]]\n",
        "\n",
        "# Add a constant to the model (intercept)\n",
        "X = sm.add_constant(X)\n",
        "\n",
        "# Build and fit the regression model\n",
        "model = sm.OLS(y, X).fit()\n",
        "\n",
        "# Print the summary of the regression model\n",
        "print(model.summary())"
      ]
    },
    {
      "cell_type": "markdown",
      "source": [
        "# **MSCIUK**"
      ],
      "metadata": {
        "id": "bbZg-_ZK4uSW"
      }
    },
    {
      "cell_type": "code",
      "source": [
        "# Define dependent and independent variables\n",
        "\n",
        "#  Define the dependent variable\n",
        "y = df['% MSCIUK Change']\n",
        "\n",
        "# Define the independent variables, including 'Change in SWAV' and the other control variables\n",
        "X = df[[ 'Change in SWAV'                             # Independent Variable: Weekly Change in Stream Weighted Average Valence of UK Top Charts on Spotify\n",
        "          , 'ADS_Change'                              # Control 1: Weekly Change in Aruoba-Diebold-Scotti Business Conditions Index\n",
        "          , 'EPU_Change'                              # Control 2: Weekly Change in Economic Policy Uncertainty Index\n",
        "          , 'Previous Week % MSCIUK Change'           # Control 3: Weekly % Change in FTSE 100 from a week before\n",
        "          , '% MSCI Change'                           # Control 4: Weekly % Change in MSCI World Index\n",
        "          , 'Vix Close'                               # Control 5: Volaitlity Index of the day\n",
        "          , '7D_Rolling_Avg_Change_in_DCC'            # Control 6: Average Change in Deseasonalised Cloud Cover over the Last Week\n",
        "          , 'Stringency_Change'                       # Control 7: Weekly Change in Covid Stringency Rules\n",
        "          ]]\n",
        "\n",
        "# Add a constant to the model (intercept)\n",
        "X = sm.add_constant(X)\n",
        "\n",
        "# Build and fit the regression model\n",
        "model = sm.OLS(y, X).fit()\n",
        "\n",
        "# Print the summary of the regression model\n",
        "print(model.summary())"
      ],
      "metadata": {
        "colab": {
          "base_uri": "https://localhost:8080/"
        },
        "id": "5OTOnvRx4ucM",
        "outputId": "c9825d83-4806-407e-d4dd-e65d73ef50e4"
      },
      "execution_count": 94,
      "outputs": [
        {
          "output_type": "stream",
          "name": "stdout",
          "text": [
            "                            OLS Regression Results                            \n",
            "==============================================================================\n",
            "Dep. Variable:        % MSCIUK Change   R-squared:                       0.688\n",
            "Model:                            OLS   Adj. R-squared:                  0.687\n",
            "Method:                 Least Squares   F-statistic:                     471.0\n",
            "Date:                Tue, 13 Aug 2024   Prob (F-statistic):               0.00\n",
            "Time:                        21:45:18   Log-Likelihood:                -2725.1\n",
            "No. Observations:                1718   AIC:                             5468.\n",
            "Df Residuals:                    1709   BIC:                             5517.\n",
            "Df Model:                           8                                         \n",
            "Covariance Type:            nonrobust                                         \n",
            "=================================================================================================\n",
            "                                    coef    std err          t      P>|t|      [0.025      0.975]\n",
            "-------------------------------------------------------------------------------------------------\n",
            "const                            -0.0428      0.079     -0.543      0.587      -0.197       0.112\n",
            "Change in SWAV                   -0.7965      1.851     -0.430      0.667      -4.427       2.834\n",
            "ADS_Change                        0.1017      0.048      2.122      0.034       0.008       0.196\n",
            "EPU_Change                       -0.0004      0.000     -2.424      0.015      -0.001   -7.21e-05\n",
            "Previous Week % MSCIUK Change    -0.0585      0.015     -4.009      0.000      -0.087      -0.030\n",
            "% MSCI Change                     0.9573      0.016     58.656      0.000       0.925       0.989\n",
            "Vix Close                        -0.0019      0.004     -0.498      0.618      -0.009       0.006\n",
            "7D_Rolling_Avg_Change_in_DCC      0.0021      0.003      0.704      0.481      -0.004       0.008\n",
            "Stringency_Change                -0.0072      0.057     -0.126      0.900      -0.118       0.104\n",
            "==============================================================================\n",
            "Omnibus:                      217.953   Durbin-Watson:                   0.937\n",
            "Prob(Omnibus):                  0.000   Jarque-Bera (JB):             2092.352\n",
            "Skew:                           0.191   Prob(JB):                         0.00\n",
            "Kurtosis:                       8.393   Cond. No.                     1.20e+04\n",
            "==============================================================================\n",
            "\n",
            "Notes:\n",
            "[1] Standard Errors assume that the covariance matrix of the errors is correctly specified.\n",
            "[2] The condition number is large, 1.2e+04. This might indicate that there are\n",
            "strong multicollinearity or other numerical problems.\n"
          ]
        }
      ]
    },
    {
      "cell_type": "markdown",
      "source": [
        "## **Next Period's MSCI Change**"
      ],
      "metadata": {
        "id": "VuJZxeOl6Kjb"
      }
    },
    {
      "cell_type": "code",
      "source": [
        "# Define dependent and independent variables\n",
        "\n",
        "#  Define the dependent variable\n",
        "y = df['Next Period % MSCIUK Change']\n",
        "\n",
        "# Define the independent variables, including 'Change in SWAV' and the other control variables\n",
        "X = df[[ 'Change in SWAV'                            # Independent Variable: Weekly Change in Stream Weighted Average Valence of UK Top Charts on Spotify\n",
        "         , 'ADS_Change'                              # Control 1: Weekly Change in Aruoba-Diebold-Scotti Business Conditions Index\n",
        "         , 'EPU_Change'                              # Control 2: Weekly Change in Economic Policy Uncertainty Index\n",
        "         , '% MSCIUK Change'                         # Control 3: Weekly % Change in MSCI UK\n",
        "         , '% MSCI Change'                           # Control 4: Weekly % Change in MSCI World Index\n",
        "         , 'Vix Close'                               # Control 5: Volaitlity Index of the day\n",
        "         , '7D_Rolling_Avg_Change_in_DCC'            # Control 6: Average Change in Deseasonalised Cloud Cover over the Last Week\n",
        "         , 'Stringency_Change'                       # Control 7: Weekly Change in Covid Stringency Rules\n",
        "        ]]\n",
        "\n",
        "# Add a constant to the model (intercept)\n",
        "X = sm.add_constant(X)\n",
        "\n",
        "# Build and fit the regression model\n",
        "model = sm.OLS(y, X).fit()\n",
        "\n",
        "# Print the summary of the regression model\n",
        "print(model.summary())"
      ],
      "metadata": {
        "id": "R3_tUndl6KzJ",
        "colab": {
          "base_uri": "https://localhost:8080/"
        },
        "outputId": "3631506e-918e-4805-8a07-f428df8d7a3d"
      },
      "execution_count": 95,
      "outputs": [
        {
          "output_type": "stream",
          "name": "stdout",
          "text": [
            "                                 OLS Regression Results                                \n",
            "=======================================================================================\n",
            "Dep. Variable:     Next Period % MSCIUK Change   R-squared:                       0.044\n",
            "Model:                                     OLS   Adj. R-squared:                  0.040\n",
            "Method:                          Least Squares   F-statistic:                     9.936\n",
            "Date:                         Tue, 13 Aug 2024   Prob (F-statistic):           1.33e-13\n",
            "Time:                                 21:45:18   Log-Likelihood:                -3640.7\n",
            "No. Observations:                         1718   AIC:                             7299.\n",
            "Df Residuals:                             1709   BIC:                             7348.\n",
            "Df Model:                                    8                                         \n",
            "Covariance Type:                     nonrobust                                         \n",
            "================================================================================================\n",
            "                                   coef    std err          t      P>|t|      [0.025      0.975]\n",
            "------------------------------------------------------------------------------------------------\n",
            "const                           -0.0288      0.133     -0.217      0.829      -0.290       0.232\n",
            "Change in SWAV                  -2.3711      3.154     -0.752      0.452      -8.557       3.815\n",
            "ADS_Change                       0.4494      0.082      5.503      0.000       0.289       0.610\n",
            "EPU_Change                       0.0006      0.000      2.301      0.022    9.01e-05       0.001\n",
            "% MSCIUK Change                  0.0826      0.041      2.013      0.044       0.002       0.163\n",
            "% MSCI Change                   -0.0333      0.048     -0.696      0.487      -0.127       0.061\n",
            "Vix Close                        0.0033      0.006      0.513      0.608      -0.009       0.016\n",
            "7D_Rolling_Avg_Change_in_DCC    -0.0015      0.005     -0.291      0.771      -0.011       0.008\n",
            "Stringency_Change                0.6583      0.096      6.850      0.000       0.470       0.847\n",
            "==============================================================================\n",
            "Omnibus:                      309.946   Durbin-Watson:                   0.817\n",
            "Prob(Omnibus):                  0.000   Jarque-Bera (JB):             5664.430\n",
            "Skew:                          -0.267   Prob(JB):                         0.00\n",
            "Kurtosis:                      11.879   Cond. No.                     1.20e+04\n",
            "==============================================================================\n",
            "\n",
            "Notes:\n",
            "[1] Standard Errors assume that the covariance matrix of the errors is correctly specified.\n",
            "[2] The condition number is large, 1.2e+04. This might indicate that there are\n",
            "strong multicollinearity or other numerical problems.\n"
          ]
        }
      ]
    },
    {
      "cell_type": "markdown",
      "source": [
        "# **MSCI UK 2017-2019**"
      ],
      "metadata": {
        "id": "eyA0-jeL5JVA"
      }
    },
    {
      "cell_type": "code",
      "source": [
        "# Define dependent and independent variables\n",
        "\n",
        "# Define the start and end dates for the filter\n",
        "start_date = '2017-01-01'\n",
        "end_date = '2019-12-31'\n",
        "\n",
        "# Filter the DataFrame for dates within the specified range\n",
        "df_period1 = df[(df['Date'] >= start_date) & (df['Date'] <= end_date)]\n",
        "\n",
        "#  Define the dependent variable\n",
        "y = df_period1['% MSCIUK Change']\n",
        "\n",
        "# Define the independent variables, including 'Change in SWAV' and the other control variables\n",
        "X = df_period1[[  'Change in SWAV'                          # Independent Variable: Weekly Change in Stream Weighted Average Valence of UK Top Charts on Spotify\n",
        "                  , 'ADS_Change'                              # Control 1: Weekly Change in Aruoba-Diebold-Scotti Business Conditions Index\n",
        "                  , 'EPU_Change'                              # Control 2: Weekly Change in Economic Policy Uncertainty Index\n",
        "                  , 'Previous Week % MSCIUK Change'          # Control 3: Weekly % Change in FTSE 100 from a week before\n",
        "                  , '% MSCI Change'                           # Control 4: Weekly % Change in MSCI World Index\n",
        "                  , 'Vix Close'                               # Control 5: Volaitlity Index of the day\n",
        "                  , '7D_Rolling_Avg_Change_in_DCC'            # Control 6: Average Change in Deseasonalised Cloud Cover over the Last Week\n",
        "                  , 'Stringency_Change'                       # Control 7: Weekly Change in Covid Stringency Rules\n",
        "                  ]]\n",
        "\n",
        "# Add a constant to the model (intercept)\n",
        "X = sm.add_constant(X)\n",
        "\n",
        "# Build and fit the regression model\n",
        "model = sm.OLS(y, X).fit()\n",
        "\n",
        "# Print the summary of the regression model\n",
        "print(model.summary())"
      ],
      "metadata": {
        "colab": {
          "base_uri": "https://localhost:8080/"
        },
        "id": "DSZMZxZh5KBY",
        "outputId": "65fd9f50-c4e1-4533-cd65-0a8c62ca19b8"
      },
      "execution_count": 96,
      "outputs": [
        {
          "output_type": "stream",
          "name": "stdout",
          "text": [
            "                            OLS Regression Results                            \n",
            "==============================================================================\n",
            "Dep. Variable:        % MSCIUK Change   R-squared:                       0.639\n",
            "Model:                            OLS   Adj. R-squared:                  0.635\n",
            "Method:                 Least Squares   F-statistic:                     183.8\n",
            "Date:                Tue, 13 Aug 2024   Prob (F-statistic):          3.29e-156\n",
            "Time:                        21:45:18   Log-Likelihood:                -908.23\n",
            "No. Observations:                 736   AIC:                             1832.\n",
            "Df Residuals:                     728   BIC:                             1869.\n",
            "Df Model:                           7                                         \n",
            "Covariance Type:            nonrobust                                         \n",
            "=================================================================================================\n",
            "                                    coef    std err          t      P>|t|      [0.025      0.975]\n",
            "-------------------------------------------------------------------------------------------------\n",
            "const                            -0.2660      0.127     -2.088      0.037      -0.516      -0.016\n",
            "Change in SWAV                   -1.6762      2.210     -0.759      0.448      -6.014       2.662\n",
            "ADS_Change                       -1.1112      0.522     -2.128      0.034      -2.136      -0.086\n",
            "EPU_Change                    -9.644e-05      0.000     -0.521      0.603      -0.000       0.000\n",
            "Previous Week % MSCIUK Change    -0.0312      0.023     -1.333      0.183      -0.077       0.015\n",
            "% MSCI Change                     0.9452      0.029     32.763      0.000       0.889       1.002\n",
            "Vix Close                         0.0138      0.008      1.628      0.104      -0.003       0.030\n",
            "7D_Rolling_Avg_Change_in_DCC     -0.0003      0.003     -0.106      0.916      -0.006       0.006\n",
            "Stringency_Change                      0          0        nan        nan           0           0\n",
            "==============================================================================\n",
            "Omnibus:                       87.488   Durbin-Watson:                   0.888\n",
            "Prob(Omnibus):                  0.000   Jarque-Bera (JB):              222.837\n",
            "Skew:                          -0.629   Prob(JB):                     4.09e-49\n",
            "Kurtosis:                       5.384   Cond. No.                          inf\n",
            "==============================================================================\n",
            "\n",
            "Notes:\n",
            "[1] Standard Errors assume that the covariance matrix of the errors is correctly specified.\n",
            "[2] The smallest eigenvalue is      0. This might indicate that there are\n",
            "strong multicollinearity problems or that the design matrix is singular.\n"
          ]
        },
        {
          "output_type": "stream",
          "name": "stderr",
          "text": [
            "/usr/local/lib/python3.10/dist-packages/statsmodels/regression/linear_model.py:1967: RuntimeWarning: divide by zero encountered in scalar divide\n",
            "  return np.sqrt(eigvals[0]/eigvals[-1])\n"
          ]
        }
      ]
    },
    {
      "cell_type": "markdown",
      "source": [
        "# **MSCI UK 2020-2023**"
      ],
      "metadata": {
        "id": "ZXZIg3X26r5V"
      }
    },
    {
      "cell_type": "code",
      "source": [
        "# Define dependent and independent variables\n",
        "\n",
        "# Define the start and end dates for the filter\n",
        "start_date = '2020-01-01'\n",
        "end_date = '2023-12-31'\n",
        "\n",
        "# Filter the DataFrame for dates within the specified range\n",
        "df_period2 = df[(df['Date'] >= start_date) & (df['Date'] <= end_date)]\n",
        "\n",
        "#  Define the dependent variable\n",
        "y = df_period2['% MSCIUK Change']\n",
        "\n",
        "# Define the independent variables, including 'Change in SWAV' and the other control variables\n",
        "X = df_period2[[ 'Change in SWAV'                           # Independent Variable: Weekly Change in Stream Weighted Average Valence of UK Top Charts on Spotify\n",
        "                , 'ADS_Change'                              # Control 1: Weekly Change in Aruoba-Diebold-Scotti Business Conditions Index\n",
        "                , 'EPU_Change'                              # Control 2: Weekly Change in Economic Policy Uncertainty Index\n",
        "                , 'Previous Week % MSCIUK Change'          # Control 3: Weekly % Change in FTSE 100 from a week before\n",
        "                , '% MSCI Change'                           # Control 4: Weekly % Change in MSCI World Index\n",
        "                , 'Vix Close'                               # Control 5: Volaitlity Index of the day\n",
        "                , '7D_Rolling_Avg_Change_in_DCC'            # Control 6: Average Change in Deseasonalised Cloud Cover over the Last Week\n",
        "                , 'Stringency_Change'                       # Control 7: Weekly Change in Covid Stringency Rules\n",
        "                ]]\n",
        "\n",
        "# Add a constant to the model (intercept)\n",
        "X = sm.add_constant(X)\n",
        "\n",
        "# Build and fit the regression model\n",
        "model = sm.OLS(y, X).fit()\n",
        "\n",
        "# Print the summary of the regression model\n",
        "print(model.summary())"
      ],
      "metadata": {
        "colab": {
          "base_uri": "https://localhost:8080/"
        },
        "id": "OBa3TQ4f6sPs",
        "outputId": "5d829f36-443c-45fe-bf42-4553d5b098ee"
      },
      "execution_count": 97,
      "outputs": [
        {
          "output_type": "stream",
          "name": "stdout",
          "text": [
            "                            OLS Regression Results                            \n",
            "==============================================================================\n",
            "Dep. Variable:        % MSCIUK Change   R-squared:                       0.701\n",
            "Model:                            OLS   Adj. R-squared:                  0.698\n",
            "Method:                 Least Squares   F-statistic:                     284.9\n",
            "Date:                Tue, 13 Aug 2024   Prob (F-statistic):          7.04e-249\n",
            "Time:                        21:45:18   Log-Likelihood:                -1712.4\n",
            "No. Observations:                 982   AIC:                             3443.\n",
            "Df Residuals:                     973   BIC:                             3487.\n",
            "Df Model:                           8                                         \n",
            "Covariance Type:            nonrobust                                         \n",
            "=================================================================================================\n",
            "                                    coef    std err          t      P>|t|      [0.025      0.975]\n",
            "-------------------------------------------------------------------------------------------------\n",
            "const                             0.0062      0.141      0.044      0.965      -0.270       0.282\n",
            "Change in SWAV                   -0.2770      2.701     -0.103      0.918      -5.577       5.023\n",
            "ADS_Change                        0.1032      0.057      1.818      0.069      -0.008       0.215\n",
            "EPU_Change                       -0.0005      0.000     -2.356      0.019      -0.001   -8.95e-05\n",
            "Previous Week % MSCIUK Change    -0.0663      0.019     -3.452      0.001      -0.104      -0.029\n",
            "% MSCI Change                     0.9609      0.021     45.239      0.000       0.919       1.003\n",
            "Vix Close                        -0.0042      0.006     -0.721      0.471      -0.016       0.007\n",
            "7D_Rolling_Avg_Change_in_DCC      0.0036      0.005      0.792      0.429      -0.005       0.013\n",
            "Stringency_Change                 0.0017      0.068      0.025      0.980      -0.131       0.135\n",
            "==============================================================================\n",
            "Omnibus:                      117.357   Durbin-Watson:                   0.958\n",
            "Prob(Omnibus):                  0.000   Jarque-Bera (JB):              746.203\n",
            "Skew:                           0.323   Prob(JB):                    9.21e-163\n",
            "Kurtosis:                       7.221   Cond. No.                     1.20e+04\n",
            "==============================================================================\n",
            "\n",
            "Notes:\n",
            "[1] Standard Errors assume that the covariance matrix of the errors is correctly specified.\n",
            "[2] The condition number is large, 1.2e+04. This might indicate that there are\n",
            "strong multicollinearity or other numerical problems.\n"
          ]
        }
      ]
    },
    {
      "cell_type": "markdown",
      "metadata": {
        "id": "m-NWl8zvYqAJ"
      },
      "source": [
        "## Findings\n",
        "\n",
        "**Low Explanatory Power:** The model has an R-squared of 0.006, indicating a poor fit.\n",
        "\n",
        "**Significant Negative Effect:** Change in SWAV significantly decreases FTSE 100 change (coefficient = -11.5132, p < 0.001).\n",
        "\n",
        "**Model Significance:** The model is statistically significant (F-statistic = 24.10, p < 0.001).\n",
        "\n",
        "**Non-Significant Intercept:** The constant term is not significant (p = 0.508).\n",
        "\n",
        "**Residual Issues:** Residuals show non-normality and autocorrelation, indicating model assumption problems."
      ]
    },
    {
      "cell_type": "markdown",
      "metadata": {
        "id": "-F-YLeLCWO1j"
      },
      "source": [
        "# **FTSE100**\n",
        "\n",
        "\n"
      ]
    },
    {
      "cell_type": "code",
      "execution_count": 98,
      "metadata": {
        "id": "90BZWX8jUnkY",
        "colab": {
          "base_uri": "https://localhost:8080/"
        },
        "outputId": "07eb158f-b2aa-44e1-899e-98d219abb96c"
      },
      "outputs": [
        {
          "output_type": "stream",
          "name": "stdout",
          "text": [
            "                            OLS Regression Results                            \n",
            "==============================================================================\n",
            "Dep. Variable:       % FTSE100 Change   R-squared:                       0.550\n",
            "Model:                            OLS   Adj. R-squared:                  0.548\n",
            "Method:                 Least Squares   F-statistic:                     260.8\n",
            "Date:                Tue, 13 Aug 2024   Prob (F-statistic):          1.49e-289\n",
            "Time:                        21:45:18   Log-Likelihood:                -2695.1\n",
            "No. Observations:                1718   AIC:                             5408.\n",
            "Df Residuals:                    1709   BIC:                             5457.\n",
            "Df Model:                           8                                         \n",
            "Covariance Type:            nonrobust                                         \n",
            "==================================================================================================\n",
            "                                     coef    std err          t      P>|t|      [0.025      0.975]\n",
            "--------------------------------------------------------------------------------------------------\n",
            "const                              0.0369      0.077      0.477      0.634      -0.115       0.189\n",
            "Change in SWAV                    -4.2058      1.819     -2.312      0.021      -7.774      -0.638\n",
            "ADS_Change                         0.2072      0.047      4.371      0.000       0.114       0.300\n",
            "EPU_Change                        -0.0002      0.000     -1.152      0.250      -0.000       0.000\n",
            "Previous Week % FTSE100 Change    -0.0827      0.017     -4.892      0.000      -0.116      -0.050\n",
            "% MSCI Change                      0.6868      0.016     42.939      0.000       0.655       0.718\n",
            "Vix Close                         -0.0047      0.004     -1.268      0.205      -0.012       0.003\n",
            "7D_Rolling_Avg_Change_in_DCC       0.0004      0.003      0.129      0.897      -0.005       0.006\n",
            "Stringency_Change                  0.1638      0.056      2.939      0.003       0.054       0.273\n",
            "==============================================================================\n",
            "Omnibus:                      131.176   Durbin-Watson:                   0.838\n",
            "Prob(Omnibus):                  0.000   Jarque-Bera (JB):              591.169\n",
            "Skew:                           0.200   Prob(JB):                    4.26e-129\n",
            "Kurtosis:                       5.846   Cond. No.                     1.20e+04\n",
            "==============================================================================\n",
            "\n",
            "Notes:\n",
            "[1] Standard Errors assume that the covariance matrix of the errors is correctly specified.\n",
            "[2] The condition number is large, 1.2e+04. This might indicate that there are\n",
            "strong multicollinearity or other numerical problems.\n"
          ]
        }
      ],
      "source": [
        "import pandas as pd\n",
        "import statsmodels.api as sm\n",
        "\n",
        "# Define the dependent variable\n",
        "y = df['% FTSE100 Change']\n",
        "\n",
        "# Define the independent variables, including 'Change in SWAV' and the other control variables\n",
        "X = df[[ 'Change in SWAV',                          # Independent Variable: Weekly Change in Stream Weighted Average Valence of UK Top Charts on Spotify\n",
        "         'ADS_Change',                              # Control 1: Weekly Change in Aruoba-Diebold-Scotti Business Conditions Index\n",
        "         'EPU_Change',                              # Control 2: Weekly Change in Economic Policy Uncertainty Index\n",
        "         'Previous Week % FTSE100 Change',          # Control 3: Weekly % Change in FTSE 100 from a week before\n",
        "         '% MSCI Change',                           # Control 4: Weekly % Change in MSCI World Index\n",
        "         'Vix Close',                               # Control 5: Volaitlity Index of the day\n",
        "         '7D_Rolling_Avg_Change_in_DCC',            # Control 6: Average Change in Deseasonalised Cloud Cover over the Last Week\n",
        "         'Stringency_Change'                        # Control 7: Weekly Change in Covid Stringency Rules\n",
        "]]\n",
        "\n",
        "# Add a constant to the model (intercept)\n",
        "X = sm.add_constant(X)\n",
        "\n",
        "# Fit the regression model\n",
        "model = sm.OLS(y, X).fit()\n",
        "\n",
        "# Print the summary of the regression model\n",
        "print(model.summary())"
      ]
    },
    {
      "cell_type": "markdown",
      "source": [
        "# **FTSE100 without MSCI as a Control**"
      ],
      "metadata": {
        "id": "nrmYpsRj430I"
      }
    },
    {
      "cell_type": "code",
      "source": [
        "# Define dependent and independent variables\n",
        "\n",
        "# #  Define the dependent variable\n",
        "y = df['% FTSE100 Change']\n",
        "\n",
        "# Define the independent variables, including 'Change in SWAV' and the other control variables\n",
        "X = df[[ 'Change in SWAV'                          # Independent Variable: Weekly Change in Stream Weighted Average Valence of UK Top Charts on Spotify\n",
        "         , 'ADS_Change'                              # Control 1: Weekly Change in Aruoba-Diebold-Scotti Business Conditions Index\n",
        "         , 'EPU_Change'                              # Control 2: Weekly Change in Economic Policy Uncertainty Index\n",
        "         , 'Previous Week % FTSE100 Change'          # Control 3: Weekly % Change in FTSE 100 from a week before\n",
        "         #, '% MSCI Change'                           # Control 4: Weekly % Change in MSCI World Index\n",
        "         , 'Vix Close'                               # Control 5: Volaitlity Index of the day\n",
        "         , '7D_Rolling_Avg_Change_in_DCC'            # Control 6: Average Change in Deseasonalised Cloud Cover over the Last Week\n",
        "         , 'Stringency_Change'                       # Control 7: Weekly Change in Covid Stringency Rules\n",
        "        ]]\n",
        "\n",
        "# Add a constant to the model (intercept)\n",
        "X = sm.add_constant(X)\n",
        "\n",
        "# Build and fit the regression model\n",
        "model = sm.OLS(y, X).fit()\n",
        "\n",
        "# Print the summary of the regression model\n",
        "print(model.summary())"
      ],
      "metadata": {
        "colab": {
          "base_uri": "https://localhost:8080/"
        },
        "id": "yzBa2KHZ5B-A",
        "outputId": "3f1630d1-cfe8-4918-ea1c-51221501cd4a"
      },
      "execution_count": 99,
      "outputs": [
        {
          "output_type": "stream",
          "name": "stdout",
          "text": [
            "                            OLS Regression Results                            \n",
            "==============================================================================\n",
            "Dep. Variable:       % FTSE100 Change   R-squared:                       0.064\n",
            "Model:                            OLS   Adj. R-squared:                  0.060\n",
            "Method:                 Least Squares   F-statistic:                     16.66\n",
            "Date:                Tue, 13 Aug 2024   Prob (F-statistic):           2.19e-21\n",
            "Time:                        21:45:18   Log-Likelihood:                -3323.8\n",
            "No. Observations:                1718   AIC:                             6664.\n",
            "Df Residuals:                    1710   BIC:                             6707.\n",
            "Df Model:                           7                                         \n",
            "Covariance Type:            nonrobust                                         \n",
            "==================================================================================================\n",
            "                                     coef    std err          t      P>|t|      [0.025      0.975]\n",
            "--------------------------------------------------------------------------------------------------\n",
            "const                              0.7631      0.109      7.013      0.000       0.550       0.977\n",
            "Change in SWAV                    -5.5940      2.622     -2.134      0.033     -10.736      -0.452\n",
            "ADS_Change                         0.4440      0.068      6.543      0.000       0.311       0.577\n",
            "EPU_Change                        -0.0004      0.000     -1.727      0.084      -0.001    5.17e-05\n",
            "Previous Week % FTSE100 Change    -0.0585      0.024     -2.401      0.016      -0.106      -0.011\n",
            "Vix Close                         -0.0385      0.005     -7.350      0.000      -0.049      -0.028\n",
            "7D_Rolling_Avg_Change_in_DCC       0.0007      0.004      0.162      0.871      -0.007       0.009\n",
            "Stringency_Change                  0.2624      0.080      3.269      0.001       0.105       0.420\n",
            "==============================================================================\n",
            "Omnibus:                      465.303   Durbin-Watson:                   0.716\n",
            "Prob(Omnibus):                  0.000   Jarque-Bera (JB):            13259.869\n",
            "Skew:                           0.641   Prob(JB):                         0.00\n",
            "Kurtosis:                      16.550   Cond. No.                     1.20e+04\n",
            "==============================================================================\n",
            "\n",
            "Notes:\n",
            "[1] Standard Errors assume that the covariance matrix of the errors is correctly specified.\n",
            "[2] The condition number is large, 1.2e+04. This might indicate that there are\n",
            "strong multicollinearity or other numerical problems.\n"
          ]
        }
      ]
    },
    {
      "cell_type": "markdown",
      "source": [
        "# **FTSE 250 Mid Cap**"
      ],
      "metadata": {
        "id": "1-4LBAcz3xNt"
      }
    },
    {
      "cell_type": "code",
      "source": [
        "# Define dependent and independent variables\n",
        "\n",
        "\n",
        "#  Define the dependent variable\n",
        "y = df['% FTSE250 Change']\n",
        "\n",
        "# Define the independent variables, including 'Change in SWAV' and the other control variables\n",
        "X = df[[ 'Change in SWAV'                           # Independent Variable: Weekly Change in Stream Weighted Average Valence of UK Top Charts on Spotify\n",
        "          , 'ADS_Change'                              # Control 1: Weekly Change in Aruoba-Diebold-Scotti Business Conditions Index\n",
        "          , 'EPU_Change'                              # Control 2: Weekly Change in Economic Policy Uncertainty Index\n",
        "          , 'Previous Week % FTSE250 Change'          # Control 3: Weekly % Change in FTSE 100 from a week before\n",
        "          , '% MSCI Change'                           # Control 4: Weekly % Change in MSCI World Index\n",
        "          , 'Vix Close'                               # Control 5: Volaitlity Index of the day\n",
        "          , '7D_Rolling_Avg_Change_in_DCC'            # Control 6: Average Change in Deseasonalised Cloud Cover over the Last Week\n",
        "          , 'Stringency_Change'                       # Control 7: Weekly Change in Covid Stringency Rules\n",
        "          ]]\n",
        "\n",
        "# Add a constant to the model (intercept)\n",
        "X = sm.add_constant(X)\n",
        "\n",
        "# Build and fit the regression model\n",
        "model = sm.OLS(y, X).fit()\n",
        "\n",
        "# Print the summary of the regression model\n",
        "print(model.summary())"
      ],
      "metadata": {
        "colab": {
          "base_uri": "https://localhost:8080/"
        },
        "id": "fAH0o0223xcy",
        "outputId": "f375b387-7df7-4f18-f7a8-76548c490ed1"
      },
      "execution_count": 100,
      "outputs": [
        {
          "output_type": "stream",
          "name": "stdout",
          "text": [
            "                            OLS Regression Results                            \n",
            "==============================================================================\n",
            "Dep. Variable:       % FTSE250 Change   R-squared:                       0.616\n",
            "Model:                            OLS   Adj. R-squared:                  0.614\n",
            "Method:                 Least Squares   F-statistic:                     342.7\n",
            "Date:                Tue, 13 Aug 2024   Prob (F-statistic):               0.00\n",
            "Time:                        21:45:18   Log-Likelihood:                -2845.1\n",
            "No. Observations:                1718   AIC:                             5708.\n",
            "Df Residuals:                    1709   BIC:                             5757.\n",
            "Df Model:                           8                                         \n",
            "Covariance Type:            nonrobust                                         \n",
            "==================================================================================================\n",
            "                                     coef    std err          t      P>|t|      [0.025      0.975]\n",
            "--------------------------------------------------------------------------------------------------\n",
            "const                              0.1612      0.084      1.911      0.056      -0.004       0.327\n",
            "Change in SWAV                    -0.3652      1.985     -0.184      0.854      -4.258       3.528\n",
            "ADS_Change                         0.2647      0.052      5.128      0.000       0.163       0.366\n",
            "EPU_Change                        -0.0003      0.000     -1.522      0.128      -0.001    7.34e-05\n",
            "Previous Week % FTSE250 Change    -0.0627      0.016     -3.909      0.000      -0.094      -0.031\n",
            "% MSCI Change                      0.8557      0.018     48.890      0.000       0.821       0.890\n",
            "Vix Close                         -0.0116      0.004     -2.864      0.004      -0.020      -0.004\n",
            "7D_Rolling_Avg_Change_in_DCC      -0.0023      0.003     -0.737      0.461      -0.009       0.004\n",
            "Stringency_Change                  0.1087      0.062      1.760      0.079      -0.012       0.230\n",
            "==============================================================================\n",
            "Omnibus:                      269.433   Durbin-Watson:                   0.904\n",
            "Prob(Omnibus):                  0.000   Jarque-Bera (JB):             4181.670\n",
            "Skew:                          -0.135   Prob(JB):                         0.00\n",
            "Kurtosis:                      10.638   Cond. No.                     1.20e+04\n",
            "==============================================================================\n",
            "\n",
            "Notes:\n",
            "[1] Standard Errors assume that the covariance matrix of the errors is correctly specified.\n",
            "[2] The condition number is large, 1.2e+04. This might indicate that there are\n",
            "strong multicollinearity or other numerical problems.\n"
          ]
        }
      ]
    },
    {
      "cell_type": "markdown",
      "source": [
        "# **FTSE Small Cap**"
      ],
      "metadata": {
        "id": "BxyaRVs74jzk"
      }
    },
    {
      "cell_type": "code",
      "source": [
        "# Define dependent and independent variables\n",
        "\n",
        "#  Define the dependent variable\n",
        "y = df['% FTSESmallCap Change']\n",
        "\n",
        "# Define the independent variables, including 'Change in SWAV' and the other control variables\n",
        "X = df[[ 'Change in SWAV'                           # Independent Variable: Weekly Change in Stream Weighted Average Valence of UK Top Charts on Spotify\n",
        "                , 'ADS_Change'                              # Control 1: Weekly Change in Aruoba-Diebold-Scotti Business Conditions Index\n",
        "                , 'EPU_Change'                              # Control 2: Weekly Change in Economic Policy Uncertainty Index\n",
        "                , 'Previous Week % FTSESmallCap Change'          # Control 3: Weekly % Change in FTSE 100 from a week before\n",
        "                , '% MSCI Change'                           # Control 4: Weekly % Change in MSCI World Index\n",
        "                , 'Vix Close'                               # Control 5: Volaitlity Index of the day\n",
        "                , '7D_Rolling_Avg_Change_in_DCC'            # Control 6: Average Change in Deseasonalised Cloud Cover over the Last Week\n",
        "                , 'Stringency_Change'                       # Control 7: Weekly Change in Covid Stringency Rules\n",
        "                ]]\n",
        "\n",
        "# Add a constant to the model (intercept)\n",
        "X = sm.add_constant(X)\n",
        "\n",
        "# Build and fit the regression model\n",
        "model = sm.OLS(y, X).fit()\n",
        "\n",
        "# Print the summary of the regression model\n",
        "print(model.summary())"
      ],
      "metadata": {
        "colab": {
          "base_uri": "https://localhost:8080/"
        },
        "id": "MtZG91-94j6l",
        "outputId": "02e8d6dd-b9dd-4088-f65e-90bbd64dee32"
      },
      "execution_count": 101,
      "outputs": [
        {
          "output_type": "stream",
          "name": "stdout",
          "text": [
            "                              OLS Regression Results                             \n",
            "=================================================================================\n",
            "Dep. Variable:     % FTSESmallCap Change   R-squared:                       0.584\n",
            "Model:                               OLS   Adj. R-squared:                  0.582\n",
            "Method:                    Least Squares   F-statistic:                     299.9\n",
            "Date:                   Tue, 13 Aug 2024   Prob (F-statistic):          6.62e-319\n",
            "Time:                           21:45:18   Log-Likelihood:                -2517.0\n",
            "No. Observations:                   1718   AIC:                             5052.\n",
            "Df Residuals:                       1709   BIC:                             5101.\n",
            "Df Model:                              8                                         \n",
            "Covariance Type:               nonrobust                                         \n",
            "=======================================================================================================\n",
            "                                          coef    std err          t      P>|t|      [0.025      0.975]\n",
            "-------------------------------------------------------------------------------------------------------\n",
            "const                                   0.1650      0.070      2.363      0.018       0.028       0.302\n",
            "Change in SWAV                          1.4778      1.640      0.901      0.368      -1.739       4.694\n",
            "ADS_Change                              0.2487      0.043      5.824      0.000       0.165       0.332\n",
            "EPU_Change                             -0.0002      0.000     -1.686      0.092      -0.001     3.8e-05\n",
            "Previous Week % FTSESmallCap Change     0.0924      0.017      5.363      0.000       0.059       0.126\n",
            "% MSCI Change                           0.6303      0.014     43.684      0.000       0.602       0.659\n",
            "Vix Close                              -0.0101      0.003     -3.004      0.003      -0.017      -0.003\n",
            "7D_Rolling_Avg_Change_in_DCC           -0.0035      0.003     -1.336      0.182      -0.009       0.002\n",
            "Stringency_Change                       0.0513      0.052      0.984      0.325      -0.051       0.154\n",
            "==============================================================================\n",
            "Omnibus:                      626.928   Durbin-Watson:                   0.866\n",
            "Prob(Omnibus):                  0.000   Jarque-Bera (JB):            36748.810\n",
            "Skew:                          -0.884   Prob(JB):                         0.00\n",
            "Kurtosis:                      25.589   Cond. No.                     1.20e+04\n",
            "==============================================================================\n",
            "\n",
            "Notes:\n",
            "[1] Standard Errors assume that the covariance matrix of the errors is correctly specified.\n",
            "[2] The condition number is large, 1.2e+04. This might indicate that there are\n",
            "strong multicollinearity or other numerical problems.\n"
          ]
        }
      ]
    },
    {
      "cell_type": "markdown",
      "source": [
        "# **FTSE All Share**"
      ],
      "metadata": {
        "id": "rEB_QO0r4AnW"
      }
    },
    {
      "cell_type": "code",
      "source": [
        "# Define dependent and independent variables\n",
        "\n",
        "#  Define the dependent variable\n",
        "y = df['% FTSEAllShare Change']\n",
        "\n",
        "# Define the independent variables, including 'Change in SWAV' and the other control variables\n",
        "X = df[[ 'Change in SWAV'                           # Independent Variable: Weekly Change in Stream Weighted Average Valence of UK Top Charts on Spotify\n",
        "                , 'ADS_Change'                              # Control 1: Weekly Change in Aruoba-Diebold-Scotti Business Conditions Index\n",
        "                , 'EPU_Change'                              # Control 2: Weekly Change in Economic Policy Uncertainty Index\n",
        "                , 'Previous Week % FTSEAllShare Change'          # Control 3: Weekly % Change in FTSE 100 from a week before\n",
        "                , '% MSCI Change'                           # Control 4: Weekly % Change in MSCI World Index\n",
        "                , 'Vix Close'                               # Control 5: Volaitlity Index of the day\n",
        "                , '7D_Rolling_Avg_Change_in_DCC'            # Control 6: Average Change in Deseasonalised Cloud Cover over the Last Week\n",
        "                , 'Stringency_Change'                       # Control 7: Weekly Change in Covid Stringency Rules\n",
        "                ]]\n",
        "\n",
        "# Add a constant to the model (intercept)\n",
        "X = sm.add_constant(X)\n",
        "\n",
        "# Build and fit the regression model\n",
        "model = sm.OLS(y, X).fit()\n",
        "\n",
        "# Print the summary of the regression model\n",
        "print(model.summary())"
      ],
      "metadata": {
        "colab": {
          "base_uri": "https://localhost:8080/"
        },
        "id": "W3W-jUUC4BCS",
        "outputId": "ab526607-fa0a-46de-fd87-6a03404038cf"
      },
      "execution_count": 102,
      "outputs": [
        {
          "output_type": "stream",
          "name": "stdout",
          "text": [
            "                              OLS Regression Results                             \n",
            "=================================================================================\n",
            "Dep. Variable:     % FTSEAllShare Change   R-squared:                       0.598\n",
            "Model:                               OLS   Adj. R-squared:                  0.596\n",
            "Method:                    Least Squares   F-statistic:                     317.4\n",
            "Date:                   Tue, 13 Aug 2024   Prob (F-statistic):               0.00\n",
            "Time:                           21:45:18   Log-Likelihood:                -2585.3\n",
            "No. Observations:                   1718   AIC:                             5189.\n",
            "Df Residuals:                       1709   BIC:                             5238.\n",
            "Df Model:                              8                                         \n",
            "Covariance Type:               nonrobust                                         \n",
            "=======================================================================================================\n",
            "                                          coef    std err          t      P>|t|      [0.025      0.975]\n",
            "-------------------------------------------------------------------------------------------------------\n",
            "const                                   0.0628      0.073      0.865      0.387      -0.080       0.205\n",
            "Change in SWAV                         -3.4266      1.706     -2.008      0.045      -6.774      -0.080\n",
            "ADS_Change                              0.2188      0.044      4.920      0.000       0.132       0.306\n",
            "EPU_Change                             -0.0002      0.000     -1.346      0.179      -0.000    8.84e-05\n",
            "Previous Week % FTSEAllShare Change    -0.0704      0.016     -4.365      0.000      -0.102      -0.039\n",
            "% MSCI Change                           0.7102      0.015     47.315      0.000       0.681       0.740\n",
            "Vix Close                              -0.0061      0.003     -1.751      0.080      -0.013       0.001\n",
            "7D_Rolling_Avg_Change_in_DCC           -0.0001      0.003     -0.050      0.960      -0.005       0.005\n",
            "Stringency_Change                       0.1464      0.052      2.790      0.005       0.043       0.249\n",
            "==============================================================================\n",
            "Omnibus:                      155.764   Durbin-Watson:                   0.872\n",
            "Prob(Omnibus):                  0.000   Jarque-Bera (JB):              731.795\n",
            "Skew:                           0.294   Prob(JB):                    1.24e-159\n",
            "Kurtosis:                       6.143   Cond. No.                     1.20e+04\n",
            "==============================================================================\n",
            "\n",
            "Notes:\n",
            "[1] Standard Errors assume that the covariance matrix of the errors is correctly specified.\n",
            "[2] The condition number is large, 1.2e+04. This might indicate that there are\n",
            "strong multicollinearity or other numerical problems.\n"
          ]
        }
      ]
    }
  ],
  "metadata": {
    "colab": {
      "provenance": [],
      "authorship_tag": "ABX9TyNb0h5REPZT0a2mI2Bt+4n7",
      "include_colab_link": true
    },
    "kernelspec": {
      "display_name": "Python 3",
      "name": "python3"
    },
    "language_info": {
      "name": "python"
    }
  },
  "nbformat": 4,
  "nbformat_minor": 0
}