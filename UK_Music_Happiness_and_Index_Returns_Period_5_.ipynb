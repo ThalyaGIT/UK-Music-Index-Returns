{
  "cells": [
    {
      "cell_type": "markdown",
      "metadata": {
        "id": "view-in-github",
        "colab_type": "text"
      },
      "source": [
        "<a href=\"https://colab.research.google.com/github/ThalyaGIT/UK-Music-Index-Returns/blob/main/UK_Music_Happiness_and_Index_Returns_Period_5_.ipynb\" target=\"_parent\"><img src=\"https://colab.research.google.com/assets/colab-badge.svg\" alt=\"Open In Colab\"/></a>"
      ]
    },
    {
      "cell_type": "code",
      "execution_count": 129,
      "metadata": {
        "id": "K2au3b8sOvGA"
      },
      "outputs": [],
      "source": [
        "# Import packages\n",
        "import pandas as pd\n",
        "import statsmodels.api as sm\n",
        "import seaborn as sns\n",
        "import matplotlib.pyplot as plt\n",
        "import numpy as np\n"
      ]
    },
    {
      "cell_type": "code",
      "execution_count": 130,
      "metadata": {
        "id": "Xn0nF6QAPn2A"
      },
      "outputs": [],
      "source": [
        "# Open CSV into dataframe\n",
        "#url = 'https://raw.githubusercontent.com/ThalyaGIT/UK-Music-Index-Returns/shift-1/0-data-gold/data.csv' #shift 1\n",
        "#url =  'https://raw.githubusercontent.com/ThalyaGIT/UK-Music-Index-Returns/shift-3/0-data-gold/data.csv' #shift 3\n",
        "url = 'https://raw.githubusercontent.com/ThalyaGIT/UK-Music-Index-Returns/shift-5-instead/0-data-gold/data.csv' #shift 5\n",
        "#url = 'https://raw.githubusercontent.com/ThalyaGIT/UK-Music-Index-Returns/shift-10-again/0-data-gold/data.csv' #shift 10\n",
        "#url = 'https://raw.githubusercontent.com/ThalyaGIT/UK-Music-Index-Returns/shift-15/0-data-gold/data.csv' #shift 15\n",
        "#url = 'https://raw.githubusercontent.com/ThalyaGIT/UK-Music-Index-Returns/shift-20/0-data-gold/data.csv' #shift 20\n",
        "\n",
        "\n",
        "#url = 'https://raw.githubusercontent.com/ThalyaGIT/Happy-Beats-Stocks/volume/0-data-gold/data.csv' #volume\n",
        "\n",
        "df = pd.read_csv(url)\n",
        "\n",
        "# Select columns that will be used\n",
        "df = df[[ 'Date'\n",
        "         , '% FTSE100 Change'                        # Dependent Variable: Weekly % Change in FTSE 100\n",
        "         , '% FTSE250 Change'                        # Dependent Variable: Weekly % Change in FTSE 250\n",
        "         , '% FTSEAllShare Change'                   # Dependent Variable: Weekly % Change in FTSE AllShare\n",
        "         , '% FTSESmallCap Change'                   # Dependent Variable: Weekly % Change in FTSE SmallCap\n",
        "         , '% MSCIUK Change'                         # Dependent Variable:  % Change in MSCIUK\n",
        "         , 'Next Period % MSCIUK Change'             # Dependent Variable: Next Period % Change in MSCIUK\n",
        "         , 'Next Week % FTSE100 Change'              # Dependent Variable 2: Weekly % Change in FTSE 100\n",
        "         , 'Change in SWAV'                          # Independent Variable: Weekly Change in Stream Weighted Average Valence of UK Top Charts on Spotify\n",
        "         , 'ADS_Change'                              # Control 1: Weekly Change in Aruoba-Diebold-Scotti Business Conditions Index\n",
        "         , 'EPU_Change'                              # Control 2: Weekly Change in Economic Policy Uncertainty Index\n",
        "         , 'Previous Week % FTSE100 Change'          # Control 3: Weekly % Change in FTSE 100 from a week before\n",
        "         , 'Previous Week % FTSE250 Change'         # Control 3A: Weekly % Change in FTSE 250 from a week before\n",
        "         , 'Previous Week % FTSEAllShare Change'    # Control 3B: Weekly % Change in FTSE AllShare from a week before\n",
        "         , 'Previous Week % FTSESmallCap Change'    # Control 3C: Weekly % Change in FTSE SmallCap from a week before\n",
        "         , 'Previous Week % MSCIUK Change'          # Control 3D: Weekly % Change in MSCI UK from a week before\n",
        "         , '% MSCI Change'                           # Control 4: Weekly % Change in MSCI World Index\n",
        "         , 'Vix Close'                               # Control 5: Volaitlity Index of the day\n",
        "         , '7D_Rolling_Avg_Change_in_DCC'            # Control 6: Average Change in Deseasonalised Cloud Cover over the Last Week\n",
        "         , 'Stringency_Change'                       # Control 7: Weekly Change in Covid Stringency Rules\n",
        "        # , '% Vol Change'\n",
        "        ]]\n",
        "\n",
        "# Attempt to convert the 'Date' column to datetime, coercing errors to NaT (Not a Time)\n",
        "df['Date'] = pd.to_datetime(df['Date'], errors='coerce')\n",
        "\n",
        "\n",
        "# # Extract the month from the 'Date' column\n",
        "# df['Month'] = df['Date'].dt.month\n",
        "# df['Year'] = df['Date'].dt.year\n",
        "\n",
        "# # Filter for rows where the month is between May (5) and November (11)\n",
        "# df = df[(df['Year'] == 2019)]\n",
        "# df = df[(df['Month'] == 2017)]\n",
        "\n",
        "# df = df[(df['Month'] >= 12) | (df['Month'] <= 4)]\n",
        "\n",
        "\n",
        "\n"
      ]
    },
    {
      "cell_type": "code",
      "execution_count": 131,
      "metadata": {
        "id": "ooLKK8_eVgQP"
      },
      "outputs": [],
      "source": [
        "# Explore Data\n",
        "\n",
        "# # Calculate the correlation matrix\n",
        "# correlation_matrix = df.drop(columns=['Date']).corr()\n",
        "\n",
        "\n",
        "# # Create a heatmap\n",
        "# plt.figure(figsize=(10, 8))\n",
        "# sns.heatmap(correlation_matrix, annot=True, cmap='coolwarm', vmin=-1, vmax=1)\n",
        "# plt.title('Correlation Heatmap of Variables')\n",
        "# plt.show()"
      ]
    },
    {
      "cell_type": "markdown",
      "metadata": {
        "id": "4D4v2bMvV2Ih"
      },
      "source": [
        "# **MSCI UK with No Controlling Variables**"
      ]
    },
    {
      "cell_type": "code",
      "execution_count": 132,
      "metadata": {
        "id": "3qHCM4vZWLh5",
        "colab": {
          "base_uri": "https://localhost:8080/"
        },
        "outputId": "d79fcf63-2e0f-4882-83af-5abdced0782e"
      },
      "outputs": [
        {
          "output_type": "stream",
          "name": "stdout",
          "text": [
            "                            OLS Regression Results                            \n",
            "==============================================================================\n",
            "Dep. Variable:        % MSCIUK Change   R-squared:                       0.003\n",
            "Model:                            OLS   Adj. R-squared:                  0.002\n",
            "Method:                 Least Squares   F-statistic:                     4.498\n",
            "Date:                Tue, 13 Aug 2024   Prob (F-statistic):             0.0341\n",
            "Time:                        22:07:37   Log-Likelihood:                -4162.0\n",
            "No. Observations:                1712   AIC:                             8328.\n",
            "Df Residuals:                    1710   BIC:                             8339.\n",
            "Df Model:                           1                                         \n",
            "Covariance Type:            nonrobust                                         \n",
            "==================================================================================\n",
            "                     coef    std err          t      P>|t|      [0.025      0.975]\n",
            "----------------------------------------------------------------------------------\n",
            "const              0.0373      0.067      0.561      0.575      -0.093       0.168\n",
            "Change in SWAV    -7.7702      3.664     -2.121      0.034     -14.956      -0.584\n",
            "==============================================================================\n",
            "Omnibus:                      522.607   Durbin-Watson:                   0.403\n",
            "Prob(Omnibus):                  0.000   Jarque-Bera (JB):             9300.659\n",
            "Skew:                          -0.958   Prob(JB):                         0.00\n",
            "Kurtosis:                      14.257   Cond. No.                         55.1\n",
            "==============================================================================\n",
            "\n",
            "Notes:\n",
            "[1] Standard Errors assume that the covariance matrix of the errors is correctly specified.\n"
          ]
        }
      ],
      "source": [
        "# Define dependent and independent variables\n",
        "\n",
        "#  Define the dependent variable\n",
        "y = df[ '% MSCIUK Change' ]\n",
        "\n",
        "# Define the independent variable as 'Weekly Change in Stream Weighted Average Valence of UK Top Charts on Spotify' Only\n",
        "X = df[[ 'Change in SWAV' ]]\n",
        "\n",
        "# Add a constant to the model (intercept)\n",
        "X = sm.add_constant(X)\n",
        "\n",
        "# Build and fit the regression model\n",
        "model = sm.OLS(y, X).fit()\n",
        "\n",
        "# Print the summary of the regression model\n",
        "print(model.summary())"
      ]
    },
    {
      "cell_type": "markdown",
      "source": [
        "# **MSCIUK**"
      ],
      "metadata": {
        "id": "bbZg-_ZK4uSW"
      }
    },
    {
      "cell_type": "code",
      "source": [
        "# Define dependent and independent variables\n",
        "\n",
        "#  Define the dependent variable\n",
        "y = df['% MSCIUK Change']\n",
        "\n",
        "# Define the independent variables, including 'Change in SWAV' and the other control variables\n",
        "X = df[[ 'Change in SWAV'                             # Independent Variable: Weekly Change in Stream Weighted Average Valence of UK Top Charts on Spotify\n",
        "          , 'ADS_Change'                              # Control 1: Weekly Change in Aruoba-Diebold-Scotti Business Conditions Index\n",
        "          , 'EPU_Change'                              # Control 2: Weekly Change in Economic Policy Uncertainty Index\n",
        "          , 'Previous Week % MSCIUK Change'           # Control 3: Weekly % Change in FTSE 100 from a week before\n",
        "          , '% MSCI Change'                           # Control 4: Weekly % Change in MSCI World Index\n",
        "          , 'Vix Close'                               # Control 5: Volaitlity Index of the day\n",
        "          , '7D_Rolling_Avg_Change_in_DCC'            # Control 6: Average Change in Deseasonalised Cloud Cover over the Last Week\n",
        "          , 'Stringency_Change'                       # Control 7: Weekly Change in Covid Stringency Rules\n",
        "          ]]\n",
        "\n",
        "# Add a constant to the model (intercept)\n",
        "X = sm.add_constant(X)\n",
        "\n",
        "# Build and fit the regression model\n",
        "model = sm.OLS(y, X).fit()\n",
        "\n",
        "# Print the summary of the regression model\n",
        "print(model.summary())"
      ],
      "metadata": {
        "colab": {
          "base_uri": "https://localhost:8080/"
        },
        "id": "5OTOnvRx4ucM",
        "outputId": "da1bb1c3-ca3a-4f57-a86a-ae14d80b456b"
      },
      "execution_count": 133,
      "outputs": [
        {
          "output_type": "stream",
          "name": "stdout",
          "text": [
            "                            OLS Regression Results                            \n",
            "==============================================================================\n",
            "Dep. Variable:        % MSCIUK Change   R-squared:                       0.702\n",
            "Model:                            OLS   Adj. R-squared:                  0.700\n",
            "Method:                 Least Squares   F-statistic:                     500.6\n",
            "Date:                Tue, 13 Aug 2024   Prob (F-statistic):               0.00\n",
            "Time:                        22:07:37   Log-Likelihood:                -3129.0\n",
            "No. Observations:                1712   AIC:                             6276.\n",
            "Df Residuals:                    1703   BIC:                             6325.\n",
            "Df Model:                           8                                         \n",
            "Covariance Type:            nonrobust                                         \n",
            "=================================================================================================\n",
            "                                    coef    std err          t      P>|t|      [0.025      0.975]\n",
            "-------------------------------------------------------------------------------------------------\n",
            "const                             0.1400      0.103      1.361      0.174      -0.062       0.342\n",
            "Change in SWAV                   -3.0244      2.016     -1.500      0.134      -6.978       0.929\n",
            "ADS_Change                        0.0801      0.039      2.073      0.038       0.004       0.156\n",
            "EPU_Change                       -0.0003      0.000     -1.714      0.087      -0.001    4.86e-05\n",
            "Previous Week % MSCIUK Change    -0.0434      0.014     -3.026      0.003      -0.072      -0.015\n",
            "% MSCI Change                     0.9430      0.016     58.245      0.000       0.911       0.975\n",
            "Vix Close                        -0.0138      0.005     -2.799      0.005      -0.024      -0.004\n",
            "7D_Rolling_Avg_Change_in_DCC      0.0010      0.007      0.143      0.887      -0.013       0.015\n",
            "Stringency_Change                 0.0730      0.054      1.350      0.177      -0.033       0.179\n",
            "==============================================================================\n",
            "Omnibus:                      239.868   Durbin-Watson:                   0.722\n",
            "Prob(Omnibus):                  0.000   Jarque-Bera (JB):             1855.602\n",
            "Skew:                           0.403   Prob(JB):                         0.00\n",
            "Kurtosis:                       8.036   Cond. No.                     1.03e+04\n",
            "==============================================================================\n",
            "\n",
            "Notes:\n",
            "[1] Standard Errors assume that the covariance matrix of the errors is correctly specified.\n",
            "[2] The condition number is large, 1.03e+04. This might indicate that there are\n",
            "strong multicollinearity or other numerical problems.\n"
          ]
        }
      ]
    },
    {
      "cell_type": "markdown",
      "source": [
        "## **Next Period's MSCI Change**"
      ],
      "metadata": {
        "id": "VuJZxeOl6Kjb"
      }
    },
    {
      "cell_type": "code",
      "source": [
        "# Define dependent and independent variables\n",
        "\n",
        "#  Define the dependent variable\n",
        "y = df['Next Period % MSCIUK Change']\n",
        "\n",
        "# Define the independent variables, including 'Change in SWAV' and the other control variables\n",
        "X = df[[ 'Change in SWAV'                            # Independent Variable: Weekly Change in Stream Weighted Average Valence of UK Top Charts on Spotify\n",
        "         , 'ADS_Change'                              # Control 1: Weekly Change in Aruoba-Diebold-Scotti Business Conditions Index\n",
        "         , 'EPU_Change'                              # Control 2: Weekly Change in Economic Policy Uncertainty Index\n",
        "         , '% MSCIUK Change'                         # Control 3: Weekly % Change in MSCI UK\n",
        "         , '% MSCI Change'                           # Control 4: Weekly % Change in MSCI World Index\n",
        "         , 'Vix Close'                               # Control 5: Volaitlity Index of the day\n",
        "         , '7D_Rolling_Avg_Change_in_DCC'            # Control 6: Average Change in Deseasonalised Cloud Cover over the Last Week\n",
        "         , 'Stringency_Change'                       # Control 7: Weekly Change in Covid Stringency Rules\n",
        "        ]]\n",
        "\n",
        "# Add a constant to the model (intercept)\n",
        "X = sm.add_constant(X)\n",
        "\n",
        "# Build and fit the regression model\n",
        "model = sm.OLS(y, X).fit()\n",
        "\n",
        "# Print the summary of the regression model\n",
        "print(model.summary())"
      ],
      "metadata": {
        "id": "R3_tUndl6KzJ",
        "colab": {
          "base_uri": "https://localhost:8080/"
        },
        "outputId": "8c0a546c-a89a-4438-9d50-fc76c920f273"
      },
      "execution_count": 134,
      "outputs": [
        {
          "output_type": "stream",
          "name": "stdout",
          "text": [
            "                                 OLS Regression Results                                \n",
            "=======================================================================================\n",
            "Dep. Variable:     Next Period % MSCIUK Change   R-squared:                       0.052\n",
            "Model:                                     OLS   Adj. R-squared:                  0.048\n",
            "Method:                          Least Squares   F-statistic:                     11.72\n",
            "Date:                         Tue, 13 Aug 2024   Prob (F-statistic):           2.38e-16\n",
            "Time:                                 22:07:37   Log-Likelihood:                -4099.2\n",
            "No. Observations:                         1712   AIC:                             8216.\n",
            "Df Residuals:                             1703   BIC:                             8265.\n",
            "Df Model:                                    8                                         \n",
            "Covariance Type:                     nonrobust                                         \n",
            "================================================================================================\n",
            "                                   coef    std err          t      P>|t|      [0.025      0.975]\n",
            "------------------------------------------------------------------------------------------------\n",
            "const                           -0.1766      0.180     -0.978      0.328      -0.531       0.177\n",
            "Change in SWAV                  -7.2559      3.553     -2.042      0.041     -14.225      -0.286\n",
            "ADS_Change                       0.4333      0.068      6.385      0.000       0.300       0.566\n",
            "EPU_Change                       0.0006      0.000      1.783      0.075   -6.17e-05       0.001\n",
            "% MSCIUK Change                  0.0091      0.043      0.215      0.830      -0.074       0.093\n",
            "% MSCI Change                   -0.0007      0.049     -0.014      0.989      -0.097       0.096\n",
            "Vix Close                        0.0130      0.009      1.494      0.135      -0.004       0.030\n",
            "7D_Rolling_Avg_Change_in_DCC    -0.0100      0.013     -0.794      0.427      -0.035       0.015\n",
            "Stringency_Change                0.6733      0.093      7.245      0.000       0.491       0.856\n",
            "==============================================================================\n",
            "Omnibus:                      490.715   Durbin-Watson:                   0.470\n",
            "Prob(Omnibus):                  0.000   Jarque-Bera (JB):             6471.515\n",
            "Skew:                          -0.962   Prob(JB):                         0.00\n",
            "Kurtosis:                      12.329   Cond. No.                     1.04e+04\n",
            "==============================================================================\n",
            "\n",
            "Notes:\n",
            "[1] Standard Errors assume that the covariance matrix of the errors is correctly specified.\n",
            "[2] The condition number is large, 1.04e+04. This might indicate that there are\n",
            "strong multicollinearity or other numerical problems.\n"
          ]
        }
      ]
    },
    {
      "cell_type": "markdown",
      "source": [
        "# **MSCI UK 2017-2019**"
      ],
      "metadata": {
        "id": "eyA0-jeL5JVA"
      }
    },
    {
      "cell_type": "code",
      "source": [
        "# Define dependent and independent variables\n",
        "\n",
        "# Define the start and end dates for the filter\n",
        "start_date = '2017-01-01'\n",
        "end_date = '2019-12-31'\n",
        "\n",
        "# Filter the DataFrame for dates within the specified range\n",
        "df_period1 = df[(df['Date'] >= start_date) & (df['Date'] <= end_date)]\n",
        "\n",
        "#  Define the dependent variable\n",
        "y = df_period1['% MSCIUK Change']\n",
        "\n",
        "# Define the independent variables, including 'Change in SWAV' and the other control variables\n",
        "X = df_period1[[  'Change in SWAV'                          # Independent Variable: Weekly Change in Stream Weighted Average Valence of UK Top Charts on Spotify\n",
        "                  , 'ADS_Change'                              # Control 1: Weekly Change in Aruoba-Diebold-Scotti Business Conditions Index\n",
        "                  , 'EPU_Change'                              # Control 2: Weekly Change in Economic Policy Uncertainty Index\n",
        "                  , 'Previous Week % MSCIUK Change'          # Control 3: Weekly % Change in FTSE 100 from a week before\n",
        "                  , '% MSCI Change'                           # Control 4: Weekly % Change in MSCI World Index\n",
        "                  , 'Vix Close'                               # Control 5: Volaitlity Index of the day\n",
        "                  , '7D_Rolling_Avg_Change_in_DCC'            # Control 6: Average Change in Deseasonalised Cloud Cover over the Last Week\n",
        "                  , 'Stringency_Change'                       # Control 7: Weekly Change in Covid Stringency Rules\n",
        "                  ]]\n",
        "\n",
        "# Add a constant to the model (intercept)\n",
        "X = sm.add_constant(X)\n",
        "\n",
        "# Build and fit the regression model\n",
        "model = sm.OLS(y, X).fit()\n",
        "\n",
        "# Print the summary of the regression model\n",
        "print(model.summary())"
      ],
      "metadata": {
        "colab": {
          "base_uri": "https://localhost:8080/"
        },
        "id": "DSZMZxZh5KBY",
        "outputId": "dab6b08b-67ed-4237-e8c3-234c22d39275"
      },
      "execution_count": 135,
      "outputs": [
        {
          "output_type": "stream",
          "name": "stdout",
          "text": [
            "                            OLS Regression Results                            \n",
            "==============================================================================\n",
            "Dep. Variable:        % MSCIUK Change   R-squared:                       0.697\n",
            "Model:                            OLS   Adj. R-squared:                  0.694\n",
            "Method:                 Least Squares   F-statistic:                     237.5\n",
            "Date:                Tue, 13 Aug 2024   Prob (F-statistic):          9.07e-183\n",
            "Time:                        22:07:37   Log-Likelihood:                -1043.9\n",
            "No. Observations:                 732   AIC:                             2104.\n",
            "Df Residuals:                     724   BIC:                             2141.\n",
            "Df Model:                           7                                         \n",
            "Covariance Type:            nonrobust                                         \n",
            "=================================================================================================\n",
            "                                    coef    std err          t      P>|t|      [0.025      0.975]\n",
            "-------------------------------------------------------------------------------------------------\n",
            "const                            -0.4425      0.164     -2.702      0.007      -0.764      -0.121\n",
            "Change in SWAV                   -3.4595      2.424     -1.427      0.154      -8.218       1.299\n",
            "ADS_Change                       -1.1960      0.395     -3.028      0.003      -1.971      -0.421\n",
            "EPU_Change                       -0.0001      0.000     -0.694      0.488      -0.001       0.000\n",
            "Previous Week % MSCIUK Change    -0.0542      0.022     -2.515      0.012      -0.097      -0.012\n",
            "% MSCI Change                     0.9965      0.028     35.498      0.000       0.941       1.052\n",
            "Vix Close                         0.0230      0.011      2.112      0.035       0.002       0.044\n",
            "7D_Rolling_Avg_Change_in_DCC      0.0031      0.008      0.407      0.684      -0.012       0.018\n",
            "Stringency_Change                      0          0        nan        nan           0           0\n",
            "==============================================================================\n",
            "Omnibus:                       44.740   Durbin-Watson:                   0.609\n",
            "Prob(Omnibus):                  0.000   Jarque-Bera (JB):               83.522\n",
            "Skew:                          -0.409   Prob(JB):                     7.30e-19\n",
            "Kurtosis:                       4.438   Cond. No.                          inf\n",
            "==============================================================================\n",
            "\n",
            "Notes:\n",
            "[1] Standard Errors assume that the covariance matrix of the errors is correctly specified.\n",
            "[2] The smallest eigenvalue is      0. This might indicate that there are\n",
            "strong multicollinearity problems or that the design matrix is singular.\n"
          ]
        },
        {
          "output_type": "stream",
          "name": "stderr",
          "text": [
            "/usr/local/lib/python3.10/dist-packages/statsmodels/regression/linear_model.py:1967: RuntimeWarning: divide by zero encountered in scalar divide\n",
            "  return np.sqrt(eigvals[0]/eigvals[-1])\n"
          ]
        }
      ]
    },
    {
      "cell_type": "markdown",
      "source": [
        "# **MSCI UK 2020-2023**"
      ],
      "metadata": {
        "id": "ZXZIg3X26r5V"
      }
    },
    {
      "cell_type": "code",
      "source": [
        "# Define dependent and independent variables\n",
        "\n",
        "# Define the start and end dates for the filter\n",
        "start_date = '2020-01-01'\n",
        "end_date = '2023-12-31'\n",
        "\n",
        "# Filter the DataFrame for dates within the specified range\n",
        "df_period2 = df[(df['Date'] >= start_date) & (df['Date'] <= end_date)]\n",
        "\n",
        "#  Define the dependent variable\n",
        "y = df_period2['% MSCIUK Change']\n",
        "\n",
        "# Define the independent variables, including 'Change in SWAV' and the other control variables\n",
        "X = df_period2[[ 'Change in SWAV'                           # Independent Variable: Weekly Change in Stream Weighted Average Valence of UK Top Charts on Spotify\n",
        "                , 'ADS_Change'                              # Control 1: Weekly Change in Aruoba-Diebold-Scotti Business Conditions Index\n",
        "                , 'EPU_Change'                              # Control 2: Weekly Change in Economic Policy Uncertainty Index\n",
        "                , 'Previous Week % MSCIUK Change'          # Control 3: Weekly % Change in FTSE 100 from a week before\n",
        "                , '% MSCI Change'                           # Control 4: Weekly % Change in MSCI World Index\n",
        "                , 'Vix Close'                               # Control 5: Volaitlity Index of the day\n",
        "                , '7D_Rolling_Avg_Change_in_DCC'            # Control 6: Average Change in Deseasonalised Cloud Cover over the Last Week\n",
        "                , 'Stringency_Change'                       # Control 7: Weekly Change in Covid Stringency Rules\n",
        "                ]]\n",
        "\n",
        "# Add a constant to the model (intercept)\n",
        "X = sm.add_constant(X)\n",
        "\n",
        "# Build and fit the regression model\n",
        "model = sm.OLS(y, X).fit()\n",
        "\n",
        "# Print the summary of the regression model\n",
        "print(model.summary())"
      ],
      "metadata": {
        "colab": {
          "base_uri": "https://localhost:8080/"
        },
        "id": "OBa3TQ4f6sPs",
        "outputId": "9e331c46-731a-4f3b-c77e-144cf989020a"
      },
      "execution_count": 136,
      "outputs": [
        {
          "output_type": "stream",
          "name": "stdout",
          "text": [
            "                            OLS Regression Results                            \n",
            "==============================================================================\n",
            "Dep. Variable:        % MSCIUK Change   R-squared:                       0.706\n",
            "Model:                            OLS   Adj. R-squared:                  0.704\n",
            "Method:                 Least Squares   F-statistic:                     291.7\n",
            "Date:                Tue, 13 Aug 2024   Prob (F-statistic):          4.16e-252\n",
            "Time:                        22:07:37   Log-Likelihood:                -1954.7\n",
            "No. Observations:                 980   AIC:                             3927.\n",
            "Df Residuals:                     971   BIC:                             3971.\n",
            "Df Model:                           8                                         \n",
            "Covariance Type:            nonrobust                                         \n",
            "=================================================================================================\n",
            "                                    coef    std err          t      P>|t|      [0.025      0.975]\n",
            "-------------------------------------------------------------------------------------------------\n",
            "const                             0.4257      0.187      2.277      0.023       0.059       0.793\n",
            "Change in SWAV                   -2.4278      2.885     -0.841      0.400      -8.090       3.235\n",
            "ADS_Change                        0.0805      0.046      1.742      0.082      -0.010       0.171\n",
            "EPU_Change                       -0.0005      0.000     -1.541      0.124      -0.001       0.000\n",
            "Previous Week % MSCIUK Change    -0.0396      0.019     -2.064      0.039      -0.077      -0.002\n",
            "% MSCI Change                     0.9291      0.021     43.352      0.000       0.887       0.971\n",
            "Vix Close                        -0.0248      0.008     -3.218      0.001      -0.040      -0.010\n",
            "7D_Rolling_Avg_Change_in_DCC   8.617e-05      0.011      0.008      0.994      -0.021       0.021\n",
            "Stringency_Change                 0.1133      0.066      1.712      0.087      -0.017       0.243\n",
            "==============================================================================\n",
            "Omnibus:                      136.835   Durbin-Watson:                   0.755\n",
            "Prob(Omnibus):                  0.000   Jarque-Bera (JB):              645.551\n",
            "Skew:                           0.552   Prob(JB):                    6.61e-141\n",
            "Kurtosis:                       6.820   Cond. No.                     9.88e+03\n",
            "==============================================================================\n",
            "\n",
            "Notes:\n",
            "[1] Standard Errors assume that the covariance matrix of the errors is correctly specified.\n",
            "[2] The condition number is large, 9.88e+03. This might indicate that there are\n",
            "strong multicollinearity or other numerical problems.\n"
          ]
        }
      ]
    },
    {
      "cell_type": "markdown",
      "metadata": {
        "id": "m-NWl8zvYqAJ"
      },
      "source": [
        "## Findings\n",
        "\n",
        "**Low Explanatory Power:** The model has an R-squared of 0.006, indicating a poor fit.\n",
        "\n",
        "**Significant Negative Effect:** Change in SWAV significantly decreases FTSE 100 change (coefficient = -11.5132, p < 0.001).\n",
        "\n",
        "**Model Significance:** The model is statistically significant (F-statistic = 24.10, p < 0.001).\n",
        "\n",
        "**Non-Significant Intercept:** The constant term is not significant (p = 0.508).\n",
        "\n",
        "**Residual Issues:** Residuals show non-normality and autocorrelation, indicating model assumption problems."
      ]
    },
    {
      "cell_type": "markdown",
      "metadata": {
        "id": "-F-YLeLCWO1j"
      },
      "source": [
        "# **FTSE100**\n",
        "\n",
        "\n"
      ]
    },
    {
      "cell_type": "code",
      "execution_count": 137,
      "metadata": {
        "id": "90BZWX8jUnkY",
        "colab": {
          "base_uri": "https://localhost:8080/"
        },
        "outputId": "2bd431c9-369f-4c6d-939d-f1380798a7f0"
      },
      "outputs": [
        {
          "output_type": "stream",
          "name": "stdout",
          "text": [
            "                            OLS Regression Results                            \n",
            "==============================================================================\n",
            "Dep. Variable:       % FTSE100 Change   R-squared:                       0.585\n",
            "Model:                            OLS   Adj. R-squared:                  0.583\n",
            "Method:                 Least Squares   F-statistic:                     300.1\n",
            "Date:                Tue, 13 Aug 2024   Prob (F-statistic):          1.20e-318\n",
            "Time:                        22:07:37   Log-Likelihood:                -3028.2\n",
            "No. Observations:                1712   AIC:                             6074.\n",
            "Df Residuals:                    1703   BIC:                             6123.\n",
            "Df Model:                           8                                         \n",
            "Covariance Type:            nonrobust                                         \n",
            "==================================================================================================\n",
            "                                     coef    std err          t      P>|t|      [0.025      0.975]\n",
            "--------------------------------------------------------------------------------------------------\n",
            "const                              0.0982      0.097      1.008      0.313      -0.093       0.289\n",
            "Change in SWAV                    -5.1334      1.900     -2.702      0.007      -8.860      -1.407\n",
            "ADS_Change                         0.1787      0.037      4.860      0.000       0.107       0.251\n",
            "EPU_Change                     -2.833e-06      0.000     -0.015      0.988      -0.000       0.000\n",
            "Previous Week % FTSE100 Change    -0.0556      0.017     -3.261      0.001      -0.089      -0.022\n",
            "% MSCI Change                      0.6773      0.015     44.357      0.000       0.647       0.707\n",
            "Vix Close                         -0.0098      0.005     -2.090      0.037      -0.019      -0.001\n",
            "7D_Rolling_Avg_Change_in_DCC       0.0120      0.007      1.781      0.075      -0.001       0.025\n",
            "Stringency_Change                  0.1274      0.051      2.501      0.012       0.027       0.227\n",
            "==============================================================================\n",
            "Omnibus:                      123.988   Durbin-Watson:                   0.563\n",
            "Prob(Omnibus):                  0.000   Jarque-Bera (JB):              515.235\n",
            "Skew:                           0.211   Prob(JB):                    1.31e-112\n",
            "Kurtosis:                       5.654   Cond. No.                     1.03e+04\n",
            "==============================================================================\n",
            "\n",
            "Notes:\n",
            "[1] Standard Errors assume that the covariance matrix of the errors is correctly specified.\n",
            "[2] The condition number is large, 1.03e+04. This might indicate that there are\n",
            "strong multicollinearity or other numerical problems.\n"
          ]
        }
      ],
      "source": [
        "import pandas as pd\n",
        "import statsmodels.api as sm\n",
        "\n",
        "# Define the dependent variable\n",
        "y = df['% FTSE100 Change']\n",
        "\n",
        "# Define the independent variables, including 'Change in SWAV' and the other control variables\n",
        "X = df[[ 'Change in SWAV',                          # Independent Variable: Weekly Change in Stream Weighted Average Valence of UK Top Charts on Spotify\n",
        "         'ADS_Change',                              # Control 1: Weekly Change in Aruoba-Diebold-Scotti Business Conditions Index\n",
        "         'EPU_Change',                              # Control 2: Weekly Change in Economic Policy Uncertainty Index\n",
        "         'Previous Week % FTSE100 Change',          # Control 3: Weekly % Change in FTSE 100 from a week before\n",
        "         '% MSCI Change',                           # Control 4: Weekly % Change in MSCI World Index\n",
        "         'Vix Close',                               # Control 5: Volaitlity Index of the day\n",
        "         '7D_Rolling_Avg_Change_in_DCC',            # Control 6: Average Change in Deseasonalised Cloud Cover over the Last Week\n",
        "         'Stringency_Change'                        # Control 7: Weekly Change in Covid Stringency Rules\n",
        "]]\n",
        "\n",
        "# Add a constant to the model (intercept)\n",
        "X = sm.add_constant(X)\n",
        "\n",
        "# Fit the regression model\n",
        "model = sm.OLS(y, X).fit()\n",
        "\n",
        "# Print the summary of the regression model\n",
        "print(model.summary())"
      ]
    },
    {
      "cell_type": "markdown",
      "source": [
        "# **FTSE100 without MSCI as a Control**"
      ],
      "metadata": {
        "id": "nrmYpsRj430I"
      }
    },
    {
      "cell_type": "code",
      "source": [
        "# Define dependent and independent variables\n",
        "\n",
        "# #  Define the dependent variable\n",
        "y = df['% FTSE100 Change']\n",
        "\n",
        "# Define the independent variables, including 'Change in SWAV' and the other control variables\n",
        "X = df[[ 'Change in SWAV'                          # Independent Variable: Weekly Change in Stream Weighted Average Valence of UK Top Charts on Spotify\n",
        "         , 'ADS_Change'                              # Control 1: Weekly Change in Aruoba-Diebold-Scotti Business Conditions Index\n",
        "         , 'EPU_Change'                              # Control 2: Weekly Change in Economic Policy Uncertainty Index\n",
        "         , 'Previous Week % FTSE100 Change'          # Control 3: Weekly % Change in FTSE 100 from a week before\n",
        "         #, '% MSCI Change'                           # Control 4: Weekly % Change in MSCI World Index\n",
        "         , 'Vix Close'                               # Control 5: Volaitlity Index of the day\n",
        "         , '7D_Rolling_Avg_Change_in_DCC'            # Control 6: Average Change in Deseasonalised Cloud Cover over the Last Week\n",
        "         , 'Stringency_Change'                       # Control 7: Weekly Change in Covid Stringency Rules\n",
        "        ]]\n",
        "\n",
        "# Add a constant to the model (intercept)\n",
        "X = sm.add_constant(X)\n",
        "\n",
        "# Build and fit the regression model\n",
        "model = sm.OLS(y, X).fit()\n",
        "\n",
        "# Print the summary of the regression model\n",
        "print(model.summary())"
      ],
      "metadata": {
        "colab": {
          "base_uri": "https://localhost:8080/"
        },
        "id": "yzBa2KHZ5B-A",
        "outputId": "4330bdfb-426e-43ef-c783-1db725172d66"
      },
      "execution_count": 138,
      "outputs": [
        {
          "output_type": "stream",
          "name": "stdout",
          "text": [
            "                            OLS Regression Results                            \n",
            "==============================================================================\n",
            "Dep. Variable:       % FTSE100 Change   R-squared:                       0.106\n",
            "Model:                            OLS   Adj. R-squared:                  0.102\n",
            "Method:                 Least Squares   F-statistic:                     28.73\n",
            "Date:                Tue, 13 Aug 2024   Prob (F-statistic):           1.26e-37\n",
            "Time:                        22:07:37   Log-Likelihood:                -3685.6\n",
            "No. Observations:                1712   AIC:                             7387.\n",
            "Df Residuals:                    1704   BIC:                             7431.\n",
            "Df Model:                           7                                         \n",
            "Covariance Type:            nonrobust                                         \n",
            "==================================================================================================\n",
            "                                     coef    std err          t      P>|t|      [0.025      0.975]\n",
            "--------------------------------------------------------------------------------------------------\n",
            "const                              1.3334      0.137      9.734      0.000       1.065       1.602\n",
            "Change in SWAV                    -6.9905      2.788     -2.507      0.012     -12.459      -1.522\n",
            "ADS_Change                         0.4316      0.053      8.093      0.000       0.327       0.536\n",
            "EPU_Change                        -0.0004      0.000     -1.594      0.111      -0.001      0.0001\n",
            "Previous Week % FTSE100 Change    -0.0738      0.025     -2.948      0.003      -0.123      -0.025\n",
            "Vix Close                         -0.0677      0.007    -10.251      0.000      -0.081      -0.055\n",
            "7D_Rolling_Avg_Change_in_DCC       0.0098      0.010      0.994      0.321      -0.010       0.029\n",
            "Stringency_Change                  0.2980      0.075      3.999      0.000       0.152       0.444\n",
            "==============================================================================\n",
            "Omnibus:                      320.417   Durbin-Watson:                   0.412\n",
            "Prob(Omnibus):                  0.000   Jarque-Bera (JB):             5591.411\n",
            "Skew:                           0.345   Prob(JB):                         0.00\n",
            "Kurtosis:                      11.827   Cond. No.                     1.03e+04\n",
            "==============================================================================\n",
            "\n",
            "Notes:\n",
            "[1] Standard Errors assume that the covariance matrix of the errors is correctly specified.\n",
            "[2] The condition number is large, 1.03e+04. This might indicate that there are\n",
            "strong multicollinearity or other numerical problems.\n"
          ]
        }
      ]
    },
    {
      "cell_type": "markdown",
      "source": [
        "# **FTSE 250 Mid Cap**"
      ],
      "metadata": {
        "id": "1-4LBAcz3xNt"
      }
    },
    {
      "cell_type": "code",
      "source": [
        "# Define dependent and independent variables\n",
        "\n",
        "\n",
        "#  Define the dependent variable\n",
        "y = df['% FTSE250 Change']\n",
        "\n",
        "# Define the independent variables, including 'Change in SWAV' and the other control variables\n",
        "X = df[[ 'Change in SWAV'                           # Independent Variable: Weekly Change in Stream Weighted Average Valence of UK Top Charts on Spotify\n",
        "          , 'ADS_Change'                              # Control 1: Weekly Change in Aruoba-Diebold-Scotti Business Conditions Index\n",
        "          , 'EPU_Change'                              # Control 2: Weekly Change in Economic Policy Uncertainty Index\n",
        "          , 'Previous Week % FTSE250 Change'          # Control 3: Weekly % Change in FTSE 100 from a week before\n",
        "          , '% MSCI Change'                           # Control 4: Weekly % Change in MSCI World Index\n",
        "          , 'Vix Close'                               # Control 5: Volaitlity Index of the day\n",
        "          , '7D_Rolling_Avg_Change_in_DCC'            # Control 6: Average Change in Deseasonalised Cloud Cover over the Last Week\n",
        "          , 'Stringency_Change'                       # Control 7: Weekly Change in Covid Stringency Rules\n",
        "          ]]\n",
        "\n",
        "# Add a constant to the model (intercept)\n",
        "X = sm.add_constant(X)\n",
        "\n",
        "# Build and fit the regression model\n",
        "model = sm.OLS(y, X).fit()\n",
        "\n",
        "# Print the summary of the regression model\n",
        "print(model.summary())"
      ],
      "metadata": {
        "colab": {
          "base_uri": "https://localhost:8080/"
        },
        "id": "fAH0o0223xcy",
        "outputId": "2833c796-eb2e-418a-909d-96d93fb43509"
      },
      "execution_count": 139,
      "outputs": [
        {
          "output_type": "stream",
          "name": "stdout",
          "text": [
            "                            OLS Regression Results                            \n",
            "==============================================================================\n",
            "Dep. Variable:       % FTSE250 Change   R-squared:                       0.691\n",
            "Model:                            OLS   Adj. R-squared:                  0.689\n",
            "Method:                 Least Squares   F-statistic:                     475.2\n",
            "Date:                Tue, 13 Aug 2024   Prob (F-statistic):               0.00\n",
            "Time:                        22:07:37   Log-Likelihood:                -3118.0\n",
            "No. Observations:                1712   AIC:                             6254.\n",
            "Df Residuals:                    1703   BIC:                             6303.\n",
            "Df Model:                           8                                         \n",
            "Covariance Type:            nonrobust                                         \n",
            "==================================================================================================\n",
            "                                     coef    std err          t      P>|t|      [0.025      0.975]\n",
            "--------------------------------------------------------------------------------------------------\n",
            "const                              0.1470      0.103      1.429      0.153      -0.055       0.349\n",
            "Change in SWAV                    -1.3086      2.002     -0.654      0.513      -5.235       2.618\n",
            "ADS_Change                         0.1918      0.039      4.960      0.000       0.116       0.268\n",
            "EPU_Change                        -0.0002      0.000     -1.163      0.245      -0.001       0.000\n",
            "Previous Week % FTSE250 Change    -0.0458      0.015     -3.028      0.002      -0.075      -0.016\n",
            "% MSCI Change                      0.9010      0.016     55.961      0.000       0.869       0.933\n",
            "Vix Close                         -0.0134      0.005     -2.709      0.007      -0.023      -0.004\n",
            "7D_Rolling_Avg_Change_in_DCC       0.0017      0.007      0.242      0.809      -0.012       0.016\n",
            "Stringency_Change                  0.0129      0.055      0.237      0.813      -0.094       0.120\n",
            "==============================================================================\n",
            "Omnibus:                      258.055   Durbin-Watson:                   0.649\n",
            "Prob(Omnibus):                  0.000   Jarque-Bera (JB):             3830.593\n",
            "Skew:                          -0.077   Prob(JB):                         0.00\n",
            "Kurtosis:                      10.326   Cond. No.                     1.03e+04\n",
            "==============================================================================\n",
            "\n",
            "Notes:\n",
            "[1] Standard Errors assume that the covariance matrix of the errors is correctly specified.\n",
            "[2] The condition number is large, 1.03e+04. This might indicate that there are\n",
            "strong multicollinearity or other numerical problems.\n"
          ]
        }
      ]
    },
    {
      "cell_type": "markdown",
      "source": [
        "# **FTSE Small Cap**"
      ],
      "metadata": {
        "id": "BxyaRVs74jzk"
      }
    },
    {
      "cell_type": "code",
      "source": [
        "# Define dependent and independent variables\n",
        "\n",
        "#  Define the dependent variable\n",
        "y = df['% FTSESmallCap Change']\n",
        "\n",
        "# Define the independent variables, including 'Change in SWAV' and the other control variables\n",
        "X = df[[ 'Change in SWAV'                           # Independent Variable: Weekly Change in Stream Weighted Average Valence of UK Top Charts on Spotify\n",
        "                , 'ADS_Change'                              # Control 1: Weekly Change in Aruoba-Diebold-Scotti Business Conditions Index\n",
        "                , 'EPU_Change'                              # Control 2: Weekly Change in Economic Policy Uncertainty Index\n",
        "                , 'Previous Week % FTSESmallCap Change'          # Control 3: Weekly % Change in FTSE 100 from a week before\n",
        "                , '% MSCI Change'                           # Control 4: Weekly % Change in MSCI World Index\n",
        "                , 'Vix Close'                               # Control 5: Volaitlity Index of the day\n",
        "                , '7D_Rolling_Avg_Change_in_DCC'            # Control 6: Average Change in Deseasonalised Cloud Cover over the Last Week\n",
        "                , 'Stringency_Change'                       # Control 7: Weekly Change in Covid Stringency Rules\n",
        "                ]]\n",
        "\n",
        "# Add a constant to the model (intercept)\n",
        "X = sm.add_constant(X)\n",
        "\n",
        "# Build and fit the regression model\n",
        "model = sm.OLS(y, X).fit()\n",
        "\n",
        "# Print the summary of the regression model\n",
        "print(model.summary())"
      ],
      "metadata": {
        "colab": {
          "base_uri": "https://localhost:8080/"
        },
        "id": "MtZG91-94j6l",
        "outputId": "707e04ec-e3e1-48a4-dbc3-ebf3c79e1309"
      },
      "execution_count": 140,
      "outputs": [
        {
          "output_type": "stream",
          "name": "stdout",
          "text": [
            "                              OLS Regression Results                             \n",
            "=================================================================================\n",
            "Dep. Variable:     % FTSESmallCap Change   R-squared:                       0.659\n",
            "Model:                               OLS   Adj. R-squared:                  0.657\n",
            "Method:                    Least Squares   F-statistic:                     411.4\n",
            "Date:                   Tue, 13 Aug 2024   Prob (F-statistic):               0.00\n",
            "Time:                           22:07:37   Log-Likelihood:                -2881.2\n",
            "No. Observations:                   1712   AIC:                             5780.\n",
            "Df Residuals:                       1703   BIC:                             5829.\n",
            "Df Model:                              8                                         \n",
            "Covariance Type:               nonrobust                                         \n",
            "=======================================================================================================\n",
            "                                          coef    std err          t      P>|t|      [0.025      0.975]\n",
            "-------------------------------------------------------------------------------------------------------\n",
            "const                                   0.0914      0.090      1.019      0.308      -0.085       0.267\n",
            "Change in SWAV                          1.9520      1.743      1.120      0.263      -1.467       5.371\n",
            "ADS_Change                              0.1579      0.034      4.674      0.000       0.092       0.224\n",
            "EPU_Change                             -0.0003      0.000     -1.883      0.060      -0.001    1.34e-05\n",
            "Previous Week % FTSESmallCap Change     0.0690      0.017      4.143      0.000       0.036       0.102\n",
            "% MSCI Change                           0.7187      0.014     51.114      0.000       0.691       0.746\n",
            "Vix Close                              -0.0078      0.004     -1.819      0.069      -0.016       0.001\n",
            "7D_Rolling_Avg_Change_in_DCC            0.0046      0.006      0.737      0.461      -0.008       0.017\n",
            "Stringency_Change                      -0.0879      0.049     -1.793      0.073      -0.184       0.008\n",
            "==============================================================================\n",
            "Omnibus:                      479.684   Durbin-Watson:                   0.584\n",
            "Prob(Omnibus):                  0.000   Jarque-Bera (JB):            33777.741\n",
            "Skew:                          -0.338   Prob(JB):                         0.00\n",
            "Kurtosis:                      24.750   Cond. No.                     1.03e+04\n",
            "==============================================================================\n",
            "\n",
            "Notes:\n",
            "[1] Standard Errors assume that the covariance matrix of the errors is correctly specified.\n",
            "[2] The condition number is large, 1.03e+04. This might indicate that there are\n",
            "strong multicollinearity or other numerical problems.\n"
          ]
        }
      ]
    },
    {
      "cell_type": "markdown",
      "source": [
        "# **FTSE All Share**"
      ],
      "metadata": {
        "id": "rEB_QO0r4AnW"
      }
    },
    {
      "cell_type": "code",
      "source": [
        "# Define dependent and independent variables\n",
        "\n",
        "#  Define the dependent variable\n",
        "y = df['% FTSEAllShare Change']\n",
        "\n",
        "# Define the independent variables, including 'Change in SWAV' and the other control variables\n",
        "X = df[[ 'Change in SWAV'                           # Independent Variable: Weekly Change in Stream Weighted Average Valence of UK Top Charts on Spotify\n",
        "                , 'ADS_Change'                              # Control 1: Weekly Change in Aruoba-Diebold-Scotti Business Conditions Index\n",
        "                , 'EPU_Change'                              # Control 2: Weekly Change in Economic Policy Uncertainty Index\n",
        "                , 'Previous Week % FTSEAllShare Change'          # Control 3: Weekly % Change in FTSE 100 from a week before\n",
        "                , '% MSCI Change'                           # Control 4: Weekly % Change in MSCI World Index\n",
        "                , 'Vix Close'                               # Control 5: Volaitlity Index of the day\n",
        "                , '7D_Rolling_Avg_Change_in_DCC'            # Control 6: Average Change in Deseasonalised Cloud Cover over the Last Week\n",
        "                , 'Stringency_Change'                       # Control 7: Weekly Change in Covid Stringency Rules\n",
        "                ]]\n",
        "\n",
        "# Add a constant to the model (intercept)\n",
        "X = sm.add_constant(X)\n",
        "\n",
        "# Build and fit the regression model\n",
        "model = sm.OLS(y, X).fit()\n",
        "\n",
        "# Print the summary of the regression model\n",
        "print(model.summary())"
      ],
      "metadata": {
        "colab": {
          "base_uri": "https://localhost:8080/"
        },
        "id": "W3W-jUUC4BCS",
        "outputId": "9cfd0d5e-7177-4379-a61a-fa27c1ee9a14"
      },
      "execution_count": 141,
      "outputs": [
        {
          "output_type": "stream",
          "name": "stdout",
          "text": [
            "                              OLS Regression Results                             \n",
            "=================================================================================\n",
            "Dep. Variable:     % FTSEAllShare Change   R-squared:                       0.642\n",
            "Model:                               OLS   Adj. R-squared:                  0.640\n",
            "Method:                    Least Squares   F-statistic:                     381.1\n",
            "Date:                   Tue, 13 Aug 2024   Prob (F-statistic):               0.00\n",
            "Time:                           22:07:37   Log-Likelihood:                -2909.2\n",
            "No. Observations:                   1712   AIC:                             5836.\n",
            "Df Residuals:                       1703   BIC:                             5885.\n",
            "Df Model:                              8                                         \n",
            "Covariance Type:               nonrobust                                         \n",
            "=======================================================================================================\n",
            "                                          coef    std err          t      P>|t|      [0.025      0.975]\n",
            "-------------------------------------------------------------------------------------------------------\n",
            "const                                   0.1079      0.091      1.186      0.236      -0.071       0.286\n",
            "Change in SWAV                         -4.3506      1.772     -2.455      0.014      -7.827      -0.875\n",
            "ADS_Change                              0.1799      0.034      5.239      0.000       0.113       0.247\n",
            "EPU_Change                          -4.658e-05      0.000     -0.269      0.788      -0.000       0.000\n",
            "Previous Week % FTSEAllShare Change    -0.0439      0.016     -2.734      0.006      -0.075      -0.012\n",
            "% MSCI Change                           0.7126      0.014     50.016      0.000       0.685       0.741\n",
            "Vix Close                              -0.0104      0.004     -2.386      0.017      -0.019      -0.002\n",
            "7D_Rolling_Avg_Change_in_DCC            0.0098      0.006      1.560      0.119      -0.003       0.022\n",
            "Stringency_Change                       0.1021      0.048      2.135      0.033       0.008       0.196\n",
            "==============================================================================\n",
            "Omnibus:                      160.369   Durbin-Watson:                   0.595\n",
            "Prob(Omnibus):                  0.000   Jarque-Bera (JB):              736.078\n",
            "Skew:                           0.325   Prob(JB):                    1.45e-160\n",
            "Kurtosis:                       6.146   Cond. No.                     1.03e+04\n",
            "==============================================================================\n",
            "\n",
            "Notes:\n",
            "[1] Standard Errors assume that the covariance matrix of the errors is correctly specified.\n",
            "[2] The condition number is large, 1.03e+04. This might indicate that there are\n",
            "strong multicollinearity or other numerical problems.\n"
          ]
        }
      ]
    }
  ],
  "metadata": {
    "colab": {
      "provenance": [],
      "authorship_tag": "ABX9TyOYGzpCHBKFOdJ0g/FUieCO",
      "include_colab_link": true
    },
    "kernelspec": {
      "display_name": "Python 3",
      "name": "python3"
    },
    "language_info": {
      "name": "python"
    }
  },
  "nbformat": 4,
  "nbformat_minor": 0
}