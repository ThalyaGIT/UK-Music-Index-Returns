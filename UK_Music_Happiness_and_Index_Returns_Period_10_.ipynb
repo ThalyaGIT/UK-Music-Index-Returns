{
  "cells": [
    {
      "cell_type": "markdown",
      "metadata": {
        "id": "view-in-github",
        "colab_type": "text"
      },
      "source": [
        "<a href=\"https://colab.research.google.com/github/ThalyaGIT/UK-Music-Index-Returns/blob/main/UK_Music_Happiness_and_Index_Returns_Period_10_.ipynb\" target=\"_parent\"><img src=\"https://colab.research.google.com/assets/colab-badge.svg\" alt=\"Open In Colab\"/></a>"
      ]
    },
    {
      "cell_type": "code",
      "execution_count": 116,
      "metadata": {
        "id": "K2au3b8sOvGA"
      },
      "outputs": [],
      "source": [
        "# Import packages\n",
        "import pandas as pd\n",
        "import statsmodels.api as sm\n",
        "import seaborn as sns\n",
        "import matplotlib.pyplot as plt\n",
        "import numpy as np\n"
      ]
    },
    {
      "cell_type": "code",
      "execution_count": 117,
      "metadata": {
        "id": "Xn0nF6QAPn2A"
      },
      "outputs": [],
      "source": [
        "# Open CSV into dataframe\n",
        "#url = 'https://raw.githubusercontent.com/ThalyaGIT/UK-Music-Index-Returns/shift-1/0-data-gold/data.csv' #shift 1\n",
        "#url =  'https://raw.githubusercontent.com/ThalyaGIT/UK-Music-Index-Returns/shift-3/0-data-gold/data.csv' #shift 3\n",
        "#url = 'https://raw.githubusercontent.com/ThalyaGIT/UK-Music-Index-Returns/shift-5-instead/0-data-gold/data.csv' #shift 5\n",
        "url = 'https://raw.githubusercontent.com/ThalyaGIT/UK-Music-Index-Returns/shift-10-again/0-data-gold/data.csv' #shift 10\n",
        "#url = 'https://raw.githubusercontent.com/ThalyaGIT/UK-Music-Index-Returns/shift-15/0-data-gold/data.csv' #shift 15\n",
        "#url = 'https://raw.githubusercontent.com/ThalyaGIT/UK-Music-Index-Returns/shift-20/0-data-gold/data.csv' #shift 20\n",
        "\n",
        "\n",
        "#url = 'https://raw.githubusercontent.com/ThalyaGIT/Happy-Beats-Stocks/volume/0-data-gold/data.csv' #volume\n",
        "\n",
        "df = pd.read_csv(url)\n",
        "\n",
        "# Select columns that will be used\n",
        "df = df[[ 'Date'\n",
        "         , '% FTSE100 Change'                        # Dependent Variable: Weekly % Change in FTSE 100\n",
        "         , '% FTSE250 Change'                        # Dependent Variable: Weekly % Change in FTSE 250\n",
        "         , '% FTSEAllShare Change'                   # Dependent Variable: Weekly % Change in FTSE AllShare\n",
        "         , '% FTSESmallCap Change'                   # Dependent Variable: Weekly % Change in FTSE SmallCap\n",
        "         , '% MSCIUK Change'                         # Dependent Variable:  % Change in MSCIUK\n",
        "         , 'Next Period % MSCIUK Change'             # Dependent Variable: Next Period % Change in MSCIUK\n",
        "         , 'Next Week % FTSE100 Change'              # Dependent Variable 2: Weekly % Change in FTSE 100\n",
        "         , 'Change in SWAV'                          # Independent Variable: Weekly Change in Stream Weighted Average Valence of UK Top Charts on Spotify\n",
        "         , 'ADS_Change'                              # Control 1: Weekly Change in Aruoba-Diebold-Scotti Business Conditions Index\n",
        "         , 'EPU_Change'                              # Control 2: Weekly Change in Economic Policy Uncertainty Index\n",
        "         , 'Previous Week % FTSE100 Change'          # Control 3: Weekly % Change in FTSE 100 from a week before\n",
        "         , 'Previous Week % FTSE250 Change'         # Control 3A: Weekly % Change in FTSE 250 from a week before\n",
        "         , 'Previous Week % FTSEAllShare Change'    # Control 3B: Weekly % Change in FTSE AllShare from a week before\n",
        "         , 'Previous Week % FTSESmallCap Change'    # Control 3C: Weekly % Change in FTSE SmallCap from a week before\n",
        "         , 'Previous Week % MSCIUK Change'          # Control 3D: Weekly % Change in MSCI UK from a week before\n",
        "         , '% MSCI Change'                           # Control 4: Weekly % Change in MSCI World Index\n",
        "         , 'Vix Close'                               # Control 5: Volaitlity Index of the day\n",
        "         , '7D_Rolling_Avg_Change_in_DCC'            # Control 6: Average Change in Deseasonalised Cloud Cover over the Last Week\n",
        "         , 'Stringency_Change'                       # Control 7: Weekly Change in Covid Stringency Rules\n",
        "        # , '% Vol Change'\n",
        "        ]]\n",
        "\n",
        "# Attempt to convert the 'Date' column to datetime, coercing errors to NaT (Not a Time)\n",
        "df['Date'] = pd.to_datetime(df['Date'], errors='coerce')\n",
        "\n",
        "\n",
        "# # Extract the month from the 'Date' column\n",
        "# df['Month'] = df['Date'].dt.month\n",
        "# df['Year'] = df['Date'].dt.year\n",
        "\n",
        "# # Filter for rows where the month is between May (5) and November (11)\n",
        "# df = df[(df['Year'] == 2019)]\n",
        "# df = df[(df['Month'] == 2017)]\n",
        "\n",
        "# df = df[(df['Month'] >= 12) | (df['Month'] <= 4)]\n",
        "\n",
        "\n",
        "\n"
      ]
    },
    {
      "cell_type": "code",
      "execution_count": 118,
      "metadata": {
        "id": "ooLKK8_eVgQP"
      },
      "outputs": [],
      "source": [
        "# Explore Data\n",
        "\n",
        "# # Calculate the correlation matrix\n",
        "# correlation_matrix = df.drop(columns=['Date']).corr()\n",
        "\n",
        "\n",
        "# # Create a heatmap\n",
        "# plt.figure(figsize=(10, 8))\n",
        "# sns.heatmap(correlation_matrix, annot=True, cmap='coolwarm', vmin=-1, vmax=1)\n",
        "# plt.title('Correlation Heatmap of Variables')\n",
        "# plt.show()"
      ]
    },
    {
      "cell_type": "markdown",
      "metadata": {
        "id": "4D4v2bMvV2Ih"
      },
      "source": [
        "# **MSCI UK with No Controlling Variables**"
      ]
    },
    {
      "cell_type": "code",
      "execution_count": 119,
      "metadata": {
        "id": "3qHCM4vZWLh5",
        "colab": {
          "base_uri": "https://localhost:8080/"
        },
        "outputId": "990e3cef-5018-4e4e-f751-9b2485a09da3"
      },
      "outputs": [
        {
          "output_type": "stream",
          "name": "stdout",
          "text": [
            "                            OLS Regression Results                            \n",
            "==============================================================================\n",
            "Dep. Variable:        % MSCIUK Change   R-squared:                       0.006\n",
            "Model:                            OLS   Adj. R-squared:                  0.005\n",
            "Method:                 Least Squares   F-statistic:                     9.602\n",
            "Date:                Tue, 13 Aug 2024   Prob (F-statistic):            0.00198\n",
            "Time:                        21:53:50   Log-Likelihood:                -4701.4\n",
            "No. Observations:                1697   AIC:                             9407.\n",
            "Df Residuals:                    1695   BIC:                             9418.\n",
            "Df Model:                           1                                         \n",
            "Covariance Type:            nonrobust                                         \n",
            "==================================================================================\n",
            "                     coef    std err          t      P>|t|      [0.025      0.975]\n",
            "----------------------------------------------------------------------------------\n",
            "const              0.1088      0.094      1.160      0.246      -0.075       0.293\n",
            "Change in SWAV   -12.6141      4.071     -3.099      0.002     -20.598      -4.630\n",
            "==============================================================================\n",
            "Omnibus:                      593.278   Durbin-Watson:                   0.199\n",
            "Prob(Omnibus):                  0.000   Jarque-Bera (JB):             8584.035\n",
            "Skew:                          -1.228   Prob(JB):                         0.00\n",
            "Kurtosis:                      13.741   Cond. No.                         43.4\n",
            "==============================================================================\n",
            "\n",
            "Notes:\n",
            "[1] Standard Errors assume that the covariance matrix of the errors is correctly specified.\n"
          ]
        }
      ],
      "source": [
        "# Define dependent and independent variables\n",
        "\n",
        "#  Define the dependent variable\n",
        "y = df[ '% MSCIUK Change' ]\n",
        "\n",
        "# Define the independent variable as 'Weekly Change in Stream Weighted Average Valence of UK Top Charts on Spotify' Only\n",
        "X = df[[ 'Change in SWAV' ]]\n",
        "\n",
        "# Add a constant to the model (intercept)\n",
        "X = sm.add_constant(X)\n",
        "\n",
        "# Build and fit the regression model\n",
        "model = sm.OLS(y, X).fit()\n",
        "\n",
        "# Print the summary of the regression model\n",
        "print(model.summary())"
      ]
    },
    {
      "cell_type": "markdown",
      "source": [
        "# **MSCIUK**"
      ],
      "metadata": {
        "id": "bbZg-_ZK4uSW"
      }
    },
    {
      "cell_type": "code",
      "source": [
        "# Define dependent and independent variables\n",
        "\n",
        "#  Define the dependent variable\n",
        "y = df['% MSCIUK Change']\n",
        "\n",
        "# Define the independent variables, including 'Change in SWAV' and the other control variables\n",
        "X = df[[ 'Change in SWAV'                             # Independent Variable: Weekly Change in Stream Weighted Average Valence of UK Top Charts on Spotify\n",
        "          , 'ADS_Change'                              # Control 1: Weekly Change in Aruoba-Diebold-Scotti Business Conditions Index\n",
        "          , 'EPU_Change'                              # Control 2: Weekly Change in Economic Policy Uncertainty Index\n",
        "          , 'Previous Week % MSCIUK Change'           # Control 3: Weekly % Change in FTSE 100 from a week before\n",
        "          , '% MSCI Change'                           # Control 4: Weekly % Change in MSCI World Index\n",
        "          , 'Vix Close'                               # Control 5: Volaitlity Index of the day\n",
        "          , '7D_Rolling_Avg_Change_in_DCC'            # Control 6: Average Change in Deseasonalised Cloud Cover over the Last Week\n",
        "          , 'Stringency_Change'                       # Control 7: Weekly Change in Covid Stringency Rules\n",
        "          ]]\n",
        "\n",
        "# Add a constant to the model (intercept)\n",
        "X = sm.add_constant(X)\n",
        "\n",
        "# Build and fit the regression model\n",
        "model = sm.OLS(y, X).fit()\n",
        "\n",
        "# Print the summary of the regression model\n",
        "print(model.summary())"
      ],
      "metadata": {
        "colab": {
          "base_uri": "https://localhost:8080/"
        },
        "id": "5OTOnvRx4ucM",
        "outputId": "5af1f257-29b6-4615-d2a5-19ccd8900c7e"
      },
      "execution_count": 120,
      "outputs": [
        {
          "output_type": "stream",
          "name": "stdout",
          "text": [
            "                            OLS Regression Results                            \n",
            "==============================================================================\n",
            "Dep. Variable:        % MSCIUK Change   R-squared:                       0.713\n",
            "Model:                            OLS   Adj. R-squared:                  0.712\n",
            "Method:                 Least Squares   F-statistic:                     524.4\n",
            "Date:                Tue, 13 Aug 2024   Prob (F-statistic):               0.00\n",
            "Time:                        21:53:50   Log-Likelihood:                -3646.7\n",
            "No. Observations:                1697   AIC:                             7311.\n",
            "Df Residuals:                    1688   BIC:                             7360.\n",
            "Df Model:                           8                                         \n",
            "Covariance Type:            nonrobust                                         \n",
            "=================================================================================================\n",
            "                                    coef    std err          t      P>|t|      [0.025      0.975]\n",
            "-------------------------------------------------------------------------------------------------\n",
            "const                             0.0423      0.150      0.282      0.778      -0.251       0.336\n",
            "Change in SWAV                   -5.6306      2.210     -2.547      0.011      -9.966      -1.295\n",
            "ADS_Change                        0.0372      0.029      1.286      0.199      -0.020       0.094\n",
            "EPU_Change                       -0.0003      0.000     -1.100      0.271      -0.001       0.000\n",
            "Previous Week % MSCIUK Change    -0.0871      0.015     -5.935      0.000      -0.116      -0.058\n",
            "% MSCI Change                     0.9531      0.017     57.243      0.000       0.920       0.986\n",
            "Vix Close                        -0.0132      0.007     -1.842      0.066      -0.027       0.001\n",
            "7D_Rolling_Avg_Change_in_DCC      0.0288      0.014      2.100      0.036       0.002       0.056\n",
            "Stringency_Change                 0.0683      0.050      1.379      0.168      -0.029       0.166\n",
            "==============================================================================\n",
            "Omnibus:                      146.147   Durbin-Watson:                   0.451\n",
            "Prob(Omnibus):                  0.000   Jarque-Bera (JB):              381.917\n",
            "Skew:                           0.478   Prob(JB):                     1.17e-83\n",
            "Kurtosis:                       5.119   Cond. No.                     8.72e+03\n",
            "==============================================================================\n",
            "\n",
            "Notes:\n",
            "[1] Standard Errors assume that the covariance matrix of the errors is correctly specified.\n",
            "[2] The condition number is large, 8.72e+03. This might indicate that there are\n",
            "strong multicollinearity or other numerical problems.\n"
          ]
        }
      ]
    },
    {
      "cell_type": "markdown",
      "source": [
        "## **Next Period's MSCI Change**"
      ],
      "metadata": {
        "id": "VuJZxeOl6Kjb"
      }
    },
    {
      "cell_type": "code",
      "source": [
        "# Define dependent and independent variables\n",
        "\n",
        "#  Define the dependent variable\n",
        "y = df['Next Period % MSCIUK Change']\n",
        "\n",
        "# Define the independent variables, including 'Change in SWAV' and the other control variables\n",
        "X = df[[ 'Change in SWAV'                            # Independent Variable: Weekly Change in Stream Weighted Average Valence of UK Top Charts on Spotify\n",
        "         , 'ADS_Change'                              # Control 1: Weekly Change in Aruoba-Diebold-Scotti Business Conditions Index\n",
        "         , 'EPU_Change'                              # Control 2: Weekly Change in Economic Policy Uncertainty Index\n",
        "         , '% MSCIUK Change'                         # Control 3: Weekly % Change in MSCI UK\n",
        "         , '% MSCI Change'                           # Control 4: Weekly % Change in MSCI World Index\n",
        "         , 'Vix Close'                               # Control 5: Volaitlity Index of the day\n",
        "         , '7D_Rolling_Avg_Change_in_DCC'            # Control 6: Average Change in Deseasonalised Cloud Cover over the Last Week\n",
        "         , 'Stringency_Change'                       # Control 7: Weekly Change in Covid Stringency Rules\n",
        "        ]]\n",
        "\n",
        "# Add a constant to the model (intercept)\n",
        "X = sm.add_constant(X)\n",
        "\n",
        "# Build and fit the regression model\n",
        "model = sm.OLS(y, X).fit()\n",
        "\n",
        "# Print the summary of the regression model\n",
        "print(model.summary())"
      ],
      "metadata": {
        "id": "R3_tUndl6KzJ",
        "colab": {
          "base_uri": "https://localhost:8080/"
        },
        "outputId": "db76894d-910f-4851-8217-7a7e30320670"
      },
      "execution_count": 121,
      "outputs": [
        {
          "output_type": "stream",
          "name": "stdout",
          "text": [
            "                                 OLS Regression Results                                \n",
            "=======================================================================================\n",
            "Dep. Variable:     Next Period % MSCIUK Change   R-squared:                       0.073\n",
            "Model:                                     OLS   Adj. R-squared:                  0.069\n",
            "Method:                          Least Squares   F-statistic:                     16.65\n",
            "Date:                         Tue, 13 Aug 2024   Prob (F-statistic):           6.04e-24\n",
            "Time:                                 21:53:50   Log-Likelihood:                -4658.0\n",
            "No. Observations:                         1697   AIC:                             9334.\n",
            "Df Residuals:                             1688   BIC:                             9383.\n",
            "Df Model:                                    8                                         \n",
            "Covariance Type:                     nonrobust                                         \n",
            "================================================================================================\n",
            "                                   coef    std err          t      P>|t|      [0.025      0.975]\n",
            "------------------------------------------------------------------------------------------------\n",
            "const                           -0.5806      0.268     -2.163      0.031      -1.107      -0.054\n",
            "Change in SWAV                  -6.8381      4.003     -1.708      0.088     -14.690       1.013\n",
            "ADS_Change                       0.3467      0.052      6.702      0.000       0.245       0.448\n",
            "EPU_Change                      -0.0007      0.000     -1.587      0.113      -0.002       0.000\n",
            "% MSCIUK Change                  0.0250      0.044      0.572      0.567      -0.061       0.111\n",
            "% MSCI Change                   -0.0064      0.052     -0.124      0.901      -0.108       0.095\n",
            "Vix Close                        0.0352      0.013      2.742      0.006       0.010       0.060\n",
            "7D_Rolling_Avg_Change_in_DCC    -0.0145      0.025     -0.581      0.561      -0.063       0.034\n",
            "Stringency_Change                0.8151      0.087      9.367      0.000       0.644       0.986\n",
            "==============================================================================\n",
            "Omnibus:                      726.274   Durbin-Watson:                   0.223\n",
            "Prob(Omnibus):                  0.000   Jarque-Bera (JB):             9287.099\n",
            "Skew:                          -1.648   Prob(JB):                         0.00\n",
            "Kurtosis:                      13.977   Cond. No.                     8.70e+03\n",
            "==============================================================================\n",
            "\n",
            "Notes:\n",
            "[1] Standard Errors assume that the covariance matrix of the errors is correctly specified.\n",
            "[2] The condition number is large, 8.7e+03. This might indicate that there are\n",
            "strong multicollinearity or other numerical problems.\n"
          ]
        }
      ]
    },
    {
      "cell_type": "markdown",
      "source": [
        "# **MSCI UK 2017-2019**"
      ],
      "metadata": {
        "id": "eyA0-jeL5JVA"
      }
    },
    {
      "cell_type": "code",
      "source": [
        "# Define dependent and independent variables\n",
        "\n",
        "# Define the start and end dates for the filter\n",
        "start_date = '2017-01-01'\n",
        "end_date = '2019-12-31'\n",
        "\n",
        "# Filter the DataFrame for dates within the specified range\n",
        "df_period1 = df[(df['Date'] >= start_date) & (df['Date'] <= end_date)]\n",
        "\n",
        "#  Define the dependent variable\n",
        "y = df_period1['% MSCIUK Change']\n",
        "\n",
        "# Define the independent variables, including 'Change in SWAV' and the other control variables\n",
        "X = df_period1[[  'Change in SWAV'                          # Independent Variable: Weekly Change in Stream Weighted Average Valence of UK Top Charts on Spotify\n",
        "                  , 'ADS_Change'                              # Control 1: Weekly Change in Aruoba-Diebold-Scotti Business Conditions Index\n",
        "                  , 'EPU_Change'                              # Control 2: Weekly Change in Economic Policy Uncertainty Index\n",
        "                  , 'Previous Week % MSCIUK Change'          # Control 3: Weekly % Change in FTSE 100 from a week before\n",
        "                  , '% MSCI Change'                           # Control 4: Weekly % Change in MSCI World Index\n",
        "                  , 'Vix Close'                               # Control 5: Volaitlity Index of the day\n",
        "                  , '7D_Rolling_Avg_Change_in_DCC'            # Control 6: Average Change in Deseasonalised Cloud Cover over the Last Week\n",
        "                  , 'Stringency_Change'                       # Control 7: Weekly Change in Covid Stringency Rules\n",
        "                  ]]\n",
        "\n",
        "# Add a constant to the model (intercept)\n",
        "X = sm.add_constant(X)\n",
        "\n",
        "# Build and fit the regression model\n",
        "model = sm.OLS(y, X).fit()\n",
        "\n",
        "# Print the summary of the regression model\n",
        "print(model.summary())"
      ],
      "metadata": {
        "colab": {
          "base_uri": "https://localhost:8080/"
        },
        "id": "DSZMZxZh5KBY",
        "outputId": "1410fd06-afc8-4767-b592-d1c8db1480fc"
      },
      "execution_count": 122,
      "outputs": [
        {
          "output_type": "stream",
          "name": "stdout",
          "text": [
            "                            OLS Regression Results                            \n",
            "==============================================================================\n",
            "Dep. Variable:        % MSCIUK Change   R-squared:                       0.699\n",
            "Model:                            OLS   Adj. R-squared:                  0.696\n",
            "Method:                 Least Squares   F-statistic:                     236.4\n",
            "Date:                Tue, 13 Aug 2024   Prob (F-statistic):          3.32e-181\n",
            "Time:                        21:53:50   Log-Likelihood:                -1285.3\n",
            "No. Observations:                 722   AIC:                             2587.\n",
            "Df Residuals:                     714   BIC:                             2623.\n",
            "Df Model:                           7                                         \n",
            "Covariance Type:            nonrobust                                         \n",
            "=================================================================================================\n",
            "                                    coef    std err          t      P>|t|      [0.025      0.975]\n",
            "-------------------------------------------------------------------------------------------------\n",
            "const                            -0.7305      0.255     -2.861      0.004      -1.232      -0.229\n",
            "Change in SWAV                   -2.3218      2.779     -0.836      0.404      -7.777       3.133\n",
            "ADS_Change                       -0.9605      0.296     -3.243      0.001      -1.542      -0.379\n",
            "EPU_Change                        0.0001      0.000      0.468      0.640      -0.000       0.001\n",
            "Previous Week % MSCIUK Change    -0.0278      0.022     -1.276      0.202      -0.070       0.015\n",
            "% MSCI Change                     1.0061      0.031     32.219      0.000       0.945       1.067\n",
            "Vix Close                         0.0336      0.017      2.009      0.045       0.001       0.067\n",
            "7D_Rolling_Avg_Change_in_DCC      0.0196      0.015      1.282      0.200      -0.010       0.050\n",
            "Stringency_Change                      0          0        nan        nan           0           0\n",
            "==============================================================================\n",
            "Omnibus:                       22.251   Durbin-Watson:                   0.414\n",
            "Prob(Omnibus):                  0.000   Jarque-Bera (JB):               47.496\n",
            "Skew:                           0.112   Prob(JB):                     4.86e-11\n",
            "Kurtosis:                       4.236   Cond. No.                          inf\n",
            "==============================================================================\n",
            "\n",
            "Notes:\n",
            "[1] Standard Errors assume that the covariance matrix of the errors is correctly specified.\n",
            "[2] The smallest eigenvalue is      0. This might indicate that there are\n",
            "strong multicollinearity problems or that the design matrix is singular.\n"
          ]
        },
        {
          "output_type": "stream",
          "name": "stderr",
          "text": [
            "/usr/local/lib/python3.10/dist-packages/statsmodels/regression/linear_model.py:1967: RuntimeWarning: divide by zero encountered in scalar divide\n",
            "  return np.sqrt(eigvals[0]/eigvals[-1])\n"
          ]
        }
      ]
    },
    {
      "cell_type": "markdown",
      "source": [
        "# **MSCI UK 2020-2023**"
      ],
      "metadata": {
        "id": "ZXZIg3X26r5V"
      }
    },
    {
      "cell_type": "code",
      "source": [
        "# Define dependent and independent variables\n",
        "\n",
        "# Define the start and end dates for the filter\n",
        "start_date = '2020-01-01'\n",
        "end_date = '2023-12-31'\n",
        "\n",
        "# Filter the DataFrame for dates within the specified range\n",
        "df_period2 = df[(df['Date'] >= start_date) & (df['Date'] <= end_date)]\n",
        "\n",
        "#  Define the dependent variable\n",
        "y = df_period2['% MSCIUK Change']\n",
        "\n",
        "# Define the independent variables, including 'Change in SWAV' and the other control variables\n",
        "X = df_period2[[ 'Change in SWAV'                           # Independent Variable: Weekly Change in Stream Weighted Average Valence of UK Top Charts on Spotify\n",
        "                , 'ADS_Change'                              # Control 1: Weekly Change in Aruoba-Diebold-Scotti Business Conditions Index\n",
        "                , 'EPU_Change'                              # Control 2: Weekly Change in Economic Policy Uncertainty Index\n",
        "                , 'Previous Week % MSCIUK Change'          # Control 3: Weekly % Change in FTSE 100 from a week before\n",
        "                , '% MSCI Change'                           # Control 4: Weekly % Change in MSCI World Index\n",
        "                , 'Vix Close'                               # Control 5: Volaitlity Index of the day\n",
        "                , '7D_Rolling_Avg_Change_in_DCC'            # Control 6: Average Change in Deseasonalised Cloud Cover over the Last Week\n",
        "                , 'Stringency_Change'                       # Control 7: Weekly Change in Covid Stringency Rules\n",
        "                ]]\n",
        "\n",
        "# Add a constant to the model (intercept)\n",
        "X = sm.add_constant(X)\n",
        "\n",
        "# Build and fit the regression model\n",
        "model = sm.OLS(y, X).fit()\n",
        "\n",
        "# Print the summary of the regression model\n",
        "print(model.summary())"
      ],
      "metadata": {
        "colab": {
          "base_uri": "https://localhost:8080/"
        },
        "id": "OBa3TQ4f6sPs",
        "outputId": "3e3728e9-fd5c-417c-fbc8-1ed8b9f49287"
      },
      "execution_count": 123,
      "outputs": [
        {
          "output_type": "stream",
          "name": "stdout",
          "text": [
            "                            OLS Regression Results                            \n",
            "==============================================================================\n",
            "Dep. Variable:        % MSCIUK Change   R-squared:                       0.721\n",
            "Model:                            OLS   Adj. R-squared:                  0.718\n",
            "Method:                 Least Squares   F-statistic:                     311.5\n",
            "Date:                Tue, 13 Aug 2024   Prob (F-statistic):          2.29e-261\n",
            "Time:                        21:53:51   Log-Likelihood:                -2247.4\n",
            "No. Observations:                 975   AIC:                             4513.\n",
            "Df Residuals:                     966   BIC:                             4557.\n",
            "Df Model:                           8                                         \n",
            "Covariance Type:            nonrobust                                         \n",
            "=================================================================================================\n",
            "                                    coef    std err          t      P>|t|      [0.025      0.975]\n",
            "-------------------------------------------------------------------------------------------------\n",
            "const                             0.4517      0.274      1.651      0.099      -0.085       0.989\n",
            "Change in SWAV                   -6.8830      3.126     -2.202      0.028     -13.018      -0.748\n",
            "ADS_Change                        0.0458      0.034      1.331      0.184      -0.022       0.113\n",
            "EPU_Change                       -0.0005      0.000     -1.312      0.190      -0.001       0.000\n",
            "Previous Week % MSCIUK Change    -0.1043      0.020     -5.300      0.000      -0.143      -0.066\n",
            "% MSCI Change                     0.9360      0.022     42.314      0.000       0.893       0.979\n",
            "Vix Close                        -0.0284      0.011     -2.523      0.012      -0.051      -0.006\n",
            "7D_Rolling_Avg_Change_in_DCC      0.0347      0.021      1.676      0.094      -0.006       0.075\n",
            "Stringency_Change                 0.0872      0.060      1.445      0.149      -0.031       0.206\n",
            "==============================================================================\n",
            "Omnibus:                       68.613   Durbin-Watson:                   0.463\n",
            "Prob(Omnibus):                  0.000   Jarque-Bera (JB):              107.336\n",
            "Skew:                           0.535   Prob(JB):                     4.92e-24\n",
            "Kurtosis:                       4.224   Cond. No.                     8.47e+03\n",
            "==============================================================================\n",
            "\n",
            "Notes:\n",
            "[1] Standard Errors assume that the covariance matrix of the errors is correctly specified.\n",
            "[2] The condition number is large, 8.47e+03. This might indicate that there are\n",
            "strong multicollinearity or other numerical problems.\n"
          ]
        }
      ]
    },
    {
      "cell_type": "markdown",
      "metadata": {
        "id": "m-NWl8zvYqAJ"
      },
      "source": [
        "## Findings\n",
        "\n",
        "**Low Explanatory Power:** The model has an R-squared of 0.006, indicating a poor fit.\n",
        "\n",
        "**Significant Negative Effect:** Change in SWAV significantly decreases FTSE 100 change (coefficient = -11.5132, p < 0.001).\n",
        "\n",
        "**Model Significance:** The model is statistically significant (F-statistic = 24.10, p < 0.001).\n",
        "\n",
        "**Non-Significant Intercept:** The constant term is not significant (p = 0.508).\n",
        "\n",
        "**Residual Issues:** Residuals show non-normality and autocorrelation, indicating model assumption problems."
      ]
    },
    {
      "cell_type": "markdown",
      "metadata": {
        "id": "-F-YLeLCWO1j"
      },
      "source": [
        "# **FTSE100**\n",
        "\n",
        "\n"
      ]
    },
    {
      "cell_type": "code",
      "execution_count": 124,
      "metadata": {
        "id": "90BZWX8jUnkY",
        "colab": {
          "base_uri": "https://localhost:8080/"
        },
        "outputId": "a4a73f9a-3aa2-45cd-fe8b-738bbc2e6ab5"
      },
      "outputs": [
        {
          "output_type": "stream",
          "name": "stdout",
          "text": [
            "                            OLS Regression Results                            \n",
            "==============================================================================\n",
            "Dep. Variable:       % FTSE100 Change   R-squared:                       0.633\n",
            "Model:                            OLS   Adj. R-squared:                  0.631\n",
            "Method:                 Least Squares   F-statistic:                     363.3\n",
            "Date:                Tue, 13 Aug 2024   Prob (F-statistic):               0.00\n",
            "Time:                        21:53:51   Log-Likelihood:                -3481.6\n",
            "No. Observations:                1697   AIC:                             6981.\n",
            "Df Residuals:                    1688   BIC:                             7030.\n",
            "Df Model:                           8                                         \n",
            "Covariance Type:            nonrobust                                         \n",
            "==================================================================================================\n",
            "                                     coef    std err          t      P>|t|      [0.025      0.975]\n",
            "--------------------------------------------------------------------------------------------------\n",
            "const                              0.3170      0.137      2.315      0.021       0.048       0.586\n",
            "Change in SWAV                    -6.5180      1.996     -3.266      0.001     -10.433      -2.603\n",
            "ADS_Change                         0.1783      0.027      6.646      0.000       0.126       0.231\n",
            "EPU_Change                         0.0002      0.000      0.904      0.366      -0.000       0.001\n",
            "Previous Week % FTSE100 Change    -0.1237      0.017     -7.144      0.000      -0.158      -0.090\n",
            "% MSCI Change                      0.6708      0.015     43.910      0.000       0.641       0.701\n",
            "Vix Close                         -0.0246      0.007     -3.750      0.000      -0.037      -0.012\n",
            "7D_Rolling_Avg_Change_in_DCC       0.0063      0.012      0.504      0.614      -0.018       0.031\n",
            "Stringency_Change                 -0.0449      0.045     -1.002      0.316      -0.133       0.043\n",
            "==============================================================================\n",
            "Omnibus:                       64.952   Durbin-Watson:                   0.301\n",
            "Prob(Omnibus):                  0.000   Jarque-Bera (JB):              154.599\n",
            "Skew:                           0.187   Prob(JB):                     2.69e-34\n",
            "Kurtosis:                       4.431   Cond. No.                     8.67e+03\n",
            "==============================================================================\n",
            "\n",
            "Notes:\n",
            "[1] Standard Errors assume that the covariance matrix of the errors is correctly specified.\n",
            "[2] The condition number is large, 8.67e+03. This might indicate that there are\n",
            "strong multicollinearity or other numerical problems.\n"
          ]
        }
      ],
      "source": [
        "import pandas as pd\n",
        "import statsmodels.api as sm\n",
        "\n",
        "# Define the dependent variable\n",
        "y = df['% FTSE100 Change']\n",
        "\n",
        "# Define the independent variables, including 'Change in SWAV' and the other control variables\n",
        "X = df[[ 'Change in SWAV',                          # Independent Variable: Weekly Change in Stream Weighted Average Valence of UK Top Charts on Spotify\n",
        "         'ADS_Change',                              # Control 1: Weekly Change in Aruoba-Diebold-Scotti Business Conditions Index\n",
        "         'EPU_Change',                              # Control 2: Weekly Change in Economic Policy Uncertainty Index\n",
        "         'Previous Week % FTSE100 Change',          # Control 3: Weekly % Change in FTSE 100 from a week before\n",
        "         '% MSCI Change',                           # Control 4: Weekly % Change in MSCI World Index\n",
        "         'Vix Close',                               # Control 5: Volaitlity Index of the day\n",
        "         '7D_Rolling_Avg_Change_in_DCC',            # Control 6: Average Change in Deseasonalised Cloud Cover over the Last Week\n",
        "         'Stringency_Change'                        # Control 7: Weekly Change in Covid Stringency Rules\n",
        "]]\n",
        "\n",
        "# Add a constant to the model (intercept)\n",
        "X = sm.add_constant(X)\n",
        "\n",
        "# Fit the regression model\n",
        "model = sm.OLS(y, X).fit()\n",
        "\n",
        "# Print the summary of the regression model\n",
        "print(model.summary())"
      ]
    },
    {
      "cell_type": "markdown",
      "source": [
        "# **FTSE100 without MSCI as a Control**"
      ],
      "metadata": {
        "id": "nrmYpsRj430I"
      }
    },
    {
      "cell_type": "code",
      "source": [
        "# Define dependent and independent variables\n",
        "\n",
        "# #  Define the dependent variable\n",
        "y = df['% FTSE100 Change']\n",
        "\n",
        "# Define the independent variables, including 'Change in SWAV' and the other control variables\n",
        "X = df[[ 'Change in SWAV'                          # Independent Variable: Weekly Change in Stream Weighted Average Valence of UK Top Charts on Spotify\n",
        "         , 'ADS_Change'                              # Control 1: Weekly Change in Aruoba-Diebold-Scotti Business Conditions Index\n",
        "         , 'EPU_Change'                              # Control 2: Weekly Change in Economic Policy Uncertainty Index\n",
        "         , 'Previous Week % FTSE100 Change'          # Control 3: Weekly % Change in FTSE 100 from a week before\n",
        "         #, '% MSCI Change'                           # Control 4: Weekly % Change in MSCI World Index\n",
        "         , 'Vix Close'                               # Control 5: Volaitlity Index of the day\n",
        "         , '7D_Rolling_Avg_Change_in_DCC'            # Control 6: Average Change in Deseasonalised Cloud Cover over the Last Week\n",
        "         , 'Stringency_Change'                       # Control 7: Weekly Change in Covid Stringency Rules\n",
        "        ]]\n",
        "\n",
        "# Add a constant to the model (intercept)\n",
        "X = sm.add_constant(X)\n",
        "\n",
        "# Build and fit the regression model\n",
        "model = sm.OLS(y, X).fit()\n",
        "\n",
        "# Print the summary of the regression model\n",
        "print(model.summary())"
      ],
      "metadata": {
        "colab": {
          "base_uri": "https://localhost:8080/"
        },
        "id": "yzBa2KHZ5B-A",
        "outputId": "312f5f12-0900-419f-fbd0-68cdbd6d98d1"
      },
      "execution_count": 125,
      "outputs": [
        {
          "output_type": "stream",
          "name": "stdout",
          "text": [
            "                            OLS Regression Results                            \n",
            "==============================================================================\n",
            "Dep. Variable:       % FTSE100 Change   R-squared:                       0.213\n",
            "Model:                            OLS   Adj. R-squared:                  0.210\n",
            "Method:                 Least Squares   F-statistic:                     65.29\n",
            "Date:                Tue, 13 Aug 2024   Prob (F-statistic):           1.94e-83\n",
            "Time:                        21:53:51   Log-Likelihood:                -4128.0\n",
            "No. Observations:                1697   AIC:                             8272.\n",
            "Df Residuals:                    1689   BIC:                             8315.\n",
            "Df Model:                           7                                         \n",
            "Covariance Type:            nonrobust                                         \n",
            "==================================================================================================\n",
            "                                     coef    std err          t      P>|t|      [0.025      0.975]\n",
            "--------------------------------------------------------------------------------------------------\n",
            "const                              2.6320      0.185     14.236      0.000       2.269       2.995\n",
            "Change in SWAV                    -7.5269      2.920     -2.578      0.010     -13.254      -1.799\n",
            "ADS_Change                         0.4467      0.038     11.688      0.000       0.372       0.522\n",
            "EPU_Change                        -0.0006      0.000     -1.701      0.089      -0.001    8.95e-05\n",
            "Previous Week % FTSE100 Change    -0.2442      0.025     -9.767      0.000      -0.293      -0.195\n",
            "Vix Close                         -0.1318      0.009    -14.819      0.000      -0.149      -0.114\n",
            "7D_Rolling_Avg_Change_in_DCC      -0.0012      0.018     -0.065      0.948      -0.037       0.035\n",
            "Stringency_Change                  0.0268      0.065      0.410      0.682      -0.102       0.155\n",
            "==============================================================================\n",
            "Omnibus:                      191.486   Durbin-Watson:                   0.205\n",
            "Prob(Omnibus):                  0.000   Jarque-Bera (JB):             1366.027\n",
            "Skew:                           0.252   Prob(JB):                    2.35e-297\n",
            "Kurtosis:                       7.366   Cond. No.                     8.67e+03\n",
            "==============================================================================\n",
            "\n",
            "Notes:\n",
            "[1] Standard Errors assume that the covariance matrix of the errors is correctly specified.\n",
            "[2] The condition number is large, 8.67e+03. This might indicate that there are\n",
            "strong multicollinearity or other numerical problems.\n"
          ]
        }
      ]
    },
    {
      "cell_type": "markdown",
      "source": [
        "# **FTSE 250 Mid Cap**"
      ],
      "metadata": {
        "id": "1-4LBAcz3xNt"
      }
    },
    {
      "cell_type": "code",
      "source": [
        "# Define dependent and independent variables\n",
        "\n",
        "\n",
        "#  Define the dependent variable\n",
        "y = df['% FTSE250 Change']\n",
        "\n",
        "# Define the independent variables, including 'Change in SWAV' and the other control variables\n",
        "X = df[[ 'Change in SWAV'                           # Independent Variable: Weekly Change in Stream Weighted Average Valence of UK Top Charts on Spotify\n",
        "          , 'ADS_Change'                              # Control 1: Weekly Change in Aruoba-Diebold-Scotti Business Conditions Index\n",
        "          , 'EPU_Change'                              # Control 2: Weekly Change in Economic Policy Uncertainty Index\n",
        "          , 'Previous Week % FTSE250 Change'          # Control 3: Weekly % Change in FTSE 100 from a week before\n",
        "          , '% MSCI Change'                           # Control 4: Weekly % Change in MSCI World Index\n",
        "          , 'Vix Close'                               # Control 5: Volaitlity Index of the day\n",
        "          , '7D_Rolling_Avg_Change_in_DCC'            # Control 6: Average Change in Deseasonalised Cloud Cover over the Last Week\n",
        "          , 'Stringency_Change'                       # Control 7: Weekly Change in Covid Stringency Rules\n",
        "          ]]\n",
        "\n",
        "# Add a constant to the model (intercept)\n",
        "X = sm.add_constant(X)\n",
        "\n",
        "# Build and fit the regression model\n",
        "model = sm.OLS(y, X).fit()\n",
        "\n",
        "# Print the summary of the regression model\n",
        "print(model.summary())"
      ],
      "metadata": {
        "colab": {
          "base_uri": "https://localhost:8080/"
        },
        "id": "fAH0o0223xcy",
        "outputId": "d3f4376e-c8ce-4e67-b79b-d3f7875b1bd4"
      },
      "execution_count": 126,
      "outputs": [
        {
          "output_type": "stream",
          "name": "stdout",
          "text": [
            "                            OLS Regression Results                            \n",
            "==============================================================================\n",
            "Dep. Variable:       % FTSE250 Change   R-squared:                       0.756\n",
            "Model:                            OLS   Adj. R-squared:                  0.755\n",
            "Method:                 Least Squares   F-statistic:                     653.7\n",
            "Date:                Tue, 13 Aug 2024   Prob (F-statistic):               0.00\n",
            "Time:                        21:53:51   Log-Likelihood:                -3470.7\n",
            "No. Observations:                1697   AIC:                             6959.\n",
            "Df Residuals:                    1688   BIC:                             7008.\n",
            "Df Model:                           8                                         \n",
            "Covariance Type:            nonrobust                                         \n",
            "==================================================================================================\n",
            "                                     coef    std err          t      P>|t|      [0.025      0.975]\n",
            "--------------------------------------------------------------------------------------------------\n",
            "const                              0.2059      0.137      1.505      0.132      -0.062       0.474\n",
            "Change in SWAV                    -3.5614      1.985     -1.794      0.073      -7.455       0.332\n",
            "ADS_Change                         0.1434      0.027      5.376      0.000       0.091       0.196\n",
            "EPU_Change                        -0.0004      0.000     -1.833      0.067      -0.001       3e-05\n",
            "Previous Week % FTSE250 Change    -0.0689      0.014     -4.954      0.000      -0.096      -0.042\n",
            "% MSCI Change                      0.9143      0.015     60.373      0.000       0.885       0.944\n",
            "Vix Close                         -0.0225      0.007     -3.435      0.001      -0.035      -0.010\n",
            "7D_Rolling_Avg_Change_in_DCC      -0.0179      0.012     -1.444      0.149      -0.042       0.006\n",
            "Stringency_Change                 -0.1754      0.044     -3.991      0.000      -0.262      -0.089\n",
            "==============================================================================\n",
            "Omnibus:                       56.573   Durbin-Watson:                   0.421\n",
            "Prob(Omnibus):                  0.000   Jarque-Bera (JB):              147.719\n",
            "Skew:                          -0.057   Prob(JB):                     8.38e-33\n",
            "Kurtosis:                       4.441   Cond. No.                     8.68e+03\n",
            "==============================================================================\n",
            "\n",
            "Notes:\n",
            "[1] Standard Errors assume that the covariance matrix of the errors is correctly specified.\n",
            "[2] The condition number is large, 8.68e+03. This might indicate that there are\n",
            "strong multicollinearity or other numerical problems.\n"
          ]
        }
      ]
    },
    {
      "cell_type": "markdown",
      "source": [
        "# **FTSE Small Cap**"
      ],
      "metadata": {
        "id": "BxyaRVs74jzk"
      }
    },
    {
      "cell_type": "code",
      "source": [
        "# Define dependent and independent variables\n",
        "\n",
        "#  Define the dependent variable\n",
        "y = df['% FTSESmallCap Change']\n",
        "\n",
        "# Define the independent variables, including 'Change in SWAV' and the other control variables\n",
        "X = df[[ 'Change in SWAV'                           # Independent Variable: Weekly Change in Stream Weighted Average Valence of UK Top Charts on Spotify\n",
        "                , 'ADS_Change'                              # Control 1: Weekly Change in Aruoba-Diebold-Scotti Business Conditions Index\n",
        "                , 'EPU_Change'                              # Control 2: Weekly Change in Economic Policy Uncertainty Index\n",
        "                , 'Previous Week % FTSESmallCap Change'          # Control 3: Weekly % Change in FTSE 100 from a week before\n",
        "                , '% MSCI Change'                           # Control 4: Weekly % Change in MSCI World Index\n",
        "                , 'Vix Close'                               # Control 5: Volaitlity Index of the day\n",
        "                , '7D_Rolling_Avg_Change_in_DCC'            # Control 6: Average Change in Deseasonalised Cloud Cover over the Last Week\n",
        "                , 'Stringency_Change'                       # Control 7: Weekly Change in Covid Stringency Rules\n",
        "                ]]\n",
        "\n",
        "# Add a constant to the model (intercept)\n",
        "X = sm.add_constant(X)\n",
        "\n",
        "# Build and fit the regression model\n",
        "model = sm.OLS(y, X).fit()\n",
        "\n",
        "# Print the summary of the regression model\n",
        "print(model.summary())"
      ],
      "metadata": {
        "colab": {
          "base_uri": "https://localhost:8080/"
        },
        "id": "MtZG91-94j6l",
        "outputId": "8eba0fc5-0b4a-4243-8b53-3f3aaeb3edaf"
      },
      "execution_count": 127,
      "outputs": [
        {
          "output_type": "stream",
          "name": "stdout",
          "text": [
            "                              OLS Regression Results                             \n",
            "=================================================================================\n",
            "Dep. Variable:     % FTSESmallCap Change   R-squared:                       0.720\n",
            "Model:                               OLS   Adj. R-squared:                  0.718\n",
            "Method:                    Least Squares   F-statistic:                     541.5\n",
            "Date:                   Tue, 13 Aug 2024   Prob (F-statistic):               0.00\n",
            "Time:                           21:53:51   Log-Likelihood:                -3353.9\n",
            "No. Observations:                   1697   AIC:                             6726.\n",
            "Df Residuals:                       1688   BIC:                             6775.\n",
            "Df Model:                              8                                         \n",
            "Covariance Type:               nonrobust                                         \n",
            "=======================================================================================================\n",
            "                                          coef    std err          t      P>|t|      [0.025      0.975]\n",
            "-------------------------------------------------------------------------------------------------------\n",
            "const                                  -0.0137      0.128     -0.107      0.915      -0.264       0.237\n",
            "Change in SWAV                          0.0315      1.852      0.017      0.986      -3.600       3.663\n",
            "ADS_Change                              0.1007      0.025      3.978      0.000       0.051       0.150\n",
            "EPU_Change                             -0.0004      0.000     -1.854      0.064      -0.001    2.34e-05\n",
            "Previous Week % FTSESmallCap Change    -0.0064      0.015     -0.420      0.674      -0.036       0.023\n",
            "% MSCI Change                           0.7694      0.014     53.961      0.000       0.741       0.797\n",
            "Vix Close                              -0.0060      0.006     -0.985      0.325      -0.018       0.006\n",
            "7D_Rolling_Avg_Change_in_DCC           -0.0037      0.012     -0.322      0.748      -0.026       0.019\n",
            "Stringency_Change                      -0.3627      0.041     -8.826      0.000      -0.443      -0.282\n",
            "==============================================================================\n",
            "Omnibus:                      286.428   Durbin-Watson:                   0.337\n",
            "Prob(Omnibus):                  0.000   Jarque-Bera (JB):             4183.274\n",
            "Skew:                           0.300   Prob(JB):                         0.00\n",
            "Kurtosis:                      10.668   Cond. No.                     8.68e+03\n",
            "==============================================================================\n",
            "\n",
            "Notes:\n",
            "[1] Standard Errors assume that the covariance matrix of the errors is correctly specified.\n",
            "[2] The condition number is large, 8.68e+03. This might indicate that there are\n",
            "strong multicollinearity or other numerical problems.\n"
          ]
        }
      ]
    },
    {
      "cell_type": "markdown",
      "source": [
        "# **FTSE All Share**"
      ],
      "metadata": {
        "id": "rEB_QO0r4AnW"
      }
    },
    {
      "cell_type": "code",
      "source": [
        "# Define dependent and independent variables\n",
        "\n",
        "#  Define the dependent variable\n",
        "y = df['% FTSEAllShare Change']\n",
        "\n",
        "# Define the independent variables, including 'Change in SWAV' and the other control variables\n",
        "X = df[[ 'Change in SWAV'                           # Independent Variable: Weekly Change in Stream Weighted Average Valence of UK Top Charts on Spotify\n",
        "                , 'ADS_Change'                              # Control 1: Weekly Change in Aruoba-Diebold-Scotti Business Conditions Index\n",
        "                , 'EPU_Change'                              # Control 2: Weekly Change in Economic Policy Uncertainty Index\n",
        "                , 'Previous Week % FTSEAllShare Change'          # Control 3: Weekly % Change in FTSE 100 from a week before\n",
        "                , '% MSCI Change'                           # Control 4: Weekly % Change in MSCI World Index\n",
        "                , 'Vix Close'                               # Control 5: Volaitlity Index of the day\n",
        "                , '7D_Rolling_Avg_Change_in_DCC'            # Control 6: Average Change in Deseasonalised Cloud Cover over the Last Week\n",
        "                , 'Stringency_Change'                       # Control 7: Weekly Change in Covid Stringency Rules\n",
        "                ]]\n",
        "\n",
        "# Add a constant to the model (intercept)\n",
        "X = sm.add_constant(X)\n",
        "\n",
        "# Build and fit the regression model\n",
        "model = sm.OLS(y, X).fit()\n",
        "\n",
        "# Print the summary of the regression model\n",
        "print(model.summary())"
      ],
      "metadata": {
        "colab": {
          "base_uri": "https://localhost:8080/"
        },
        "id": "W3W-jUUC4BCS",
        "outputId": "9892637f-b9c4-46d3-90bb-ee837e08a26d"
      },
      "execution_count": 128,
      "outputs": [
        {
          "output_type": "stream",
          "name": "stdout",
          "text": [
            "                              OLS Regression Results                             \n",
            "=================================================================================\n",
            "Dep. Variable:     % FTSEAllShare Change   R-squared:                       0.690\n",
            "Model:                               OLS   Adj. R-squared:                  0.689\n",
            "Method:                    Least Squares   F-statistic:                     470.0\n",
            "Date:                   Tue, 13 Aug 2024   Prob (F-statistic):               0.00\n",
            "Time:                           21:53:51   Log-Likelihood:                -3351.4\n",
            "No. Observations:                   1697   AIC:                             6721.\n",
            "Df Residuals:                       1688   BIC:                             6770.\n",
            "Df Model:                              8                                         \n",
            "Covariance Type:               nonrobust                                         \n",
            "=======================================================================================================\n",
            "                                          coef    std err          t      P>|t|      [0.025      0.975]\n",
            "-------------------------------------------------------------------------------------------------------\n",
            "const                                   0.2894      0.127      2.276      0.023       0.040       0.539\n",
            "Change in SWAV                         -5.8557      1.849     -3.167      0.002      -9.482      -2.230\n",
            "ADS_Change                              0.1692      0.025      6.786      0.000       0.120       0.218\n",
            "EPU_Change                           9.638e-05      0.000      0.442      0.659      -0.000       0.001\n",
            "Previous Week % FTSEAllShare Change    -0.1039      0.016     -6.484      0.000      -0.135      -0.072\n",
            "% MSCI Change                           0.7117      0.014     50.248      0.000       0.684       0.739\n",
            "Vix Close                              -0.0237      0.006     -3.896      0.000      -0.036      -0.012\n",
            "7D_Rolling_Avg_Change_in_DCC            0.0024      0.012      0.207      0.836      -0.020       0.025\n",
            "Stringency_Change                      -0.0752      0.041     -1.814      0.070      -0.156       0.006\n",
            "==============================================================================\n",
            "Omnibus:                       64.140   Durbin-Watson:                   0.326\n",
            "Prob(Omnibus):                  0.000   Jarque-Bera (JB):              161.490\n",
            "Skew:                           0.153   Prob(JB):                     8.57e-36\n",
            "Kurtosis:                       4.480   Cond. No.                     8.68e+03\n",
            "==============================================================================\n",
            "\n",
            "Notes:\n",
            "[1] Standard Errors assume that the covariance matrix of the errors is correctly specified.\n",
            "[2] The condition number is large, 8.68e+03. This might indicate that there are\n",
            "strong multicollinearity or other numerical problems.\n"
          ]
        }
      ]
    }
  ],
  "metadata": {
    "colab": {
      "provenance": [],
      "authorship_tag": "ABX9TyNwxUQzbgw790zFTTiY5L8R",
      "include_colab_link": true
    },
    "kernelspec": {
      "display_name": "Python 3",
      "name": "python3"
    },
    "language_info": {
      "name": "python"
    }
  },
  "nbformat": 4,
  "nbformat_minor": 0
}