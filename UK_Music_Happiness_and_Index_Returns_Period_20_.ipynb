{
  "cells": [
    {
      "cell_type": "markdown",
      "metadata": {
        "id": "view-in-github",
        "colab_type": "text"
      },
      "source": [
        "<a href=\"https://colab.research.google.com/github/ThalyaGIT/UK-Music-Index-Returns/blob/main/UK_Music_Happiness_and_Index_Returns_Period_20_.ipynb\" target=\"_parent\"><img src=\"https://colab.research.google.com/assets/colab-badge.svg\" alt=\"Open In Colab\"/></a>"
      ]
    },
    {
      "cell_type": "code",
      "execution_count": 142,
      "metadata": {
        "id": "K2au3b8sOvGA"
      },
      "outputs": [],
      "source": [
        "# Import packages\n",
        "import pandas as pd\n",
        "import statsmodels.api as sm\n",
        "import seaborn as sns\n",
        "import matplotlib.pyplot as plt\n",
        "import numpy as np\n"
      ]
    },
    {
      "cell_type": "code",
      "execution_count": 143,
      "metadata": {
        "id": "Xn0nF6QAPn2A"
      },
      "outputs": [],
      "source": [
        "# Open CSV into dataframe\n",
        "#url = 'https://raw.githubusercontent.com/ThalyaGIT/UK-Music-Index-Returns/shift-1/0-data-gold/data.csv' #shift 1\n",
        "#url =  'https://raw.githubusercontent.com/ThalyaGIT/UK-Music-Index-Returns/shift-3/0-data-gold/data.csv' #shift 3\n",
        "#url = 'https://raw.githubusercontent.com/ThalyaGIT/UK-Music-Index-Returns/shift-5-instead/0-data-gold/data.csv' #shift 5\n",
        "#url = 'https://raw.githubusercontent.com/ThalyaGIT/UK-Music-Index-Returns/shift-10-again/0-data-gold/data.csv' #shift 10\n",
        "url = 'https://raw.githubusercontent.com/ThalyaGIT/UK-Music-Index-Returns/shift-20/0-data-gold/data.csv' #shift 20\n",
        "\n",
        "\n",
        "#url = 'https://raw.githubusercontent.com/ThalyaGIT/Happy-Beats-Stocks/volume/0-data-gold/data.csv' #volume\n",
        "\n",
        "df = pd.read_csv(url)\n",
        "\n",
        "# Select columns that will be used\n",
        "df = df[[ 'Date'\n",
        "         , '% FTSE100 Change'                        # Dependent Variable: Weekly % Change in FTSE 100\n",
        "         , '% FTSE250 Change'                        # Dependent Variable: Weekly % Change in FTSE 250\n",
        "         , '% FTSEAllShare Change'                   # Dependent Variable: Weekly % Change in FTSE AllShare\n",
        "         , '% FTSESmallCap Change'                   # Dependent Variable: Weekly % Change in FTSE SmallCap\n",
        "         , '% MSCIUK Change'                         # Dependent Variable:  % Change in MSCIUK\n",
        "         , 'Next Period % MSCIUK Change'             # Dependent Variable: Next Period % Change in MSCIUK\n",
        "         , 'Next Week % FTSE100 Change'              # Dependent Variable 2: Weekly % Change in FTSE 100\n",
        "         , 'Change in SWAV'                          # Independent Variable: Weekly Change in Stream Weighted Average Valence of UK Top Charts on Spotify\n",
        "         , 'ADS_Change'                              # Control 1: Weekly Change in Aruoba-Diebold-Scotti Business Conditions Index\n",
        "         , 'EPU_Change'                              # Control 2: Weekly Change in Economic Policy Uncertainty Index\n",
        "         , 'Previous Week % FTSE100 Change'          # Control 3: Weekly % Change in FTSE 100 from a week before\n",
        "         , 'Previous Week % FTSE250 Change'         # Control 3A: Weekly % Change in FTSE 250 from a week before\n",
        "         , 'Previous Week % FTSEAllShare Change'    # Control 3B: Weekly % Change in FTSE AllShare from a week before\n",
        "         , 'Previous Week % FTSESmallCap Change'    # Control 3C: Weekly % Change in FTSE SmallCap from a week before\n",
        "         , 'Previous Week % MSCIUK Change'          # Control 3D: Weekly % Change in MSCI UK from a week before\n",
        "         , '% MSCI Change'                           # Control 4: Weekly % Change in MSCI World Index\n",
        "         , 'Vix Close'                               # Control 5: Volaitlity Index of the day\n",
        "         , '7D_Rolling_Avg_Change_in_DCC'            # Control 6: Average Change in Deseasonalised Cloud Cover over the Last Week\n",
        "         , 'Stringency_Change'                       # Control 7: Weekly Change in Covid Stringency Rules\n",
        "        # , '% Vol Change'\n",
        "        ]]\n",
        "\n",
        "# Attempt to convert the 'Date' column to datetime, coercing errors to NaT (Not a Time)\n",
        "df['Date'] = pd.to_datetime(df['Date'], errors='coerce')\n",
        "\n",
        "\n",
        "# # Extract the month from the 'Date' column\n",
        "# df['Month'] = df['Date'].dt.month\n",
        "# df['Year'] = df['Date'].dt.year\n",
        "\n",
        "# # Filter for rows where the month is between May (5) and November (11)\n",
        "# df = df[(df['Year'] == 2019)]\n",
        "# df = df[(df['Month'] == 2017)]\n",
        "\n",
        "# df = df[(df['Month'] >= 12) | (df['Month'] <= 4)]\n",
        "\n",
        "\n",
        "\n"
      ]
    },
    {
      "cell_type": "code",
      "execution_count": 144,
      "metadata": {
        "id": "ooLKK8_eVgQP"
      },
      "outputs": [],
      "source": [
        "# Explore Data\n",
        "\n",
        "# # Calculate the correlation matrix\n",
        "# correlation_matrix = df.drop(columns=['Date']).corr()\n",
        "\n",
        "\n",
        "# # Create a heatmap\n",
        "# plt.figure(figsize=(10, 8))\n",
        "# sns.heatmap(correlation_matrix, annot=True, cmap='coolwarm', vmin=-1, vmax=1)\n",
        "# plt.title('Correlation Heatmap of Variables')\n",
        "# plt.show()"
      ]
    },
    {
      "cell_type": "markdown",
      "metadata": {
        "id": "4D4v2bMvV2Ih"
      },
      "source": [
        "# **MSCI UK with No Controlling Variables**"
      ]
    },
    {
      "cell_type": "code",
      "execution_count": 145,
      "metadata": {
        "id": "3qHCM4vZWLh5",
        "colab": {
          "base_uri": "https://localhost:8080/"
        },
        "outputId": "be81b573-042e-4800-9565-6d30f40da40f"
      },
      "outputs": [
        {
          "output_type": "stream",
          "name": "stdout",
          "text": [
            "                            OLS Regression Results                            \n",
            "==============================================================================\n",
            "Dep. Variable:        % MSCIUK Change   R-squared:                       0.006\n",
            "Model:                            OLS   Adj. R-squared:                  0.005\n",
            "Method:                 Least Squares   F-statistic:                     9.308\n",
            "Date:                Tue, 13 Aug 2024   Prob (F-statistic):            0.00232\n",
            "Time:                        22:10:25   Log-Likelihood:                -5179.1\n",
            "No. Observations:                1667   AIC:                         1.036e+04\n",
            "Df Residuals:                    1665   BIC:                         1.037e+04\n",
            "Df Model:                           1                                         \n",
            "Covariance Type:            nonrobust                                         \n",
            "==================================================================================\n",
            "                     coef    std err          t      P>|t|      [0.025      0.975]\n",
            "----------------------------------------------------------------------------------\n",
            "const              0.1975      0.133      1.490      0.136      -0.063       0.457\n",
            "Change in SWAV   -13.8836      4.551     -3.051      0.002     -22.809      -4.958\n",
            "==============================================================================\n",
            "Omnibus:                      518.161   Durbin-Watson:                   0.107\n",
            "Prob(Omnibus):                  0.000   Jarque-Bera (JB):             5868.481\n",
            "Skew:                          -1.119   Prob(JB):                         0.00\n",
            "Kurtosis:                      11.915   Cond. No.                         34.3\n",
            "==============================================================================\n",
            "\n",
            "Notes:\n",
            "[1] Standard Errors assume that the covariance matrix of the errors is correctly specified.\n"
          ]
        }
      ],
      "source": [
        "# Define dependent and independent variables\n",
        "\n",
        "#  Define the dependent variable\n",
        "y = df[ '% MSCIUK Change' ]\n",
        "\n",
        "# Define the independent variable as 'Weekly Change in Stream Weighted Average Valence of UK Top Charts on Spotify' Only\n",
        "X = df[[ 'Change in SWAV' ]]\n",
        "\n",
        "# Add a constant to the model (intercept)\n",
        "X = sm.add_constant(X)\n",
        "\n",
        "# Build and fit the regression model\n",
        "model = sm.OLS(y, X).fit()\n",
        "\n",
        "# Print the summary of the regression model\n",
        "print(model.summary())"
      ]
    },
    {
      "cell_type": "markdown",
      "source": [
        "# **MSCIUK**"
      ],
      "metadata": {
        "id": "bbZg-_ZK4uSW"
      }
    },
    {
      "cell_type": "code",
      "source": [
        "# Define dependent and independent variables\n",
        "\n",
        "#  Define the dependent variable\n",
        "y = df['% MSCIUK Change']\n",
        "\n",
        "# Define the independent variables, including 'Change in SWAV' and the other control variables\n",
        "X = df[[ 'Change in SWAV'                             # Independent Variable: Weekly Change in Stream Weighted Average Valence of UK Top Charts on Spotify\n",
        "          , 'ADS_Change'                              # Control 1: Weekly Change in Aruoba-Diebold-Scotti Business Conditions Index\n",
        "          , 'EPU_Change'                              # Control 2: Weekly Change in Economic Policy Uncertainty Index\n",
        "          , 'Previous Week % MSCIUK Change'           # Control 3: Weekly % Change in FTSE 100 from a week before\n",
        "          , '% MSCI Change'                           # Control 4: Weekly % Change in MSCI World Index\n",
        "          , 'Vix Close'                               # Control 5: Volaitlity Index of the day\n",
        "          , '7D_Rolling_Avg_Change_in_DCC'            # Control 6: Average Change in Deseasonalised Cloud Cover over the Last Week\n",
        "          , 'Stringency_Change'                       # Control 7: Weekly Change in Covid Stringency Rules\n",
        "          ]]\n",
        "\n",
        "# Add a constant to the model (intercept)\n",
        "X = sm.add_constant(X)\n",
        "\n",
        "# Build and fit the regression model\n",
        "model = sm.OLS(y, X).fit()\n",
        "\n",
        "# Print the summary of the regression model\n",
        "print(model.summary())"
      ],
      "metadata": {
        "colab": {
          "base_uri": "https://localhost:8080/"
        },
        "id": "5OTOnvRx4ucM",
        "outputId": "fc67e359-4266-4606-98ae-e4264a25ce8e"
      },
      "execution_count": 146,
      "outputs": [
        {
          "output_type": "stream",
          "name": "stdout",
          "text": [
            "                            OLS Regression Results                            \n",
            "==============================================================================\n",
            "Dep. Variable:        % MSCIUK Change   R-squared:                       0.706\n",
            "Model:                            OLS   Adj. R-squared:                  0.705\n",
            "Method:                 Least Squares   F-statistic:                     498.6\n",
            "Date:                Tue, 13 Aug 2024   Prob (F-statistic):               0.00\n",
            "Time:                        22:10:25   Log-Likelihood:                -4162.2\n",
            "No. Observations:                1667   AIC:                             8342.\n",
            "Df Residuals:                    1658   BIC:                             8391.\n",
            "Df Model:                           8                                         \n",
            "Covariance Type:            nonrobust                                         \n",
            "=================================================================================================\n",
            "                                    coef    std err          t      P>|t|      [0.025      0.975]\n",
            "-------------------------------------------------------------------------------------------------\n",
            "const                             0.1028      0.229      0.448      0.654      -0.347       0.553\n",
            "Change in SWAV                   -6.9904      2.505     -2.790      0.005     -11.904      -2.076\n",
            "ADS_Change                       -0.0360      0.025     -1.455      0.146      -0.084       0.013\n",
            "EPU_Change                       -0.0004      0.000     -1.172      0.241      -0.001       0.000\n",
            "Previous Week % MSCIUK Change    -0.0758      0.016     -4.868      0.000      -0.106      -0.045\n",
            "% MSCI Change                     0.9124      0.019     47.385      0.000       0.875       0.950\n",
            "Vix Close                        -0.0261      0.011     -2.409      0.016      -0.047      -0.005\n",
            "7D_Rolling_Avg_Change_in_DCC      0.0209      0.039      0.536      0.592      -0.056       0.097\n",
            "Stringency_Change                -0.1033      0.050     -2.078      0.038      -0.201      -0.006\n",
            "==============================================================================\n",
            "Omnibus:                      122.594   Durbin-Watson:                   0.252\n",
            "Prob(Omnibus):                  0.000   Jarque-Bera (JB):              246.463\n",
            "Skew:                           0.487   Prob(JB):                     3.03e-54\n",
            "Kurtosis:                       4.613   Cond. No.                     7.46e+03\n",
            "==============================================================================\n",
            "\n",
            "Notes:\n",
            "[1] Standard Errors assume that the covariance matrix of the errors is correctly specified.\n",
            "[2] The condition number is large, 7.46e+03. This might indicate that there are\n",
            "strong multicollinearity or other numerical problems.\n"
          ]
        }
      ]
    },
    {
      "cell_type": "markdown",
      "source": [
        "## **Next Period's MSCI Change**"
      ],
      "metadata": {
        "id": "VuJZxeOl6Kjb"
      }
    },
    {
      "cell_type": "code",
      "source": [
        "# Define dependent and independent variables\n",
        "\n",
        "#  Define the dependent variable\n",
        "y = df['Next Period % MSCIUK Change']\n",
        "\n",
        "# Define the independent variables, including 'Change in SWAV' and the other control variables\n",
        "X = df[[ 'Change in SWAV'                            # Independent Variable: Weekly Change in Stream Weighted Average Valence of UK Top Charts on Spotify\n",
        "         , 'ADS_Change'                              # Control 1: Weekly Change in Aruoba-Diebold-Scotti Business Conditions Index\n",
        "         , 'EPU_Change'                              # Control 2: Weekly Change in Economic Policy Uncertainty Index\n",
        "         , '% MSCIUK Change'                         # Control 3: Weekly % Change in MSCI UK\n",
        "         , '% MSCI Change'                           # Control 4: Weekly % Change in MSCI World Index\n",
        "         , 'Vix Close'                               # Control 5: Volaitlity Index of the day\n",
        "         , '7D_Rolling_Avg_Change_in_DCC'            # Control 6: Average Change in Deseasonalised Cloud Cover over the Last Week\n",
        "         , 'Stringency_Change'                       # Control 7: Weekly Change in Covid Stringency Rules\n",
        "        ]]\n",
        "\n",
        "# Add a constant to the model (intercept)\n",
        "X = sm.add_constant(X)\n",
        "\n",
        "# Build and fit the regression model\n",
        "model = sm.OLS(y, X).fit()\n",
        "\n",
        "# Print the summary of the regression model\n",
        "print(model.summary())"
      ],
      "metadata": {
        "id": "R3_tUndl6KzJ",
        "colab": {
          "base_uri": "https://localhost:8080/"
        },
        "outputId": "204c8e9f-69df-4fe3-fa5b-5f5b704dbec9"
      },
      "execution_count": 147,
      "outputs": [
        {
          "output_type": "stream",
          "name": "stdout",
          "text": [
            "                                 OLS Regression Results                                \n",
            "=======================================================================================\n",
            "Dep. Variable:     Next Period % MSCIUK Change   R-squared:                       0.064\n",
            "Model:                                     OLS   Adj. R-squared:                  0.059\n",
            "Method:                          Least Squares   F-statistic:                     14.17\n",
            "Date:                         Tue, 13 Aug 2024   Prob (F-statistic):           4.03e-20\n",
            "Time:                                 22:10:25   Log-Likelihood:                -5145.6\n",
            "No. Observations:                         1667   AIC:                         1.031e+04\n",
            "Df Residuals:                             1658   BIC:                         1.036e+04\n",
            "Df Model:                                    8                                         \n",
            "Covariance Type:                     nonrobust                                         \n",
            "================================================================================================\n",
            "                                   coef    std err          t      P>|t|      [0.025      0.975]\n",
            "------------------------------------------------------------------------------------------------\n",
            "const                           -1.9266      0.402     -4.791      0.000      -2.715      -1.138\n",
            "Change in SWAV                   0.5710      4.512      0.127      0.899      -8.278       9.420\n",
            "ADS_Change                       0.1839      0.043      4.249      0.000       0.099       0.269\n",
            "EPU_Change                       0.0003      0.001      0.459      0.646      -0.001       0.002\n",
            "% MSCIUK Change                  0.0086      0.044      0.196      0.845      -0.078       0.095\n",
            "% MSCI Change                   -0.0901      0.053     -1.703      0.089      -0.194       0.014\n",
            "Vix Close                        0.1112      0.019      5.844      0.000       0.074       0.148\n",
            "7D_Rolling_Avg_Change_in_DCC    -0.0176      0.070     -0.251      0.802      -0.156       0.120\n",
            "Stringency_Change                0.3815      0.088      4.323      0.000       0.208       0.555\n",
            "==============================================================================\n",
            "Omnibus:                      783.318   Durbin-Watson:                   0.100\n",
            "Prob(Omnibus):                  0.000   Jarque-Bera (JB):             8732.815\n",
            "Skew:                          -1.909   Prob(JB):                         0.00\n",
            "Kurtosis:                      13.543   Cond. No.                     7.45e+03\n",
            "==============================================================================\n",
            "\n",
            "Notes:\n",
            "[1] Standard Errors assume that the covariance matrix of the errors is correctly specified.\n",
            "[2] The condition number is large, 7.45e+03. This might indicate that there are\n",
            "strong multicollinearity or other numerical problems.\n"
          ]
        }
      ]
    },
    {
      "cell_type": "markdown",
      "source": [
        "# **MSCI UK 2017-2019**"
      ],
      "metadata": {
        "id": "eyA0-jeL5JVA"
      }
    },
    {
      "cell_type": "code",
      "source": [
        "# Define dependent and independent variables\n",
        "\n",
        "# Define the start and end dates for the filter\n",
        "start_date = '2017-01-01'\n",
        "end_date = '2019-12-31'\n",
        "\n",
        "# Filter the DataFrame for dates within the specified range\n",
        "df_period1 = df[(df['Date'] >= start_date) & (df['Date'] <= end_date)]\n",
        "\n",
        "#  Define the dependent variable\n",
        "y = df_period1['% MSCIUK Change']\n",
        "\n",
        "# Define the independent variables, including 'Change in SWAV' and the other control variables\n",
        "X = df_period1[[  'Change in SWAV'                          # Independent Variable: Weekly Change in Stream Weighted Average Valence of UK Top Charts on Spotify\n",
        "                  , 'ADS_Change'                              # Control 1: Weekly Change in Aruoba-Diebold-Scotti Business Conditions Index\n",
        "                  , 'EPU_Change'                              # Control 2: Weekly Change in Economic Policy Uncertainty Index\n",
        "                  , 'Previous Week % MSCIUK Change'          # Control 3: Weekly % Change in FTSE 100 from a week before\n",
        "                  , '% MSCI Change'                           # Control 4: Weekly % Change in MSCI World Index\n",
        "                  , 'Vix Close'                               # Control 5: Volaitlity Index of the day\n",
        "                  , '7D_Rolling_Avg_Change_in_DCC'            # Control 6: Average Change in Deseasonalised Cloud Cover over the Last Week\n",
        "                  , 'Stringency_Change'                       # Control 7: Weekly Change in Covid Stringency Rules\n",
        "                  ]]\n",
        "\n",
        "# Add a constant to the model (intercept)\n",
        "X = sm.add_constant(X)\n",
        "\n",
        "# Build and fit the regression model\n",
        "model = sm.OLS(y, X).fit()\n",
        "\n",
        "# Print the summary of the regression model\n",
        "print(model.summary())"
      ],
      "metadata": {
        "colab": {
          "base_uri": "https://localhost:8080/"
        },
        "id": "DSZMZxZh5KBY",
        "outputId": "5f14237e-9aa7-4ee9-9a69-58bdefe216c5"
      },
      "execution_count": 148,
      "outputs": [
        {
          "output_type": "stream",
          "name": "stdout",
          "text": [
            "                            OLS Regression Results                            \n",
            "==============================================================================\n",
            "Dep. Variable:        % MSCIUK Change   R-squared:                       0.675\n",
            "Model:                            OLS   Adj. R-squared:                  0.672\n",
            "Method:                 Least Squares   F-statistic:                     206.2\n",
            "Date:                Tue, 13 Aug 2024   Prob (F-statistic):          8.06e-165\n",
            "Time:                        22:10:26   Log-Likelihood:                -1509.1\n",
            "No. Observations:                 702   AIC:                             3034.\n",
            "Df Residuals:                     694   BIC:                             3071.\n",
            "Df Model:                           7                                         \n",
            "Covariance Type:            nonrobust                                         \n",
            "=================================================================================================\n",
            "                                    coef    std err          t      P>|t|      [0.025      0.975]\n",
            "-------------------------------------------------------------------------------------------------\n",
            "const                            -1.3202      0.406     -3.255      0.001      -2.116      -0.524\n",
            "Change in SWAV                   -1.1510      3.223     -0.357      0.721      -7.479       5.177\n",
            "ADS_Change                       -0.8514      0.252     -3.378      0.001      -1.346      -0.357\n",
            "EPU_Change                       -0.0003      0.000     -0.721      0.471      -0.001       0.001\n",
            "Previous Week % MSCIUK Change    -0.0082      0.023     -0.357      0.721      -0.054       0.037\n",
            "% MSCI Change                     1.0336      0.037     27.694      0.000       0.960       1.107\n",
            "Vix Close                         0.0553      0.026      2.119      0.034       0.004       0.106\n",
            "7D_Rolling_Avg_Change_in_DCC     -0.0102      0.045     -0.228      0.819      -0.098       0.078\n",
            "Stringency_Change                      0          0        nan        nan           0           0\n",
            "==============================================================================\n",
            "Omnibus:                        8.672   Durbin-Watson:                   0.210\n",
            "Prob(Omnibus):                  0.013   Jarque-Bera (JB):               10.471\n",
            "Skew:                           0.159   Prob(JB):                      0.00533\n",
            "Kurtosis:                       3.506   Cond. No.                          inf\n",
            "==============================================================================\n",
            "\n",
            "Notes:\n",
            "[1] Standard Errors assume that the covariance matrix of the errors is correctly specified.\n",
            "[2] The smallest eigenvalue is      0. This might indicate that there are\n",
            "strong multicollinearity problems or that the design matrix is singular.\n"
          ]
        },
        {
          "output_type": "stream",
          "name": "stderr",
          "text": [
            "/usr/local/lib/python3.10/dist-packages/statsmodels/regression/linear_model.py:1967: RuntimeWarning: divide by zero encountered in scalar divide\n",
            "  return np.sqrt(eigvals[0]/eigvals[-1])\n"
          ]
        }
      ]
    },
    {
      "cell_type": "markdown",
      "source": [
        "# **MSCI UK 2020-2023**"
      ],
      "metadata": {
        "id": "ZXZIg3X26r5V"
      }
    },
    {
      "cell_type": "code",
      "source": [
        "# Define dependent and independent variables\n",
        "\n",
        "# Define the start and end dates for the filter\n",
        "start_date = '2020-01-01'\n",
        "end_date = '2023-12-31'\n",
        "\n",
        "# Filter the DataFrame for dates within the specified range\n",
        "df_period2 = df[(df['Date'] >= start_date) & (df['Date'] <= end_date)]\n",
        "\n",
        "#  Define the dependent variable\n",
        "y = df_period2['% MSCIUK Change']\n",
        "\n",
        "# Define the independent variables, including 'Change in SWAV' and the other control variables\n",
        "X = df_period2[[ 'Change in SWAV'                           # Independent Variable: Weekly Change in Stream Weighted Average Valence of UK Top Charts on Spotify\n",
        "                , 'ADS_Change'                              # Control 1: Weekly Change in Aruoba-Diebold-Scotti Business Conditions Index\n",
        "                , 'EPU_Change'                              # Control 2: Weekly Change in Economic Policy Uncertainty Index\n",
        "                , 'Previous Week % MSCIUK Change'          # Control 3: Weekly % Change in FTSE 100 from a week before\n",
        "                , '% MSCI Change'                           # Control 4: Weekly % Change in MSCI World Index\n",
        "                , 'Vix Close'                               # Control 5: Volaitlity Index of the day\n",
        "                , '7D_Rolling_Avg_Change_in_DCC'            # Control 6: Average Change in Deseasonalised Cloud Cover over the Last Week\n",
        "                , 'Stringency_Change'                       # Control 7: Weekly Change in Covid Stringency Rules\n",
        "                ]]\n",
        "\n",
        "# Add a constant to the model (intercept)\n",
        "X = sm.add_constant(X)\n",
        "\n",
        "# Build and fit the regression model\n",
        "model = sm.OLS(y, X).fit()\n",
        "\n",
        "# Print the summary of the regression model\n",
        "print(model.summary())"
      ],
      "metadata": {
        "colab": {
          "base_uri": "https://localhost:8080/"
        },
        "id": "OBa3TQ4f6sPs",
        "outputId": "434ca3a1-c69c-4061-8d9f-9acbcacb3f90"
      },
      "execution_count": 149,
      "outputs": [
        {
          "output_type": "stream",
          "name": "stdout",
          "text": [
            "                            OLS Regression Results                            \n",
            "==============================================================================\n",
            "Dep. Variable:        % MSCIUK Change   R-squared:                       0.720\n",
            "Model:                            OLS   Adj. R-squared:                  0.717\n",
            "Method:                 Least Squares   F-statistic:                     306.9\n",
            "Date:                Tue, 13 Aug 2024   Prob (F-statistic):          5.81e-258\n",
            "Time:                        22:10:26   Log-Likelihood:                -2549.0\n",
            "No. Observations:                 965   AIC:                             5116.\n",
            "Df Residuals:                     956   BIC:                             5160.\n",
            "Df Model:                           8                                         \n",
            "Covariance Type:            nonrobust                                         \n",
            "=================================================================================================\n",
            "                                    coef    std err          t      P>|t|      [0.025      0.975]\n",
            "-------------------------------------------------------------------------------------------------\n",
            "const                             1.0629      0.429      2.480      0.013       0.222       1.904\n",
            "Change in SWAV                   -8.7261      3.530     -2.472      0.014     -15.653      -1.799\n",
            "ADS_Change                       -0.0112      0.030     -0.378      0.705      -0.070       0.047\n",
            "EPU_Change                       -0.0007      0.001     -1.293      0.196      -0.002       0.000\n",
            "Previous Week % MSCIUK Change    -0.1027      0.021     -4.862      0.000      -0.144      -0.061\n",
            "% MSCI Change                     0.8653      0.027     32.363      0.000       0.813       0.918\n",
            "Vix Close                        -0.0619      0.017     -3.535      0.000      -0.096      -0.028\n",
            "7D_Rolling_Avg_Change_in_DCC      0.0372      0.058      0.645      0.519      -0.076       0.150\n",
            "Stringency_Change                -0.0623      0.061     -1.029      0.304      -0.181       0.056\n",
            "==============================================================================\n",
            "Omnibus:                       62.746   Durbin-Watson:                   0.263\n",
            "Prob(Omnibus):                  0.000   Jarque-Bera (JB):               84.425\n",
            "Skew:                           0.557   Prob(JB):                     4.65e-19\n",
            "Kurtosis:                       3.927   Cond. No.                     7.45e+03\n",
            "==============================================================================\n",
            "\n",
            "Notes:\n",
            "[1] Standard Errors assume that the covariance matrix of the errors is correctly specified.\n",
            "[2] The condition number is large, 7.45e+03. This might indicate that there are\n",
            "strong multicollinearity or other numerical problems.\n"
          ]
        }
      ]
    },
    {
      "cell_type": "markdown",
      "metadata": {
        "id": "m-NWl8zvYqAJ"
      },
      "source": [
        "## Findings\n",
        "\n",
        "**Low Explanatory Power:** The model has an R-squared of 0.006, indicating a poor fit.\n",
        "\n",
        "**Significant Negative Effect:** Change in SWAV significantly decreases FTSE 100 change (coefficient = -11.5132, p < 0.001).\n",
        "\n",
        "**Model Significance:** The model is statistically significant (F-statistic = 24.10, p < 0.001).\n",
        "\n",
        "**Non-Significant Intercept:** The constant term is not significant (p = 0.508).\n",
        "\n",
        "**Residual Issues:** Residuals show non-normality and autocorrelation, indicating model assumption problems."
      ]
    },
    {
      "cell_type": "markdown",
      "metadata": {
        "id": "-F-YLeLCWO1j"
      },
      "source": [
        "# **FTSE100**\n",
        "\n",
        "\n"
      ]
    },
    {
      "cell_type": "code",
      "execution_count": 150,
      "metadata": {
        "id": "90BZWX8jUnkY",
        "colab": {
          "base_uri": "https://localhost:8080/"
        },
        "outputId": "76aff619-5453-4126-92b8-97bc995dcca9"
      },
      "outputs": [
        {
          "output_type": "stream",
          "name": "stdout",
          "text": [
            "                            OLS Regression Results                            \n",
            "==============================================================================\n",
            "Dep. Variable:       % FTSE100 Change   R-squared:                       0.672\n",
            "Model:                            OLS   Adj. R-squared:                  0.670\n",
            "Method:                 Least Squares   F-statistic:                     424.1\n",
            "Date:                Tue, 13 Aug 2024   Prob (F-statistic):               0.00\n",
            "Time:                        22:10:26   Log-Likelihood:                -3860.2\n",
            "No. Observations:                1667   AIC:                             7738.\n",
            "Df Residuals:                    1658   BIC:                             7787.\n",
            "Df Model:                           8                                         \n",
            "Covariance Type:            nonrobust                                         \n",
            "==================================================================================================\n",
            "                                     coef    std err          t      P>|t|      [0.025      0.975]\n",
            "--------------------------------------------------------------------------------------------------\n",
            "const                              0.6425      0.192      3.345      0.001       0.266       1.019\n",
            "Change in SWAV                    -4.5644      2.085     -2.190      0.029      -8.653      -0.476\n",
            "ADS_Change                         0.1333      0.020      6.512      0.000       0.093       0.174\n",
            "EPU_Change                         0.0003      0.000      1.062      0.288      -0.000       0.001\n",
            "Previous Week % FTSE100 Change    -0.0848      0.016     -5.162      0.000      -0.117      -0.053\n",
            "% MSCI Change                      0.6143      0.016     37.369      0.000       0.582       0.647\n",
            "Vix Close                         -0.0476      0.009     -5.260      0.000      -0.065      -0.030\n",
            "7D_Rolling_Avg_Change_in_DCC       0.0378      0.033      1.161      0.246      -0.026       0.102\n",
            "Stringency_Change                 -0.2031      0.042     -4.887      0.000      -0.285      -0.122\n",
            "==============================================================================\n",
            "Omnibus:                       13.401   Durbin-Watson:                   0.191\n",
            "Prob(Omnibus):                  0.001   Jarque-Bera (JB):               17.235\n",
            "Skew:                           0.107   Prob(JB):                     0.000181\n",
            "Kurtosis:                       3.450   Cond. No.                     7.44e+03\n",
            "==============================================================================\n",
            "\n",
            "Notes:\n",
            "[1] Standard Errors assume that the covariance matrix of the errors is correctly specified.\n",
            "[2] The condition number is large, 7.44e+03. This might indicate that there are\n",
            "strong multicollinearity or other numerical problems.\n"
          ]
        }
      ],
      "source": [
        "import pandas as pd\n",
        "import statsmodels.api as sm\n",
        "\n",
        "# Define the dependent variable\n",
        "y = df['% FTSE100 Change']\n",
        "\n",
        "# Define the independent variables, including 'Change in SWAV' and the other control variables\n",
        "X = df[[ 'Change in SWAV',                          # Independent Variable: Weekly Change in Stream Weighted Average Valence of UK Top Charts on Spotify\n",
        "         'ADS_Change',                              # Control 1: Weekly Change in Aruoba-Diebold-Scotti Business Conditions Index\n",
        "         'EPU_Change',                              # Control 2: Weekly Change in Economic Policy Uncertainty Index\n",
        "         'Previous Week % FTSE100 Change',          # Control 3: Weekly % Change in FTSE 100 from a week before\n",
        "         '% MSCI Change',                           # Control 4: Weekly % Change in MSCI World Index\n",
        "         'Vix Close',                               # Control 5: Volaitlity Index of the day\n",
        "         '7D_Rolling_Avg_Change_in_DCC',            # Control 6: Average Change in Deseasonalised Cloud Cover over the Last Week\n",
        "         'Stringency_Change'                        # Control 7: Weekly Change in Covid Stringency Rules\n",
        "]]\n",
        "\n",
        "# Add a constant to the model (intercept)\n",
        "X = sm.add_constant(X)\n",
        "\n",
        "# Fit the regression model\n",
        "model = sm.OLS(y, X).fit()\n",
        "\n",
        "# Print the summary of the regression model\n",
        "print(model.summary())"
      ]
    },
    {
      "cell_type": "markdown",
      "source": [
        "# **FTSE100 without MSCI as a Control**"
      ],
      "metadata": {
        "id": "nrmYpsRj430I"
      }
    },
    {
      "cell_type": "code",
      "source": [
        "# Define dependent and independent variables\n",
        "\n",
        "# #  Define the dependent variable\n",
        "y = df['% FTSE100 Change']\n",
        "\n",
        "# Define the independent variables, including 'Change in SWAV' and the other control variables\n",
        "X = df[[ 'Change in SWAV'                          # Independent Variable: Weekly Change in Stream Weighted Average Valence of UK Top Charts on Spotify\n",
        "         , 'ADS_Change'                              # Control 1: Weekly Change in Aruoba-Diebold-Scotti Business Conditions Index\n",
        "         , 'EPU_Change'                              # Control 2: Weekly Change in Economic Policy Uncertainty Index\n",
        "         , 'Previous Week % FTSE100 Change'          # Control 3: Weekly % Change in FTSE 100 from a week before\n",
        "         #, '% MSCI Change'                           # Control 4: Weekly % Change in MSCI World Index\n",
        "         , 'Vix Close'                               # Control 5: Volaitlity Index of the day\n",
        "         , '7D_Rolling_Avg_Change_in_DCC'            # Control 6: Average Change in Deseasonalised Cloud Cover over the Last Week\n",
        "         , 'Stringency_Change'                       # Control 7: Weekly Change in Covid Stringency Rules\n",
        "        ]]\n",
        "\n",
        "# Add a constant to the model (intercept)\n",
        "X = sm.add_constant(X)\n",
        "\n",
        "# Build and fit the regression model\n",
        "model = sm.OLS(y, X).fit()\n",
        "\n",
        "# Print the summary of the regression model\n",
        "print(model.summary())"
      ],
      "metadata": {
        "colab": {
          "base_uri": "https://localhost:8080/"
        },
        "id": "yzBa2KHZ5B-A",
        "outputId": "d3e3ffc8-fd65-4042-e37b-2d90a5500dce"
      },
      "execution_count": 151,
      "outputs": [
        {
          "output_type": "stream",
          "name": "stdout",
          "text": [
            "                            OLS Regression Results                            \n",
            "==============================================================================\n",
            "Dep. Variable:       % FTSE100 Change   R-squared:                       0.395\n",
            "Model:                            OLS   Adj. R-squared:                  0.393\n",
            "Method:                 Least Squares   F-statistic:                     154.9\n",
            "Date:                Tue, 13 Aug 2024   Prob (F-statistic):          3.68e-176\n",
            "Time:                        22:10:26   Log-Likelihood:                -4369.4\n",
            "No. Observations:                1667   AIC:                             8755.\n",
            "Df Residuals:                    1659   BIC:                             8798.\n",
            "Df Model:                           7                                         \n",
            "Covariance Type:            nonrobust                                         \n",
            "==================================================================================================\n",
            "                                     coef    std err          t      P>|t|      [0.025      0.975]\n",
            "--------------------------------------------------------------------------------------------------\n",
            "const                              4.2518      0.225     18.873      0.000       3.810       4.694\n",
            "Change in SWAV                    -2.1318      2.827     -0.754      0.451      -7.677       3.413\n",
            "ADS_Change                         0.4194      0.026     16.273      0.000       0.369       0.470\n",
            "EPU_Change                        -0.0018      0.000     -4.490      0.000      -0.003      -0.001\n",
            "Previous Week % FTSE100 Change    -0.3181      0.021    -15.424      0.000      -0.359      -0.278\n",
            "Vix Close                         -0.2106      0.011    -19.568      0.000      -0.232      -0.189\n",
            "7D_Rolling_Avg_Change_in_DCC       0.0097      0.044      0.220      0.826      -0.077       0.096\n",
            "Stringency_Change                 -0.0691      0.056     -1.231      0.219      -0.179       0.041\n",
            "==============================================================================\n",
            "Omnibus:                       62.869   Durbin-Watson:                   0.149\n",
            "Prob(Omnibus):                  0.000   Jarque-Bera (JB):              144.574\n",
            "Skew:                           0.197   Prob(JB):                     4.04e-32\n",
            "Kurtosis:                       4.388   Cond. No.                     7.44e+03\n",
            "==============================================================================\n",
            "\n",
            "Notes:\n",
            "[1] Standard Errors assume that the covariance matrix of the errors is correctly specified.\n",
            "[2] The condition number is large, 7.44e+03. This might indicate that there are\n",
            "strong multicollinearity or other numerical problems.\n"
          ]
        }
      ]
    },
    {
      "cell_type": "markdown",
      "source": [
        "# **FTSE 250 Mid Cap**"
      ],
      "metadata": {
        "id": "1-4LBAcz3xNt"
      }
    },
    {
      "cell_type": "code",
      "source": [
        "# Define dependent and independent variables\n",
        "\n",
        "\n",
        "#  Define the dependent variable\n",
        "y = df['% FTSE250 Change']\n",
        "\n",
        "# Define the independent variables, including 'Change in SWAV' and the other control variables\n",
        "X = df[[ 'Change in SWAV'                           # Independent Variable: Weekly Change in Stream Weighted Average Valence of UK Top Charts on Spotify\n",
        "          , 'ADS_Change'                              # Control 1: Weekly Change in Aruoba-Diebold-Scotti Business Conditions Index\n",
        "          , 'EPU_Change'                              # Control 2: Weekly Change in Economic Policy Uncertainty Index\n",
        "          , 'Previous Week % FTSE250 Change'          # Control 3: Weekly % Change in FTSE 100 from a week before\n",
        "          , '% MSCI Change'                           # Control 4: Weekly % Change in MSCI World Index\n",
        "          , 'Vix Close'                               # Control 5: Volaitlity Index of the day\n",
        "          , '7D_Rolling_Avg_Change_in_DCC'            # Control 6: Average Change in Deseasonalised Cloud Cover over the Last Week\n",
        "          , 'Stringency_Change'                       # Control 7: Weekly Change in Covid Stringency Rules\n",
        "          ]]\n",
        "\n",
        "# Add a constant to the model (intercept)\n",
        "X = sm.add_constant(X)\n",
        "\n",
        "# Build and fit the regression model\n",
        "model = sm.OLS(y, X).fit()\n",
        "\n",
        "# Print the summary of the regression model\n",
        "print(model.summary())"
      ],
      "metadata": {
        "colab": {
          "base_uri": "https://localhost:8080/"
        },
        "id": "fAH0o0223xcy",
        "outputId": "5bd9ea82-164f-40be-cb72-d629f453cd52"
      },
      "execution_count": 152,
      "outputs": [
        {
          "output_type": "stream",
          "name": "stdout",
          "text": [
            "                            OLS Regression Results                            \n",
            "==============================================================================\n",
            "Dep. Variable:       % FTSE250 Change   R-squared:                       0.808\n",
            "Model:                            OLS   Adj. R-squared:                  0.807\n",
            "Method:                 Least Squares   F-statistic:                     874.1\n",
            "Date:                Tue, 13 Aug 2024   Prob (F-statistic):               0.00\n",
            "Time:                        22:10:26   Log-Likelihood:                -3798.1\n",
            "No. Observations:                1667   AIC:                             7614.\n",
            "Df Residuals:                    1658   BIC:                             7663.\n",
            "Df Model:                           8                                         \n",
            "Covariance Type:            nonrobust                                         \n",
            "==================================================================================================\n",
            "                                     coef    std err          t      P>|t|      [0.025      0.975]\n",
            "--------------------------------------------------------------------------------------------------\n",
            "const                              0.2207      0.186      1.187      0.236      -0.144       0.585\n",
            "Change in SWAV                    -4.8138      2.026     -2.376      0.018      -8.788      -0.839\n",
            "ADS_Change                         0.0937      0.020      4.798      0.000       0.055       0.132\n",
            "EPU_Change                        -0.0006      0.000     -1.984      0.047      -0.001   -6.54e-06\n",
            "Previous Week % FTSE250 Change    -0.0610      0.012     -4.925      0.000      -0.085      -0.037\n",
            "% MSCI Change                      0.9072      0.016     57.659      0.000       0.876       0.938\n",
            "Vix Close                         -0.0365      0.009     -4.154      0.000      -0.054      -0.019\n",
            "7D_Rolling_Avg_Change_in_DCC      -0.0120      0.031     -0.383      0.702      -0.074       0.050\n",
            "Stringency_Change                 -0.2488      0.040     -6.267      0.000      -0.327      -0.171\n",
            "==============================================================================\n",
            "Omnibus:                       26.702   Durbin-Watson:                   0.263\n",
            "Prob(Omnibus):                  0.000   Jarque-Bera (JB):               33.765\n",
            "Skew:                          -0.216   Prob(JB):                     4.66e-08\n",
            "Kurtosis:                       3.548   Cond. No.                     7.51e+03\n",
            "==============================================================================\n",
            "\n",
            "Notes:\n",
            "[1] Standard Errors assume that the covariance matrix of the errors is correctly specified.\n",
            "[2] The condition number is large, 7.51e+03. This might indicate that there are\n",
            "strong multicollinearity or other numerical problems.\n"
          ]
        }
      ]
    },
    {
      "cell_type": "markdown",
      "source": [
        "# **FTSE Small Cap**"
      ],
      "metadata": {
        "id": "BxyaRVs74jzk"
      }
    },
    {
      "cell_type": "code",
      "source": [
        "# Define dependent and independent variables\n",
        "\n",
        "#  Define the dependent variable\n",
        "y = df['% FTSESmallCap Change']\n",
        "\n",
        "# Define the independent variables, including 'Change in SWAV' and the other control variables\n",
        "X = df[[ 'Change in SWAV'                           # Independent Variable: Weekly Change in Stream Weighted Average Valence of UK Top Charts on Spotify\n",
        "                , 'ADS_Change'                              # Control 1: Weekly Change in Aruoba-Diebold-Scotti Business Conditions Index\n",
        "                , 'EPU_Change'                              # Control 2: Weekly Change in Economic Policy Uncertainty Index\n",
        "                , 'Previous Week % FTSESmallCap Change'          # Control 3: Weekly % Change in FTSE 100 from a week before\n",
        "                , '% MSCI Change'                           # Control 4: Weekly % Change in MSCI World Index\n",
        "                , 'Vix Close'                               # Control 5: Volaitlity Index of the day\n",
        "                , '7D_Rolling_Avg_Change_in_DCC'            # Control 6: Average Change in Deseasonalised Cloud Cover over the Last Week\n",
        "                , 'Stringency_Change'                       # Control 7: Weekly Change in Covid Stringency Rules\n",
        "                ]]\n",
        "\n",
        "# Add a constant to the model (intercept)\n",
        "X = sm.add_constant(X)\n",
        "\n",
        "# Build and fit the regression model\n",
        "model = sm.OLS(y, X).fit()\n",
        "\n",
        "# Print the summary of the regression model\n",
        "print(model.summary())"
      ],
      "metadata": {
        "colab": {
          "base_uri": "https://localhost:8080/"
        },
        "id": "MtZG91-94j6l",
        "outputId": "2b563312-535f-4a77-fbcd-12edb83ad010"
      },
      "execution_count": 153,
      "outputs": [
        {
          "output_type": "stream",
          "name": "stdout",
          "text": [
            "                              OLS Regression Results                             \n",
            "=================================================================================\n",
            "Dep. Variable:     % FTSESmallCap Change   R-squared:                       0.764\n",
            "Model:                               OLS   Adj. R-squared:                  0.763\n",
            "Method:                    Least Squares   F-statistic:                     670.1\n",
            "Date:                   Tue, 13 Aug 2024   Prob (F-statistic):               0.00\n",
            "Time:                           22:10:26   Log-Likelihood:                -3792.0\n",
            "No. Observations:                   1667   AIC:                             7602.\n",
            "Df Residuals:                       1658   BIC:                             7651.\n",
            "Df Model:                              8                                         \n",
            "Covariance Type:               nonrobust                                         \n",
            "=======================================================================================================\n",
            "                                          coef    std err          t      P>|t|      [0.025      0.975]\n",
            "-------------------------------------------------------------------------------------------------------\n",
            "const                                  -0.2739      0.184     -1.486      0.138      -0.635       0.088\n",
            "Change in SWAV                         -0.1440      2.003     -0.072      0.943      -4.072       3.784\n",
            "ADS_Change                              0.0846      0.020      4.331      0.000       0.046       0.123\n",
            "EPU_Change                             -0.0003      0.000     -1.163      0.245      -0.001       0.000\n",
            "Previous Week % FTSESmallCap Change    -0.0058      0.013     -0.433      0.665      -0.032       0.021\n",
            "% MSCI Change                           0.8083      0.016     52.027      0.000       0.778       0.839\n",
            "Vix Close                              -0.0008      0.009     -0.097      0.923      -0.018       0.016\n",
            "7D_Rolling_Avg_Change_in_DCC            0.0065      0.031      0.209      0.834      -0.055       0.068\n",
            "Stringency_Change                      -0.3782      0.040     -9.574      0.000      -0.456      -0.301\n",
            "==============================================================================\n",
            "Omnibus:                      117.835   Durbin-Watson:                   0.198\n",
            "Prob(Omnibus):                  0.000   Jarque-Bera (JB):              452.084\n",
            "Skew:                           0.237   Prob(JB):                     6.78e-99\n",
            "Kurtosis:                       5.507   Cond. No.                     7.45e+03\n",
            "==============================================================================\n",
            "\n",
            "Notes:\n",
            "[1] Standard Errors assume that the covariance matrix of the errors is correctly specified.\n",
            "[2] The condition number is large, 7.45e+03. This might indicate that there are\n",
            "strong multicollinearity or other numerical problems.\n"
          ]
        }
      ]
    },
    {
      "cell_type": "markdown",
      "source": [
        "# **FTSE All Share**"
      ],
      "metadata": {
        "id": "rEB_QO0r4AnW"
      }
    },
    {
      "cell_type": "code",
      "source": [
        "# Define dependent and independent variables\n",
        "\n",
        "#  Define the dependent variable\n",
        "y = df['% FTSEAllShare Change']\n",
        "\n",
        "# Define the independent variables, including 'Change in SWAV' and the other control variables\n",
        "X = df[[ 'Change in SWAV'                           # Independent Variable: Weekly Change in Stream Weighted Average Valence of UK Top Charts on Spotify\n",
        "                , 'ADS_Change'                              # Control 1: Weekly Change in Aruoba-Diebold-Scotti Business Conditions Index\n",
        "                , 'EPU_Change'                              # Control 2: Weekly Change in Economic Policy Uncertainty Index\n",
        "                , 'Previous Week % FTSEAllShare Change'          # Control 3: Weekly % Change in FTSE 100 from a week before\n",
        "                , '% MSCI Change'                           # Control 4: Weekly % Change in MSCI World Index\n",
        "                , 'Vix Close'                               # Control 5: Volaitlity Index of the day\n",
        "                , '7D_Rolling_Avg_Change_in_DCC'            # Control 6: Average Change in Deseasonalised Cloud Cover over the Last Week\n",
        "                , 'Stringency_Change'                       # Control 7: Weekly Change in Covid Stringency Rules\n",
        "                ]]\n",
        "\n",
        "# Add a constant to the model (intercept)\n",
        "X = sm.add_constant(X)\n",
        "\n",
        "# Build and fit the regression model\n",
        "model = sm.OLS(y, X).fit()\n",
        "\n",
        "# Print the summary of the regression model\n",
        "print(model.summary())"
      ],
      "metadata": {
        "colab": {
          "base_uri": "https://localhost:8080/"
        },
        "id": "W3W-jUUC4BCS",
        "outputId": "57827500-20bd-4161-bc21-56e931ee3ab8"
      },
      "execution_count": 154,
      "outputs": [
        {
          "output_type": "stream",
          "name": "stdout",
          "text": [
            "                              OLS Regression Results                             \n",
            "=================================================================================\n",
            "Dep. Variable:     % FTSEAllShare Change   R-squared:                       0.730\n",
            "Model:                               OLS   Adj. R-squared:                  0.729\n",
            "Method:                    Least Squares   F-statistic:                     560.8\n",
            "Date:                   Tue, 13 Aug 2024   Prob (F-statistic):               0.00\n",
            "Time:                           22:10:26   Log-Likelihood:                -3732.4\n",
            "No. Observations:                   1667   AIC:                             7483.\n",
            "Df Residuals:                       1658   BIC:                             7532.\n",
            "Df Model:                              8                                         \n",
            "Covariance Type:               nonrobust                                         \n",
            "=======================================================================================================\n",
            "                                          coef    std err          t      P>|t|      [0.025      0.975]\n",
            "-------------------------------------------------------------------------------------------------------\n",
            "const                                   0.5351      0.178      2.999      0.003       0.185       0.885\n",
            "Change in SWAV                         -4.6051      1.933     -2.382      0.017      -8.397      -0.813\n",
            "ADS_Change                              0.1240      0.019      6.545      0.000       0.087       0.161\n",
            "EPU_Change                              0.0002      0.000      0.652      0.515      -0.000       0.001\n",
            "Previous Week % FTSEAllShare Change    -0.0709      0.015     -4.756      0.000      -0.100      -0.042\n",
            "% MSCI Change                           0.6681      0.015     43.777      0.000       0.638       0.698\n",
            "Vix Close                              -0.0439      0.008     -5.215      0.000      -0.060      -0.027\n",
            "7D_Rolling_Avg_Change_in_DCC            0.0290      0.030      0.961      0.337      -0.030       0.088\n",
            "Stringency_Change                      -0.2162      0.038     -5.624      0.000      -0.292      -0.141\n",
            "==============================================================================\n",
            "Omnibus:                       14.204   Durbin-Watson:                   0.204\n",
            "Prob(Omnibus):                  0.001   Jarque-Bera (JB):               18.499\n",
            "Skew:                           0.110   Prob(JB):                     9.61e-05\n",
            "Kurtosis:                       3.467   Cond. No.                     7.45e+03\n",
            "==============================================================================\n",
            "\n",
            "Notes:\n",
            "[1] Standard Errors assume that the covariance matrix of the errors is correctly specified.\n",
            "[2] The condition number is large, 7.45e+03. This might indicate that there are\n",
            "strong multicollinearity or other numerical problems.\n"
          ]
        }
      ]
    }
  ],
  "metadata": {
    "colab": {
      "provenance": [],
      "authorship_tag": "ABX9TyMm6tG0Fd00V7q3E5uXoUTm",
      "include_colab_link": true
    },
    "kernelspec": {
      "display_name": "Python 3",
      "name": "python3"
    },
    "language_info": {
      "name": "python"
    }
  },
  "nbformat": 4,
  "nbformat_minor": 0
}