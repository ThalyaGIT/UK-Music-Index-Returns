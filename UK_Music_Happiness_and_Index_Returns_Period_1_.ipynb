{
  "cells": [
    {
      "cell_type": "markdown",
      "metadata": {
        "id": "view-in-github",
        "colab_type": "text"
      },
      "source": [
        "<a href=\"https://colab.research.google.com/github/ThalyaGIT/UK-Music-Index-Returns/blob/main/UK_Music_Happiness_and_Index_Returns_Period_1_.ipynb\" target=\"_parent\"><img src=\"https://colab.research.google.com/assets/colab-badge.svg\" alt=\"Open In Colab\"/></a>"
      ]
    },
    {
      "cell_type": "code",
      "execution_count": 51,
      "metadata": {
        "id": "K2au3b8sOvGA"
      },
      "outputs": [],
      "source": [
        "# Import packages\n",
        "import pandas as pd\n",
        "import statsmodels.api as sm\n",
        "import seaborn as sns\n",
        "import matplotlib.pyplot as plt\n",
        "import numpy as np\n"
      ]
    },
    {
      "cell_type": "code",
      "execution_count": 52,
      "metadata": {
        "id": "Xn0nF6QAPn2A"
      },
      "outputs": [],
      "source": [
        "# Open CSV into dataframe\n",
        "url = 'https://raw.githubusercontent.com/ThalyaGIT/UK-Music-Index-Returns/shift-1/0-data-gold/data.csv' #shift 1\n",
        "#url = 'https://raw.githubusercontent.com/ThalyaGIT/UK-Music-Index-Returns/shift-3/0-data-gold/data.csv' #shift 3\n",
        "#url = 'https://raw.githubusercontent.com/ThalyaGIT/UK-Music-Index-Returns/shift-5-instead/0-data-gold/data.csv' #shift 5\n",
        "#url = 'https://raw.githubusercontent.com/ThalyaGIT/Happy-Beats-Stocks/main/0-data-gold/data.csv' #shift 7\n",
        "#url = 'https://raw.githubusercontent.com/ThalyaGIT/UK-Music-Index-Returns/shift-10-again/0-data-gold/data.csv' #shift 10\n",
        "#url = 'https://raw.githubusercontent.com/ThalyaGIT/UK-Music-Index-Returns/shift-15/0-data-gold/data.csv' #shift 15\n",
        "#url = 'https://raw.githubusercontent.com/ThalyaGIT/UK-Music-Index-Returns/shift-20/0-data-gold/data.csv' #shift 20\n",
        "\n",
        "\n",
        "#url = 'https://raw.githubusercontent.com/ThalyaGIT/Happy-Beats-Stocks/volume/0-data-gold/data.csv' #volume\n",
        "\n",
        "\n",
        "df = pd.read_csv(url)\n",
        "\n",
        "# Select columns that will be used\n",
        "df = df[[ 'Date'\n",
        "         , '% FTSE100 Change'                        # Dependent Variable: Weekly % Change in FTSE 100\n",
        "         , '% FTSE250 Change'                        # Dependent Variable: Weekly % Change in FTSE 250\n",
        "         , '% FTSEAllShare Change'                   # Dependent Variable: Weekly % Change in FTSE AllShare\n",
        "         , '% FTSESmallCap Change'                   # Dependent Variable: Weekly % Change in FTSE SmallCap\n",
        "         , '% MSCIUK Change'                         # Dependent Variable:  % Change in MSCIUK\n",
        "         , 'Next Period % MSCIUK Change'             # Dependent Variable: Next Period % Change in MSCIUK\n",
        "         , 'Next Week % FTSE100 Change'              # Dependent Variable 2: Weekly % Change in FTSE 100\n",
        "         , 'Change in SWAV'                          # Independent Variable: Weekly Change in Stream Weighted Average Valence of UK Top Charts on Spotify\n",
        "         , 'ADS_Change'                              # Control 1: Weekly Change in Aruoba-Diebold-Scotti Business Conditions Index\n",
        "         , 'EPU_Change'                              # Control 2: Weekly Change in Economic Policy Uncertainty Index\n",
        "         , 'Previous Week % FTSE100 Change'          # Control 3: Weekly % Change in FTSE 100 from a week before\n",
        "         , 'Previous Week % FTSE250 Change'         # Control 3A: Weekly % Change in FTSE 250 from a week before\n",
        "         , 'Previous Week % FTSEAllShare Change'    # Control 3B: Weekly % Change in FTSE AllShare from a week before\n",
        "         , 'Previous Week % FTSESmallCap Change'    # Control 3C: Weekly % Change in FTSE SmallCap from a week before\n",
        "         , 'Previous Week % MSCIUK Change'          # Control 3D: Weekly % Change in MSCI UK from a week before\n",
        "         , '% MSCI Change'                           # Control 4: Weekly % Change in MSCI World Index\n",
        "         , 'Vix Close'                               # Control 5: Volaitlity Index of the day\n",
        "         , '7D_Rolling_Avg_Change_in_DCC'            # Control 6: Average Change in Deseasonalised Cloud Cover over the Last Week\n",
        "         , 'Stringency_Change'                       # Control 7: Weekly Change in Covid Stringency Rules\n",
        "        # , '% Vol Change'\n",
        "        ]]\n",
        "\n",
        "# Attempt to convert the 'Date' column to datetime, coercing errors to NaT (Not a Time)\n",
        "df['Date'] = pd.to_datetime(df['Date'], errors='coerce')\n",
        "\n",
        "\n",
        "# # Extract the month from the 'Date' column\n",
        "# df['Month'] = df['Date'].dt.month\n",
        "# df['Year'] = df['Date'].dt.year\n",
        "\n",
        "# # Filter for rows where the month is between May (5) and November (11)\n",
        "# df = df[(df['Year'] == 2019)]\n",
        "# df = df[(df['Month'] == 2017)]\n",
        "\n",
        "# df = df[(df['Month'] >= 12) | (df['Month'] <= 4)]\n",
        "\n",
        "\n",
        "\n"
      ]
    },
    {
      "cell_type": "code",
      "execution_count": 53,
      "metadata": {
        "id": "ooLKK8_eVgQP"
      },
      "outputs": [],
      "source": [
        "# Explore Data\n",
        "\n",
        "# # Calculate the correlation matrix\n",
        "# correlation_matrix = df.drop(columns=['Date']).corr()\n",
        "\n",
        "\n",
        "# # Create a heatmap\n",
        "# plt.figure(figsize=(10, 8))\n",
        "# sns.heatmap(correlation_matrix, annot=True, cmap='coolwarm', vmin=-1, vmax=1)\n",
        "# plt.title('Correlation Heatmap of Variables')\n",
        "# plt.show()"
      ]
    },
    {
      "cell_type": "markdown",
      "metadata": {
        "id": "4D4v2bMvV2Ih"
      },
      "source": [
        "# **MSCI UK with No Controlling Variables**"
      ]
    },
    {
      "cell_type": "code",
      "execution_count": 54,
      "metadata": {
        "id": "3qHCM4vZWLh5",
        "colab": {
          "base_uri": "https://localhost:8080/"
        },
        "outputId": "5fc9b689-de1f-496c-cb76-80abd2dfbfe7"
      },
      "outputs": [
        {
          "output_type": "stream",
          "name": "stdout",
          "text": [
            "                            OLS Regression Results                            \n",
            "==============================================================================\n",
            "Dep. Variable:        % MSCIUK Change   R-squared:                       0.000\n",
            "Model:                            OLS   Adj. R-squared:                 -0.001\n",
            "Method:                 Least Squares   F-statistic:                   0.04056\n",
            "Date:                Tue, 13 Aug 2024   Prob (F-statistic):              0.840\n",
            "Time:                        21:35:50   Log-Likelihood:                -2843.0\n",
            "No. Observations:                1724   AIC:                             5690.\n",
            "Df Residuals:                    1722   BIC:                             5701.\n",
            "Df Model:                           1                                         \n",
            "Covariance Type:            nonrobust                                         \n",
            "==================================================================================\n",
            "                     coef    std err          t      P>|t|      [0.025      0.975]\n",
            "----------------------------------------------------------------------------------\n",
            "const              0.0061      0.030      0.201      0.841      -0.053       0.066\n",
            "Change in SWAV     0.4928      2.447      0.201      0.840      -4.307       5.292\n",
            "==============================================================================\n",
            "Omnibus:                      561.737   Durbin-Watson:                   2.191\n",
            "Prob(Omnibus):                  0.000   Jarque-Bera (JB):            17702.945\n",
            "Skew:                          -0.882   Prob(JB):                         0.00\n",
            "Kurtosis:                      18.599   Cond. No.                         80.7\n",
            "==============================================================================\n",
            "\n",
            "Notes:\n",
            "[1] Standard Errors assume that the covariance matrix of the errors is correctly specified.\n"
          ]
        }
      ],
      "source": [
        "# Define dependent and independent variables\n",
        "\n",
        "#  Define the dependent variable\n",
        "y = df[ '% MSCIUK Change' ]\n",
        "\n",
        "# Define the independent variable as 'Weekly Change in Stream Weighted Average Valence of UK Top Charts on Spotify' Only\n",
        "X = df[[ 'Change in SWAV' ]]\n",
        "\n",
        "# Add a constant to the model (intercept)\n",
        "X = sm.add_constant(X)\n",
        "\n",
        "# Build and fit the regression model\n",
        "model = sm.OLS(y, X).fit()\n",
        "\n",
        "# Print the summary of the regression model\n",
        "print(model.summary())"
      ]
    },
    {
      "cell_type": "markdown",
      "source": [
        "# **MSCIUK**"
      ],
      "metadata": {
        "id": "bbZg-_ZK4uSW"
      }
    },
    {
      "cell_type": "code",
      "source": [
        "# Define dependent and independent variables\n",
        "\n",
        "#  Define the dependent variable\n",
        "y = df['% MSCIUK Change']\n",
        "\n",
        "# Define the independent variables, including 'Change in SWAV' and the other control variables\n",
        "X = df[[ 'Change in SWAV'                             # Independent Variable: Weekly Change in Stream Weighted Average Valence of UK Top Charts on Spotify\n",
        "          , 'ADS_Change'                              # Control 1: Weekly Change in Aruoba-Diebold-Scotti Business Conditions Index\n",
        "          , 'EPU_Change'                              # Control 2: Weekly Change in Economic Policy Uncertainty Index\n",
        "          , 'Previous Week % MSCIUK Change'           # Control 3: Weekly % Change in FTSE 100 from a week before\n",
        "          , '% MSCI Change'                           # Control 4: Weekly % Change in MSCI World Index\n",
        "          , 'Vix Close'                               # Control 5: Volaitlity Index of the day\n",
        "          , '7D_Rolling_Avg_Change_in_DCC'            # Control 6: Average Change in Deseasonalised Cloud Cover over the Last Week\n",
        "          , 'Stringency_Change'                       # Control 7: Weekly Change in Covid Stringency Rules\n",
        "          ]]\n",
        "\n",
        "# Add a constant to the model (intercept)\n",
        "X = sm.add_constant(X)\n",
        "\n",
        "# Build and fit the regression model\n",
        "model = sm.OLS(y, X).fit()\n",
        "\n",
        "# Print the summary of the regression model\n",
        "print(model.summary())"
      ],
      "metadata": {
        "colab": {
          "base_uri": "https://localhost:8080/"
        },
        "id": "5OTOnvRx4ucM",
        "outputId": "3ece81c6-8834-4f3b-ae53-e1975263842b"
      },
      "execution_count": 55,
      "outputs": [
        {
          "output_type": "stream",
          "name": "stdout",
          "text": [
            "                            OLS Regression Results                            \n",
            "==============================================================================\n",
            "Dep. Variable:        % MSCIUK Change   R-squared:                       0.710\n",
            "Model:                            OLS   Adj. R-squared:                  0.709\n",
            "Method:                 Least Squares   F-statistic:                     601.6\n",
            "Date:                Tue, 13 Aug 2024   Prob (F-statistic):               0.00\n",
            "Time:                        21:35:50   Log-Likelihood:                -1774.6\n",
            "No. Observations:                1724   AIC:                             3565.\n",
            "Df Residuals:                    1716   BIC:                             3609.\n",
            "Df Model:                           7                                         \n",
            "Covariance Type:            nonrobust                                         \n",
            "=================================================================================================\n",
            "                                    coef    std err          t      P>|t|      [0.025      0.975]\n",
            "-------------------------------------------------------------------------------------------------\n",
            "const                            -0.0359      0.043     -0.829      0.407      -0.121       0.049\n",
            "Change in SWAV                    2.4107      1.323      1.822      0.069      -0.184       5.006\n",
            "ADS_Change                        0.1115      0.071      1.580      0.114      -0.027       0.250\n",
            "EPU_Change                       -0.0001   9.74e-05     -1.472      0.141      -0.000    4.76e-05\n",
            "Previous Week % MSCIUK Change    -0.0885      0.013     -6.662      0.000      -0.115      -0.062\n",
            "% MSCI Change                     1.0130      0.016     62.682      0.000       0.981       1.045\n",
            "Vix Close                         0.0002      0.002      0.088      0.930      -0.004       0.004\n",
            "7D_Rolling_Avg_Change_in_DCC           0          0        nan        nan           0           0\n",
            "Stringency_Change                -0.0703      0.058     -1.213      0.225      -0.184       0.043\n",
            "==============================================================================\n",
            "Omnibus:                      172.418   Durbin-Watson:                   1.951\n",
            "Prob(Omnibus):                  0.000   Jarque-Bera (JB):              891.926\n",
            "Skew:                          -0.316   Prob(JB):                    2.09e-194\n",
            "Kurtosis:                       6.466   Cond. No.                     9.52e+23\n",
            "==============================================================================\n",
            "\n",
            "Notes:\n",
            "[1] Standard Errors assume that the covariance matrix of the errors is correctly specified.\n",
            "[2] The smallest eigenvalue is 5.39e-41. This might indicate that there are\n",
            "strong multicollinearity problems or that the design matrix is singular.\n"
          ]
        }
      ]
    },
    {
      "cell_type": "markdown",
      "source": [
        "## **Next Period's MSCI Change**"
      ],
      "metadata": {
        "id": "VuJZxeOl6Kjb"
      }
    },
    {
      "cell_type": "code",
      "source": [
        "# Define dependent and independent variables\n",
        "\n",
        "#  Define the dependent variable\n",
        "y = df['Next Period % MSCIUK Change']\n",
        "\n",
        "# Define the independent variables, including 'Change in SWAV' and the other control variables\n",
        "X = df[[ 'Change in SWAV'                            # Independent Variable: Weekly Change in Stream Weighted Average Valence of UK Top Charts on Spotify\n",
        "         , 'ADS_Change'                              # Control 1: Weekly Change in Aruoba-Diebold-Scotti Business Conditions Index\n",
        "         , 'EPU_Change'                              # Control 2: Weekly Change in Economic Policy Uncertainty Index\n",
        "         , '% MSCIUK Change'                         # Control 3: Weekly % Change in MSCI UK\n",
        "         , '% MSCI Change'                           # Control 4: Weekly % Change in MSCI World Index\n",
        "         , 'Vix Close'                               # Control 5: Volaitlity Index of the day\n",
        "         , '7D_Rolling_Avg_Change_in_DCC'            # Control 6: Average Change in Deseasonalised Cloud Cover over the Last Week\n",
        "         , 'Stringency_Change'                       # Control 7: Weekly Change in Covid Stringency Rules\n",
        "        ]]\n",
        "\n",
        "# Add a constant to the model (intercept)\n",
        "X = sm.add_constant(X)\n",
        "\n",
        "# Build and fit the regression model\n",
        "model = sm.OLS(y, X).fit()\n",
        "\n",
        "# Print the summary of the regression model\n",
        "print(model.summary())"
      ],
      "metadata": {
        "id": "R3_tUndl6KzJ",
        "colab": {
          "base_uri": "https://localhost:8080/"
        },
        "outputId": "15c02b6c-82c9-4332-e470-613bb8778fd7"
      },
      "execution_count": 56,
      "outputs": [
        {
          "output_type": "stream",
          "name": "stdout",
          "text": [
            "                                 OLS Regression Results                                \n",
            "=======================================================================================\n",
            "Dep. Variable:     Next Period % MSCIUK Change   R-squared:                       0.025\n",
            "Model:                                     OLS   Adj. R-squared:                  0.021\n",
            "Method:                          Least Squares   F-statistic:                     6.178\n",
            "Date:                         Tue, 13 Aug 2024   Prob (F-statistic):           3.69e-07\n",
            "Time:                                 21:35:50   Log-Likelihood:                -2768.0\n",
            "No. Observations:                         1724   AIC:                             5552.\n",
            "Df Residuals:                             1716   BIC:                             5596.\n",
            "Df Model:                                    7                                         \n",
            "Covariance Type:                     nonrobust                                         \n",
            "================================================================================================\n",
            "                                   coef    std err          t      P>|t|      [0.025      0.975]\n",
            "------------------------------------------------------------------------------------------------\n",
            "const                           -0.0240      0.077     -0.312      0.755      -0.175       0.127\n",
            "Change in SWAV                   0.4199      2.357      0.178      0.859      -4.202       5.042\n",
            "ADS_Change                      -0.0786      0.125     -0.627      0.531      -0.324       0.167\n",
            "EPU_Change                      -0.0003      0.000     -1.642      0.101      -0.001    5.54e-05\n",
            "% MSCIUK Change                 -0.0507      0.042     -1.196      0.232      -0.134       0.032\n",
            "% MSCI Change                   -0.0178      0.052     -0.344      0.731      -0.119       0.084\n",
            "Vix Close                        0.0022      0.004      0.585      0.559      -0.005       0.009\n",
            "7D_Rolling_Avg_Change_in_DCC          0          0        nan        nan           0           0\n",
            "Stringency_Change                0.5072      0.103      4.914      0.000       0.305       0.710\n",
            "==============================================================================\n",
            "Omnibus:                      516.955   Durbin-Watson:                   1.948\n",
            "Prob(Omnibus):                  0.000   Jarque-Bera (JB):             7984.934\n",
            "Skew:                          -0.976   Prob(JB):                         0.00\n",
            "Kurtosis:                      13.361   Cond. No.                          inf\n",
            "==============================================================================\n",
            "\n",
            "Notes:\n",
            "[1] Standard Errors assume that the covariance matrix of the errors is correctly specified.\n",
            "[2] The smallest eigenvalue is      0. This might indicate that there are\n",
            "strong multicollinearity problems or that the design matrix is singular.\n"
          ]
        },
        {
          "output_type": "stream",
          "name": "stderr",
          "text": [
            "/usr/local/lib/python3.10/dist-packages/statsmodels/regression/linear_model.py:1967: RuntimeWarning: divide by zero encountered in scalar divide\n",
            "  return np.sqrt(eigvals[0]/eigvals[-1])\n"
          ]
        }
      ]
    },
    {
      "cell_type": "markdown",
      "source": [
        "# **MSCI UK 2017-2019**"
      ],
      "metadata": {
        "id": "eyA0-jeL5JVA"
      }
    },
    {
      "cell_type": "code",
      "source": [
        "# Define dependent and independent variables\n",
        "\n",
        "# Define the start and end dates for the filter\n",
        "start_date = '2017-01-01'\n",
        "end_date = '2019-12-31'\n",
        "\n",
        "# Filter the DataFrame for dates within the specified range\n",
        "df_period1 = df[(df['Date'] >= start_date) & (df['Date'] <= end_date)]\n",
        "\n",
        "#  Define the dependent variable\n",
        "y = df_period1['% MSCIUK Change']\n",
        "\n",
        "# Define the independent variables, including 'Change in SWAV' and the other control variables\n",
        "X = df_period1[[  'Change in SWAV'                          # Independent Variable: Weekly Change in Stream Weighted Average Valence of UK Top Charts on Spotify\n",
        "                  , 'ADS_Change'                              # Control 1: Weekly Change in Aruoba-Diebold-Scotti Business Conditions Index\n",
        "                  , 'EPU_Change'                              # Control 2: Weekly Change in Economic Policy Uncertainty Index\n",
        "                  , 'Previous Week % MSCIUK Change'          # Control 3: Weekly % Change in FTSE 100 from a week before\n",
        "                  , '% MSCI Change'                           # Control 4: Weekly % Change in MSCI World Index\n",
        "                  , 'Vix Close'                               # Control 5: Volaitlity Index of the day\n",
        "                  , '7D_Rolling_Avg_Change_in_DCC'            # Control 6: Average Change in Deseasonalised Cloud Cover over the Last Week\n",
        "                  , 'Stringency_Change'                       # Control 7: Weekly Change in Covid Stringency Rules\n",
        "                  ]]\n",
        "\n",
        "# Add a constant to the model (intercept)\n",
        "X = sm.add_constant(X)\n",
        "\n",
        "# Build and fit the regression model\n",
        "model = sm.OLS(y, X).fit()\n",
        "\n",
        "# Print the summary of the regression model\n",
        "print(model.summary())"
      ],
      "metadata": {
        "colab": {
          "base_uri": "https://localhost:8080/"
        },
        "id": "DSZMZxZh5KBY",
        "outputId": "4f7d539f-e515-4827-a9fb-706febf931e5"
      },
      "execution_count": 57,
      "outputs": [
        {
          "output_type": "stream",
          "name": "stdout",
          "text": [
            "                            OLS Regression Results                            \n",
            "==============================================================================\n",
            "Dep. Variable:        % MSCIUK Change   R-squared:                       0.583\n",
            "Model:                            OLS   Adj. R-squared:                  0.580\n",
            "Method:                 Least Squares   F-statistic:                     170.8\n",
            "Date:                Tue, 13 Aug 2024   Prob (F-statistic):          1.46e-135\n",
            "Time:                        21:35:50   Log-Likelihood:                -556.38\n",
            "No. Observations:                 740   AIC:                             1127.\n",
            "Df Residuals:                     733   BIC:                             1159.\n",
            "Df Model:                           6                                         \n",
            "Covariance Type:            nonrobust                                         \n",
            "=================================================================================================\n",
            "                                    coef    std err          t      P>|t|      [0.025      0.975]\n",
            "-------------------------------------------------------------------------------------------------\n",
            "const                            -0.0368      0.073     -0.506      0.613      -0.179       0.106\n",
            "Change in SWAV                    4.3372      1.657      2.618      0.009       1.084       7.590\n",
            "ADS_Change                       -0.6931      0.855     -0.810      0.418      -2.372       0.986\n",
            "EPU_Change                       -0.0001      0.000     -0.900      0.368      -0.000       0.000\n",
            "Previous Week % MSCIUK Change    -0.1290      0.024     -5.296      0.000      -0.177      -0.081\n",
            "% MSCI Change                     0.9568      0.031     30.670      0.000       0.896       1.018\n",
            "Vix Close                         0.0006      0.005      0.130      0.896      -0.009       0.010\n",
            "7D_Rolling_Avg_Change_in_DCC           0          0        nan        nan           0           0\n",
            "Stringency_Change                      0          0        nan        nan           0           0\n",
            "==============================================================================\n",
            "Omnibus:                      176.296   Durbin-Watson:                   1.926\n",
            "Prob(Omnibus):                  0.000   Jarque-Bera (JB):             1353.000\n",
            "Skew:                          -0.848   Prob(JB):                    1.58e-294\n",
            "Kurtosis:                       9.404   Cond. No.                          inf\n",
            "==============================================================================\n",
            "\n",
            "Notes:\n",
            "[1] Standard Errors assume that the covariance matrix of the errors is correctly specified.\n",
            "[2] The smallest eigenvalue is      0. This might indicate that there are\n",
            "strong multicollinearity problems or that the design matrix is singular.\n"
          ]
        },
        {
          "output_type": "stream",
          "name": "stderr",
          "text": [
            "/usr/local/lib/python3.10/dist-packages/statsmodels/regression/linear_model.py:1967: RuntimeWarning: divide by zero encountered in scalar divide\n",
            "  return np.sqrt(eigvals[0]/eigvals[-1])\n"
          ]
        }
      ]
    },
    {
      "cell_type": "markdown",
      "source": [
        "# **MSCI UK 2020-2023**"
      ],
      "metadata": {
        "id": "ZXZIg3X26r5V"
      }
    },
    {
      "cell_type": "code",
      "source": [
        "# Define dependent and independent variables\n",
        "\n",
        "# Define the start and end dates for the filter\n",
        "start_date = '2020-01-01'\n",
        "end_date = '2023-12-31'\n",
        "\n",
        "# Filter the DataFrame for dates within the specified range\n",
        "df_period2 = df[(df['Date'] >= start_date) & (df['Date'] <= end_date)]\n",
        "\n",
        "#  Define the dependent variable\n",
        "y = df_period2['% MSCIUK Change']\n",
        "\n",
        "# Define the independent variables, including 'Change in SWAV' and the other control variables\n",
        "X = df_period2[[ 'Change in SWAV'                           # Independent Variable: Weekly Change in Stream Weighted Average Valence of UK Top Charts on Spotify\n",
        "                , 'ADS_Change'                              # Control 1: Weekly Change in Aruoba-Diebold-Scotti Business Conditions Index\n",
        "                , 'EPU_Change'                              # Control 2: Weekly Change in Economic Policy Uncertainty Index\n",
        "                , 'Previous Week % MSCIUK Change'          # Control 3: Weekly % Change in FTSE 100 from a week before\n",
        "                , '% MSCI Change'                           # Control 4: Weekly % Change in MSCI World Index\n",
        "                , 'Vix Close'                               # Control 5: Volaitlity Index of the day\n",
        "                , '7D_Rolling_Avg_Change_in_DCC'            # Control 6: Average Change in Deseasonalised Cloud Cover over the Last Week\n",
        "                , 'Stringency_Change'                       # Control 7: Weekly Change in Covid Stringency Rules\n",
        "                ]]\n",
        "\n",
        "# Add a constant to the model (intercept)\n",
        "X = sm.add_constant(X)\n",
        "\n",
        "# Build and fit the regression model\n",
        "model = sm.OLS(y, X).fit()\n",
        "\n",
        "# Print the summary of the regression model\n",
        "print(model.summary())"
      ],
      "metadata": {
        "colab": {
          "base_uri": "https://localhost:8080/"
        },
        "id": "OBa3TQ4f6sPs",
        "outputId": "ecf38499-c356-4505-fbb1-3ae8d6118170"
      },
      "execution_count": 58,
      "outputs": [
        {
          "output_type": "stream",
          "name": "stdout",
          "text": [
            "                            OLS Regression Results                            \n",
            "==============================================================================\n",
            "Dep. Variable:        % MSCIUK Change   R-squared:                       0.738\n",
            "Model:                            OLS   Adj. R-squared:                  0.736\n",
            "Method:                 Least Squares   F-statistic:                     393.5\n",
            "Date:                Tue, 13 Aug 2024   Prob (F-statistic):          5.15e-279\n",
            "Time:                        21:35:50   Log-Likelihood:                -1146.6\n",
            "No. Observations:                 984   AIC:                             2309.\n",
            "Df Residuals:                     976   BIC:                             2348.\n",
            "Df Model:                           7                                         \n",
            "Covariance Type:            nonrobust                                         \n",
            "=================================================================================================\n",
            "                                    coef    std err          t      P>|t|      [0.025      0.975]\n",
            "-------------------------------------------------------------------------------------------------\n",
            "const                            -0.0421      0.075     -0.563      0.574      -0.189       0.105\n",
            "Change in SWAV                    1.0050      1.916      0.524      0.600      -2.756       4.766\n",
            "ADS_Change                        0.1001      0.082      1.224      0.221      -0.060       0.261\n",
            "EPU_Change                       -0.0002      0.000     -1.182      0.238      -0.000       0.000\n",
            "Previous Week % MSCIUK Change    -0.0778      0.017     -4.611      0.000      -0.111      -0.045\n",
            "% MSCI Change                     1.0269      0.020     50.375      0.000       0.987       1.067\n",
            "Vix Close                         0.0003      0.003      0.105      0.917      -0.006       0.006\n",
            "7D_Rolling_Avg_Change_in_DCC           0          0        nan        nan           0           0\n",
            "Stringency_Change                -0.0681      0.067     -1.018      0.309      -0.199       0.063\n",
            "==============================================================================\n",
            "Omnibus:                       51.871   Durbin-Watson:                   1.954\n",
            "Prob(Omnibus):                  0.000   Jarque-Bera (JB):              157.022\n",
            "Skew:                          -0.173   Prob(JB):                     8.00e-35\n",
            "Kurtosis:                       4.926   Cond. No.                          inf\n",
            "==============================================================================\n",
            "\n",
            "Notes:\n",
            "[1] Standard Errors assume that the covariance matrix of the errors is correctly specified.\n",
            "[2] The smallest eigenvalue is      0. This might indicate that there are\n",
            "strong multicollinearity problems or that the design matrix is singular.\n"
          ]
        },
        {
          "output_type": "stream",
          "name": "stderr",
          "text": [
            "/usr/local/lib/python3.10/dist-packages/statsmodels/regression/linear_model.py:1967: RuntimeWarning: divide by zero encountered in scalar divide\n",
            "  return np.sqrt(eigvals[0]/eigvals[-1])\n"
          ]
        }
      ]
    },
    {
      "cell_type": "markdown",
      "metadata": {
        "id": "m-NWl8zvYqAJ"
      },
      "source": [
        "## Findings\n",
        "\n",
        "**Low Explanatory Power:** The model has an R-squared of 0.006, indicating a poor fit.\n",
        "\n",
        "**Significant Negative Effect:** Change in SWAV significantly decreases FTSE 100 change (coefficient = -11.5132, p < 0.001).\n",
        "\n",
        "**Model Significance:** The model is statistically significant (F-statistic = 24.10, p < 0.001).\n",
        "\n",
        "**Non-Significant Intercept:** The constant term is not significant (p = 0.508).\n",
        "\n",
        "**Residual Issues:** Residuals show non-normality and autocorrelation, indicating model assumption problems."
      ]
    },
    {
      "cell_type": "markdown",
      "metadata": {
        "id": "-F-YLeLCWO1j"
      },
      "source": [
        "# **FTSE100**\n",
        "\n",
        "\n"
      ]
    },
    {
      "cell_type": "code",
      "execution_count": 59,
      "metadata": {
        "id": "90BZWX8jUnkY",
        "colab": {
          "base_uri": "https://localhost:8080/"
        },
        "outputId": "dfaa373d-69fb-4f2e-cbde-06c2e6af3600"
      },
      "outputs": [
        {
          "output_type": "stream",
          "name": "stdout",
          "text": [
            "                            OLS Regression Results                            \n",
            "==============================================================================\n",
            "Dep. Variable:       % FTSE100 Change   R-squared:                       0.443\n",
            "Model:                            OLS   Adj. R-squared:                  0.440\n",
            "Method:                 Least Squares   F-statistic:                     194.6\n",
            "Date:                Tue, 13 Aug 2024   Prob (F-statistic):          1.57e-212\n",
            "Time:                        21:35:50   Log-Likelihood:                -1964.6\n",
            "No. Observations:                1724   AIC:                             3945.\n",
            "Df Residuals:                    1716   BIC:                             3989.\n",
            "Df Model:                           7                                         \n",
            "Covariance Type:            nonrobust                                         \n",
            "==================================================================================================\n",
            "                                     coef    std err          t      P>|t|      [0.025      0.975]\n",
            "--------------------------------------------------------------------------------------------------\n",
            "const                             -0.0141      0.048     -0.292      0.770      -0.109       0.081\n",
            "Change in SWAV                    -0.9333      1.477     -0.632      0.528      -3.831       1.964\n",
            "ADS_Change                         0.1157      0.079      1.468      0.142      -0.039       0.270\n",
            "EPU_Change                     -7.188e-06      0.000     -0.066      0.947      -0.000       0.000\n",
            "Previous Week % FTSE100 Change     0.0082      0.018      0.454      0.650      -0.027       0.044\n",
            "% MSCI Change                      0.6419      0.018     35.471      0.000       0.606       0.677\n",
            "Vix Close                         -0.0002      0.002     -0.073      0.942      -0.005       0.004\n",
            "7D_Rolling_Avg_Change_in_DCC            0          0        nan        nan           0           0\n",
            "Stringency_Change                 -0.0904      0.065     -1.395      0.163      -0.217       0.037\n",
            "==============================================================================\n",
            "Omnibus:                      155.328   Durbin-Watson:                   2.224\n",
            "Prob(Omnibus):                  0.000   Jarque-Bera (JB):              778.511\n",
            "Skew:                          -0.259   Prob(JB):                    8.88e-170\n",
            "Kurtosis:                       6.251   Cond. No.                     2.35e+23\n",
            "==============================================================================\n",
            "\n",
            "Notes:\n",
            "[1] Standard Errors assume that the covariance matrix of the errors is correctly specified.\n",
            "[2] The smallest eigenvalue is 8.86e-40. This might indicate that there are\n",
            "strong multicollinearity problems or that the design matrix is singular.\n"
          ]
        }
      ],
      "source": [
        "import pandas as pd\n",
        "import statsmodels.api as sm\n",
        "\n",
        "# Define the dependent variable\n",
        "y = df['% FTSE100 Change']\n",
        "\n",
        "# Define the independent variables, including 'Change in SWAV' and the other control variables\n",
        "X = df[[ 'Change in SWAV',                          # Independent Variable: Weekly Change in Stream Weighted Average Valence of UK Top Charts on Spotify\n",
        "         'ADS_Change',                              # Control 1: Weekly Change in Aruoba-Diebold-Scotti Business Conditions Index\n",
        "         'EPU_Change',                              # Control 2: Weekly Change in Economic Policy Uncertainty Index\n",
        "         'Previous Week % FTSE100 Change',          # Control 3: Weekly % Change in FTSE 100 from a week before\n",
        "         '% MSCI Change',                           # Control 4: Weekly % Change in MSCI World Index\n",
        "         'Vix Close',                               # Control 5: Volaitlity Index of the day\n",
        "         '7D_Rolling_Avg_Change_in_DCC',            # Control 6: Average Change in Deseasonalised Cloud Cover over the Last Week\n",
        "         'Stringency_Change'                        # Control 7: Weekly Change in Covid Stringency Rules\n",
        "]]\n",
        "\n",
        "# Add a constant to the model (intercept)\n",
        "X = sm.add_constant(X)\n",
        "\n",
        "# Fit the regression model\n",
        "model = sm.OLS(y, X).fit()\n",
        "\n",
        "# Print the summary of the regression model\n",
        "print(model.summary())"
      ]
    },
    {
      "cell_type": "markdown",
      "source": [
        "# **FTSE100 without MSCI as a Control**"
      ],
      "metadata": {
        "id": "nrmYpsRj430I"
      }
    },
    {
      "cell_type": "code",
      "source": [
        "# Define dependent and independent variables\n",
        "\n",
        "# #  Define the dependent variable\n",
        "y = df['% FTSE100 Change']\n",
        "\n",
        "# Define the independent variables, including 'Change in SWAV' and the other control variables\n",
        "X = df[[ 'Change in SWAV'                          # Independent Variable: Weekly Change in Stream Weighted Average Valence of UK Top Charts on Spotify\n",
        "         , 'ADS_Change'                              # Control 1: Weekly Change in Aruoba-Diebold-Scotti Business Conditions Index\n",
        "         , 'EPU_Change'                              # Control 2: Weekly Change in Economic Policy Uncertainty Index\n",
        "         , 'Previous Week % FTSE100 Change'          # Control 3: Weekly % Change in FTSE 100 from a week before\n",
        "         #, '% MSCI Change'                           # Control 4: Weekly % Change in MSCI World Index\n",
        "         , 'Vix Close'                               # Control 5: Volaitlity Index of the day\n",
        "         , '7D_Rolling_Avg_Change_in_DCC'            # Control 6: Average Change in Deseasonalised Cloud Cover over the Last Week\n",
        "         , 'Stringency_Change'                       # Control 7: Weekly Change in Covid Stringency Rules\n",
        "        ]]\n",
        "\n",
        "# Add a constant to the model (intercept)\n",
        "X = sm.add_constant(X)\n",
        "\n",
        "# Build and fit the regression model\n",
        "model = sm.OLS(y, X).fit()\n",
        "\n",
        "# Print the summary of the regression model\n",
        "print(model.summary())"
      ],
      "metadata": {
        "colab": {
          "base_uri": "https://localhost:8080/"
        },
        "id": "yzBa2KHZ5B-A",
        "outputId": "a5552b99-8969-4664-c041-c61a4f86567e"
      },
      "execution_count": 60,
      "outputs": [
        {
          "output_type": "stream",
          "name": "stdout",
          "text": [
            "                            OLS Regression Results                            \n",
            "==============================================================================\n",
            "Dep. Variable:       % FTSE100 Change   R-squared:                       0.034\n",
            "Model:                            OLS   Adj. R-squared:                  0.030\n",
            "Method:                 Least Squares   F-statistic:                     10.00\n",
            "Date:                Tue, 13 Aug 2024   Prob (F-statistic):           6.97e-11\n",
            "Time:                        21:35:50   Log-Likelihood:                -2438.7\n",
            "No. Observations:                1724   AIC:                             4891.\n",
            "Df Residuals:                    1717   BIC:                             4930.\n",
            "Df Model:                           6                                         \n",
            "Covariance Type:            nonrobust                                         \n",
            "==================================================================================================\n",
            "                                     coef    std err          t      P>|t|      [0.025      0.975]\n",
            "--------------------------------------------------------------------------------------------------\n",
            "const                              0.2442      0.063      3.884      0.000       0.121       0.367\n",
            "Change in SWAV                    -2.2091      1.944     -1.137      0.256      -6.021       1.603\n",
            "ADS_Change                         0.4490      0.103      4.357      0.000       0.247       0.651\n",
            "EPU_Change                      1.849e-05      0.000      0.129      0.897      -0.000       0.000\n",
            "Previous Week % FTSE100 Change    -0.0415      0.024     -1.740      0.082      -0.088       0.005\n",
            "Vix Close                         -0.0123      0.003     -4.074      0.000      -0.018      -0.006\n",
            "7D_Rolling_Avg_Change_in_DCC            0          0        nan        nan           0           0\n",
            "Stringency_Change                 -0.1936      0.085     -2.274      0.023      -0.361      -0.027\n",
            "==============================================================================\n",
            "Omnibus:                      378.565   Durbin-Watson:                   1.942\n",
            "Prob(Omnibus):                  0.000   Jarque-Bera (JB):            13522.165\n",
            "Skew:                          -0.190   Prob(JB):                         0.00\n",
            "Kurtosis:                      16.715   Cond. No.                          inf\n",
            "==============================================================================\n",
            "\n",
            "Notes:\n",
            "[1] Standard Errors assume that the covariance matrix of the errors is correctly specified.\n",
            "[2] The smallest eigenvalue is      0. This might indicate that there are\n",
            "strong multicollinearity problems or that the design matrix is singular.\n"
          ]
        },
        {
          "output_type": "stream",
          "name": "stderr",
          "text": [
            "/usr/local/lib/python3.10/dist-packages/statsmodels/regression/linear_model.py:1967: RuntimeWarning: divide by zero encountered in scalar divide\n",
            "  return np.sqrt(eigvals[0]/eigvals[-1])\n"
          ]
        }
      ]
    },
    {
      "cell_type": "markdown",
      "source": [
        "# **FTSE 250 Mid Cap**"
      ],
      "metadata": {
        "id": "1-4LBAcz3xNt"
      }
    },
    {
      "cell_type": "code",
      "source": [
        "# Define dependent and independent variables\n",
        "\n",
        "\n",
        "#  Define the dependent variable\n",
        "y = df['% FTSE250 Change']\n",
        "\n",
        "# Define the independent variables, including 'Change in SWAV' and the other control variables\n",
        "X = df[[ 'Change in SWAV'                           # Independent Variable: Weekly Change in Stream Weighted Average Valence of UK Top Charts on Spotify\n",
        "          , 'ADS_Change'                              # Control 1: Weekly Change in Aruoba-Diebold-Scotti Business Conditions Index\n",
        "          , 'EPU_Change'                              # Control 2: Weekly Change in Economic Policy Uncertainty Index\n",
        "          , 'Previous Week % FTSE250 Change'          # Control 3: Weekly % Change in FTSE 100 from a week before\n",
        "          , '% MSCI Change'                           # Control 4: Weekly % Change in MSCI World Index\n",
        "          , 'Vix Close'                               # Control 5: Volaitlity Index of the day\n",
        "          , '7D_Rolling_Avg_Change_in_DCC'            # Control 6: Average Change in Deseasonalised Cloud Cover over the Last Week\n",
        "          , 'Stringency_Change'                       # Control 7: Weekly Change in Covid Stringency Rules\n",
        "          ]]\n",
        "\n",
        "# Add a constant to the model (intercept)\n",
        "X = sm.add_constant(X)\n",
        "\n",
        "# Build and fit the regression model\n",
        "model = sm.OLS(y, X).fit()\n",
        "\n",
        "# Print the summary of the regression model\n",
        "print(model.summary())"
      ],
      "metadata": {
        "colab": {
          "base_uri": "https://localhost:8080/"
        },
        "id": "fAH0o0223xcy",
        "outputId": "629d358c-c678-4137-e19a-2b6af50ee92d"
      },
      "execution_count": 61,
      "outputs": [
        {
          "output_type": "stream",
          "name": "stdout",
          "text": [
            "                            OLS Regression Results                            \n",
            "==============================================================================\n",
            "Dep. Variable:       % FTSE250 Change   R-squared:                       0.446\n",
            "Model:                            OLS   Adj. R-squared:                  0.444\n",
            "Method:                 Least Squares   F-statistic:                     197.3\n",
            "Date:                Tue, 13 Aug 2024   Prob (F-statistic):          8.50e-215\n",
            "Time:                        21:35:50   Log-Likelihood:                -2094.3\n",
            "No. Observations:                1724   AIC:                             4205.\n",
            "Df Residuals:                    1716   BIC:                             4248.\n",
            "Df Model:                           7                                         \n",
            "Covariance Type:            nonrobust                                         \n",
            "==================================================================================================\n",
            "                                     coef    std err          t      P>|t|      [0.025      0.975]\n",
            "--------------------------------------------------------------------------------------------------\n",
            "const                              0.0403      0.052      0.770      0.441      -0.062       0.143\n",
            "Change in SWAV                     0.3206      1.593      0.201      0.840      -2.803       3.444\n",
            "ADS_Change                         0.1824      0.085      2.143      0.032       0.015       0.349\n",
            "EPU_Change                      -4.87e-05      0.000     -0.415      0.678      -0.000       0.000\n",
            "Previous Week % FTSE250 Change     0.0833      0.018      4.564      0.000       0.047       0.119\n",
            "% MSCI Change                      0.6804      0.019     34.973      0.000       0.642       0.719\n",
            "Vix Close                         -0.0030      0.003     -1.183      0.237      -0.008       0.002\n",
            "7D_Rolling_Avg_Change_in_DCC            0          0        nan        nan           0           0\n",
            "Stringency_Change                 -0.1499      0.070     -2.143      0.032      -0.287      -0.013\n",
            "==============================================================================\n",
            "Omnibus:                      408.529   Durbin-Watson:                   2.297\n",
            "Prob(Omnibus):                  0.000   Jarque-Bera (JB):             6414.457\n",
            "Skew:                           0.670   Prob(JB):                         0.00\n",
            "Kurtosis:                      12.354   Cond. No.                          inf\n",
            "==============================================================================\n",
            "\n",
            "Notes:\n",
            "[1] Standard Errors assume that the covariance matrix of the errors is correctly specified.\n",
            "[2] The smallest eigenvalue is      0. This might indicate that there are\n",
            "strong multicollinearity problems or that the design matrix is singular.\n"
          ]
        },
        {
          "output_type": "stream",
          "name": "stderr",
          "text": [
            "/usr/local/lib/python3.10/dist-packages/statsmodels/regression/linear_model.py:1967: RuntimeWarning: divide by zero encountered in scalar divide\n",
            "  return np.sqrt(eigvals[0]/eigvals[-1])\n"
          ]
        }
      ]
    },
    {
      "cell_type": "markdown",
      "source": [
        "# **FTSE Small Cap**"
      ],
      "metadata": {
        "id": "BxyaRVs74jzk"
      }
    },
    {
      "cell_type": "code",
      "source": [
        "# Define dependent and independent variables\n",
        "\n",
        "#  Define the dependent variable\n",
        "y = df['% FTSESmallCap Change']\n",
        "\n",
        "# Define the independent variables, including 'Change in SWAV' and the other control variables\n",
        "X = df[[ 'Change in SWAV'                           # Independent Variable: Weekly Change in Stream Weighted Average Valence of UK Top Charts on Spotify\n",
        "                , 'ADS_Change'                              # Control 1: Weekly Change in Aruoba-Diebold-Scotti Business Conditions Index\n",
        "                , 'EPU_Change'                              # Control 2: Weekly Change in Economic Policy Uncertainty Index\n",
        "                , 'Previous Week % FTSESmallCap Change'          # Control 3: Weekly % Change in FTSE 100 from a week before\n",
        "                , '% MSCI Change'                           # Control 4: Weekly % Change in MSCI World Index\n",
        "                , 'Vix Close'                               # Control 5: Volaitlity Index of the day\n",
        "                , '7D_Rolling_Avg_Change_in_DCC'            # Control 6: Average Change in Deseasonalised Cloud Cover over the Last Week\n",
        "                , 'Stringency_Change'                       # Control 7: Weekly Change in Covid Stringency Rules\n",
        "                ]]\n",
        "\n",
        "# Add a constant to the model (intercept)\n",
        "X = sm.add_constant(X)\n",
        "\n",
        "# Build and fit the regression model\n",
        "model = sm.OLS(y, X).fit()\n",
        "\n",
        "# Print the summary of the regression model\n",
        "print(model.summary())"
      ],
      "metadata": {
        "colab": {
          "base_uri": "https://localhost:8080/"
        },
        "id": "MtZG91-94j6l",
        "outputId": "176c91b7-f57f-497c-f3ad-96a6a199895d"
      },
      "execution_count": 62,
      "outputs": [
        {
          "output_type": "stream",
          "name": "stdout",
          "text": [
            "                              OLS Regression Results                             \n",
            "=================================================================================\n",
            "Dep. Variable:     % FTSESmallCap Change   R-squared:                       0.426\n",
            "Model:                               OLS   Adj. R-squared:                  0.423\n",
            "Method:                    Least Squares   F-statistic:                     181.7\n",
            "Date:                   Tue, 13 Aug 2024   Prob (F-statistic):          1.71e-201\n",
            "Time:                           21:35:50   Log-Likelihood:                -1684.0\n",
            "No. Observations:                   1724   AIC:                             3384.\n",
            "Df Residuals:                       1716   BIC:                             3428.\n",
            "Df Model:                              7                                         \n",
            "Covariance Type:               nonrobust                                         \n",
            "=======================================================================================================\n",
            "                                          coef    std err          t      P>|t|      [0.025      0.975]\n",
            "-------------------------------------------------------------------------------------------------------\n",
            "const                                   0.0592      0.041      1.427      0.154      -0.022       0.140\n",
            "Change in SWAV                          0.8523      1.255      0.679      0.497      -1.610       3.314\n",
            "ADS_Change                              0.3078      0.067      4.589      0.000       0.176       0.439\n",
            "EPU_Change                          -7.397e-05   9.24e-05     -0.800      0.424      -0.000       0.000\n",
            "Previous Week % FTSESmallCap Change     0.1241      0.019      6.637      0.000       0.087       0.161\n",
            "% MSCI Change                           0.4847      0.015     31.579      0.000       0.455       0.515\n",
            "Vix Close                              -0.0034      0.002     -1.696      0.090      -0.007       0.001\n",
            "7D_Rolling_Avg_Change_in_DCC                 0          0        nan        nan           0           0\n",
            "Stringency_Change                      -0.3008      0.055     -5.441      0.000      -0.409      -0.192\n",
            "==============================================================================\n",
            "Omnibus:                     1132.170   Durbin-Watson:                   2.301\n",
            "Prob(Omnibus):                  0.000   Jarque-Bera (JB):           125534.566\n",
            "Skew:                           2.182   Prob(JB):                         0.00\n",
            "Kurtosis:                      44.576   Cond. No.                          inf\n",
            "==============================================================================\n",
            "\n",
            "Notes:\n",
            "[1] Standard Errors assume that the covariance matrix of the errors is correctly specified.\n",
            "[2] The smallest eigenvalue is      0. This might indicate that there are\n",
            "strong multicollinearity problems or that the design matrix is singular.\n"
          ]
        },
        {
          "output_type": "stream",
          "name": "stderr",
          "text": [
            "/usr/local/lib/python3.10/dist-packages/statsmodels/regression/linear_model.py:1967: RuntimeWarning: divide by zero encountered in scalar divide\n",
            "  return np.sqrt(eigvals[0]/eigvals[-1])\n"
          ]
        }
      ]
    },
    {
      "cell_type": "markdown",
      "source": [
        "# **FTSE All Share**"
      ],
      "metadata": {
        "id": "rEB_QO0r4AnW"
      }
    },
    {
      "cell_type": "code",
      "source": [
        "# Define dependent and independent variables\n",
        "\n",
        "#  Define the dependent variable\n",
        "y = df['% FTSEAllShare Change']\n",
        "\n",
        "# Define the independent variables, including 'Change in SWAV' and the other control variables\n",
        "X = df[[ 'Change in SWAV'                           # Independent Variable: Weekly Change in Stream Weighted Average Valence of UK Top Charts on Spotify\n",
        "                , 'ADS_Change'                              # Control 1: Weekly Change in Aruoba-Diebold-Scotti Business Conditions Index\n",
        "                , 'EPU_Change'                              # Control 2: Weekly Change in Economic Policy Uncertainty Index\n",
        "                , 'Previous Week % FTSEAllShare Change'          # Control 3: Weekly % Change in FTSE 100 from a week before\n",
        "                , '% MSCI Change'                           # Control 4: Weekly % Change in MSCI World Index\n",
        "                , 'Vix Close'                               # Control 5: Volaitlity Index of the day\n",
        "                , '7D_Rolling_Avg_Change_in_DCC'            # Control 6: Average Change in Deseasonalised Cloud Cover over the Last Week\n",
        "                , 'Stringency_Change'                       # Control 7: Weekly Change in Covid Stringency Rules\n",
        "                ]]\n",
        "\n",
        "# Add a constant to the model (intercept)\n",
        "X = sm.add_constant(X)\n",
        "\n",
        "# Build and fit the regression model\n",
        "model = sm.OLS(y, X).fit()\n",
        "\n",
        "# Print the summary of the regression model\n",
        "print(model.summary())"
      ],
      "metadata": {
        "colab": {
          "base_uri": "https://localhost:8080/"
        },
        "id": "W3W-jUUC4BCS",
        "outputId": "d14c9416-0c9b-42fb-a713-06ab618f827a"
      },
      "execution_count": 63,
      "outputs": [
        {
          "output_type": "stream",
          "name": "stderr",
          "text": [
            "/usr/local/lib/python3.10/dist-packages/statsmodels/regression/linear_model.py:1967: RuntimeWarning: divide by zero encountered in scalar divide\n",
            "  return np.sqrt(eigvals[0]/eigvals[-1])\n"
          ]
        },
        {
          "output_type": "stream",
          "name": "stdout",
          "text": [
            "                              OLS Regression Results                             \n",
            "=================================================================================\n",
            "Dep. Variable:     % FTSEAllShare Change   R-squared:                       0.470\n",
            "Model:                               OLS   Adj. R-squared:                  0.468\n",
            "Method:                    Least Squares   F-statistic:                     217.3\n",
            "Date:                   Tue, 13 Aug 2024   Prob (F-statistic):          3.22e-231\n",
            "Time:                           21:35:50   Log-Likelihood:                -1876.2\n",
            "No. Observations:                   1724   AIC:                             3768.\n",
            "Df Residuals:                       1716   BIC:                             3812.\n",
            "Df Model:                              7                                         \n",
            "Covariance Type:               nonrobust                                         \n",
            "=======================================================================================================\n",
            "                                          coef    std err          t      P>|t|      [0.025      0.975]\n",
            "-------------------------------------------------------------------------------------------------------\n",
            "const                                   0.0005      0.046      0.010      0.992      -0.090       0.091\n",
            "Change in SWAV                         -0.6980      1.403     -0.497      0.619      -3.450       2.054\n",
            "ADS_Change                              0.1362      0.075      1.818      0.069      -0.011       0.283\n",
            "EPU_Change                          -1.578e-05      0.000     -0.153      0.879      -0.000       0.000\n",
            "Previous Week % FTSEAllShare Change     0.0218      0.018      1.227      0.220      -0.013       0.057\n",
            "% MSCI Change                           0.6419      0.017     37.364      0.000       0.608       0.676\n",
            "Vix Close                              -0.0009      0.002     -0.409      0.683      -0.005       0.003\n",
            "7D_Rolling_Avg_Change_in_DCC                 0          0        nan        nan           0           0\n",
            "Stringency_Change                      -0.1051      0.062     -1.708      0.088      -0.226       0.016\n",
            "==============================================================================\n",
            "Omnibus:                      155.176   Durbin-Watson:                   2.269\n",
            "Prob(Omnibus):                  0.000   Jarque-Bera (JB):              931.662\n",
            "Skew:                          -0.142   Prob(JB):                    4.92e-203\n",
            "Kurtosis:                       6.590   Cond. No.                          inf\n",
            "==============================================================================\n",
            "\n",
            "Notes:\n",
            "[1] Standard Errors assume that the covariance matrix of the errors is correctly specified.\n",
            "[2] The smallest eigenvalue is      0. This might indicate that there are\n",
            "strong multicollinearity problems or that the design matrix is singular.\n"
          ]
        }
      ]
    }
  ],
  "metadata": {
    "colab": {
      "provenance": [],
      "authorship_tag": "ABX9TyPi+YNAZculSFCUxirW+Mez",
      "include_colab_link": true
    },
    "kernelspec": {
      "display_name": "Python 3",
      "name": "python3"
    },
    "language_info": {
      "name": "python"
    }
  },
  "nbformat": 4,
  "nbformat_minor": 0
}